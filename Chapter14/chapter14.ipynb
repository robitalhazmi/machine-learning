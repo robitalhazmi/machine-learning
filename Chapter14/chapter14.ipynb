{
 "cells": [
  {
   "attachments": {},
   "cell_type": "markdown",
   "metadata": {},
   "source": [
    "# Using Amazon Web Services"
   ]
  },
  {
   "attachments": {},
   "cell_type": "markdown",
   "metadata": {},
   "source": [
    "When there is a lot of data and a lot of computation to be performed, start to crave more computing power. Amazon (https://aws.amazon.com) allows user to rent computing power\n",
    "by the hour. There are other competitors in this market, but Amazon is the largest player, so it is briefly covered here."
   ]
  },
  {
   "attachments": {},
   "cell_type": "markdown",
   "metadata": {},
   "source": [
    "Amazon Web Services (AWS) is a large set of services. This notebook will focus only on the Elastic Compute Cloud (EC2) service. This service offers virtual machines and disk space, which can be allocated and deallocated quickly."
   ]
  },
  {
   "attachments": {},
   "cell_type": "markdown",
   "metadata": {},
   "source": [
    "There are multiple ways to pay for Amazon EC2 instances: On-Demand, Savings Plans, Reserved Instances, and Spot Instances."
   ]
  },
  {
   "attachments": {},
   "cell_type": "markdown",
   "metadata": {},
   "source": [
    "On top of this general system, there are several types of machines available with varying costs, from a single core to a multicore system with a lot of RAM or even graphical processing units (GPUs). This notebook will work on the examples on Linux, but most of this information will be valid for Windows machines as well."
   ]
  },
  {
   "attachments": {},
   "cell_type": "markdown",
   "metadata": {},
   "source": [
    "For testing, a single machine in the free tier can be used. Note, though, that this machine contains a slow CPU."
   ]
  },
  {
   "attachments": {},
   "cell_type": "markdown",
   "metadata": {},
   "source": [
    "The resources can be managed through a web interface. However, it's also possible to do so programmatically and to write scripts that allocate virtual machines, format hard disks, and perform all operations that are possible through the web interface. In fact, while the web interface changes very frequently (and some of the screenshots thas are shown in the notebook may be out of date by the time), the programmatic interface is more stable, and the general architecture has remained stable since the service was introduced."
   ]
  },
  {
   "attachments": {},
   "cell_type": "markdown",
   "metadata": {},
   "source": [
    "Access to AWS services is performed through a traditional username/password system, although Amazon calls the username an access key and the password a secret key. In fact, access/secret key pairs can be created as many as the user wishes and give them different permissions. This is helpful for a larger team, where a senior user with access to the full web panel can create other keys for developers with fewer privileges."
   ]
  },
  {
   "attachments": {},
   "cell_type": "markdown",
   "metadata": {},
   "source": [
    "Amazon.com has several regions. If data is being transferred, it's best to keep it close to where user will be transferring to and from."
   ]
  },
  {
   "attachments": {},
   "cell_type": "markdown",
   "metadata": {},
   "source": [
    "Additionally, keep in mind that if AWS user is handling user information, there may be regulatory issues regarding transfer to another jurisdiction. In this case, do check with an informed counsel on the implications of transferring data about European customers to the US or any other similar transfer."
   ]
  },
  {
   "attachments": {},
   "cell_type": "markdown",
   "metadata": {},
   "source": [
    "# Creating the first virtual machines"
   ]
  },
  {
   "attachments": {},
   "cell_type": "markdown",
   "metadata": {},
   "source": [
    "The first step is to go to https://aws.amazon.com/ and create an account. In this example, a few machines will be used, so it may cost a few dollars if it want to be run through. If a credit card is not ready to be taken out just yet, read the notebook to learn what AWS provides, without going through the examples. Then a more informed decision on whether to sign up can be made:\n",
    "1. Once user sign up for AWS and log in, user will be taken to the console. Here, the many services that AWS provides will be seen, as depicted in the following screenshot:\n",
    "# ![AWS services](./AWS%20services.jpeg)\n",
    "2. First create a user using the Identity and Access Management service. Add a user, which in the screenshot is called aws_ml, and assign it programmatic access:\n",
    "# ![IAM user](./IAM%20user.PNG)\n",
    "3. A group is created for the user (called EC2_FULL in the following screenshot) and give it the AmazonEC2FullAccess permissions. Assigning the right permissions is very important, or later steps will fail with permission errors:\n",
    "# ![IAM group](./IAM%20group.PNG)\n",
    "4. Finally, at the very end, the information must be copied, namely, the access key. The CSV file can be simply downloaded and saveed. Again, if this information is not saved, later steps will fail:\n",
    "# ![IAM access key](./IAM%20access%20key.PNG)\n",
    "5. Now, go back to the console and this time, EC2 is picked and clicked on (the top element in the Compute column). The EC2 management console is now seen, as shown in the following screenshot:\n",
    "# ![EC2 management console](./EC2%20management%20console.png)\n",
    "6. In the top-right corner, the region can be picked (see the Amazon regions information box). Note that information about the region that has been selected will only be seen.\n",
    "Thus, if the wrong region is mistakenly selected (or there are machines running in multiple regions), the machines may not appear (this seems to be a common pitfall of using the EC2 web management console).\n",
    "7. In EC2 parlance, a running server is called an instance. Launch Instance is selected, which leads to the following screen asking to select the operating system to use:\n",
    "# ![EC2 Application and OS Images](./EC2%20Application%20and%20OS%20Images.PNG)\n",
    "8. Select the Amazon Linux option (if familiar with one of the other offered Linux distributions, such as Red Hat, SUSE, or Ubuntu, one of them can also be selected, but the configurations will be slightly different).\n",
    "9. One instance of the t2.micro type will be started with (the t1.micro type was an older, even less powerful machine):\n",
    "# ![EC2 Instance type](./EC2%20Instance%20type.PNG)\n",
    "10. The name awskeys will be picked for the key pair. Then check Create a new key pair. Name the key pair file awskeys.pem. Download and save this file somewhere safe! This is\n",
    "the Secure Shell (SSH) key that will enable to log in to the cloud machine. Accept the remaining defaults and the instance will launch:\n",
    "# ![EC2 key pair](./EC2%20key%20pair.PNG)\n",
    "11. Wait a few minutes for the instance to come up. Eventually, the instance will be shown in green with the status as running:\n",
    "# ![EC2 instance](./EC2%20instance.PNG)\n",
    "12. In the preceding screenshot, you should see the Public IP which can be used to log in to the instance as follows:\n",
    "# ![EC2 connect to instance](./EC2%20connect%20to%20instance.PNG)\n",
    "13. Therefore, the ssh command will be called and passed the key files that have been downloaded earlier as the identity (using the -i option). Log in as the user ec2-user on the machine with the IP DNS ec2-18-143-156-57.ap-southeast-1.compute.amazonaws.com. This address will, of course, be different in another case. If another distribution is chosen for the instance, the username may also change. In this case, try logging in as root, ubuntu (for Ubuntu distribution), or fedora (for Fedora distribution).\n",
    "14. Finally, if a Unix-style operating system (including macOS) is being run, its permissions may have to be tweaked by calling the following command:\n",
    "# ![EC2 permissions](./EC2%20permissions.PNG)\n",
    "This sets the read/write permission for the current user only. SSH will otherwise give an ugly warning.\n",
    "15. Now it should be able to log in to the machine. If everything is okay, the banner should be seen, as shown in the following screenshot:\n",
    "# ![EC2 log in to the machine](./EC2%20log%20in%20to%20the%20machine.PNG)\n",
    "This is a regular Linux box where user has sudo permission: any command can be run as a superuser by prefixing it with sudo."
   ]
  },
  {
   "attachments": {},
   "cell_type": "markdown",
   "metadata": {},
   "source": [
    "# Installing Python packages on Amazon Linux"
   ]
  },
  {
   "attachments": {},
   "cell_type": "markdown",
   "metadata": {},
   "source": [
    "If another distribution is chosen, the knowledge of that distribution can be used to install Python, NumPy, and others. Here, it will be done on the standard Amazon distribution:\n",
    "1. Start by installing several basic Python packages as follows:\n",
    "# ![Install basic Python packages](./Install%20basic%20Python%20packages.PNG)\n",
    "2. Now, follow the basic instructions and set the PATH variable as instructed:\n",
    "# ![Set the PATH variable](./Set%20the%20PATH%20variable.PNG)\n",
    "3. Now, a new environment can be created, which is called py3.10 (as it is a Python 3.10 environment) and activate it:\n",
    "# ![Create a new environment](./Create%20a%20new%20environment.PNG)"
   ]
  }
 ],
 "metadata": {
  "kernelspec": {
   "display_name": "Python 3",
   "language": "python",
   "name": "python3"
  },
  "language_info": {
   "name": "python",
   "version": "3.10.5 (tags/v3.10.5:f377153, Jun  6 2022, 16:14:13) [MSC v.1929 64 bit (AMD64)]"
  },
  "orig_nbformat": 4,
  "vscode": {
   "interpreter": {
    "hash": "637ae705f803667c56ed0f91243c315969acf752097d66324dd8683cb98a7579"
   }
  }
 },
 "nbformat": 4,
 "nbformat_minor": 2
}
