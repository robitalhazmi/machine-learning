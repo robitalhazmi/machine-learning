{
 "cells": [
  {
   "cell_type": "markdown",
   "metadata": {},
   "source": [
    "# Reinforcement Learning"
   ]
  },
  {
   "cell_type": "markdown",
   "metadata": {},
   "source": [
    "Deepmind marked the year 2017 by creating the best Go player in the world. How did they achieve this? With deep learning, of course, but more precisely with reinforcement learning."
   ]
  },
  {
   "cell_type": "markdown",
   "metadata": {},
   "source": [
    "Deep Blue beat human chess players with traditional game analysis. But this was not possible with Go, which was never solvable by computers until Deepmind created their network and its training methods. Because without training, the network is useless!"
   ]
  },
  {
   "cell_type": "markdown",
   "metadata": {},
   "source": [
    "This notebook, will include the following:\n",
    "* Look at different types of reinforcement learning\n",
    "* Explore the concept of Q-learning\n",
    "* Estimate a Q function via a table and via a neural network\n",
    "* Make a network play an Atari game using Q-learning"
   ]
  },
  {
   "cell_type": "markdown",
   "metadata": {},
   "source": [
    "## Types of reinforcement learning"
   ]
  },
  {
   "cell_type": "markdown",
   "metadata": {},
   "source": [
    "Reinforcement learning is part of the unsupervised learning space. This only thing that it can be done is to use the network, and if the network gets a good result, then it is used to enhance the model with backpropagation. Otherwise, try some more."
   ]
  },
  {
   "cell_type": "markdown",
   "metadata": {},
   "source": [
    "This approach can also be used in finance to optimize a portfolio; this can also be used for robots. In the past, people use genetic algorithms to train a walking robot, but now reinforcement learning can also be used for this task!"
   ]
  },
  {
   "cell_type": "markdown",
   "metadata": {},
   "source": [
    "Now there are neural networks that can come to the rescue. Look at a few of the main types of networks that have been given attention in the last few years."
   ]
  },
  {
   "cell_type": "markdown",
   "metadata": {},
   "source": [
    "### Policy and value network"
   ]
  },
  {
   "cell_type": "markdown",
   "metadata": {},
   "source": [
    "Start with solving Go. At each turn, the player places one of their stones (either white for the first player or black for the second) on the board, possibly changing the color of other stones in the process, and the games ends with whoever has the most stones of their color."
   ]
  },
  {
   "cell_type": "markdown",
   "metadata": {},
   "source": [
    "The issue is that the board is quite big, 19 x 19 squares, meaning that at the beginning there is a very big set of possible options. Which one leads to winning the game?"
   ]
  },
  {
   "cell_type": "markdown",
   "metadata": {},
   "source": [
    "For chess, this was solved without neural networks. For Go, it's not possible."
   ]
  },
  {
   "cell_type": "markdown",
   "metadata": {},
   "source": [
    "Enter deep learning. For Go, different possible moves still need to be analysed, but it won't try to be as exhaustive as in chess; Monte-Carlo Tree Search (MCTS) will instead be used. This means that a random uniform number will be drawn and from this number one move will be played. This is done for several moves in advance and then assess whether it is closer to winning or not."
   ]
  },
  {
   "cell_type": "markdown",
   "metadata": {},
   "source": [
    "But as it was seen before, it can't measure this is Go, so how is a move selected for the search and how it can be decided if it is winning or losing? This is why there are two networks. The policy network will provide the probabilities for the next move, and the value network will provide one value—either it thinks it is winning or it is losing."
   ]
  },
  {
   "cell_type": "markdown",
   "metadata": {},
   "source": [
    "Combined together, it is possible to generate a set of possible moves with their odds of success, and they can be played. At the end of the game, the information is used to reinforce the two networks."
   ]
  },
  {
   "cell_type": "markdown",
   "metadata": {},
   "source": [
    "Later, the new AlphaGo Zero merged these networks together. So it doesn't have to have a dichotomy for such problems, as it is possible to design an architecture that does both."
   ]
  },
  {
   "cell_type": "markdown",
   "metadata": {},
   "source": [
    "### Q-network"
   ]
  },
  {
   "cell_type": "markdown",
   "metadata": {},
   "source": [
    "Actually, Deepmind started making a name for themselves before Go. They were using what is called a Q-network to solve Atari games. These are a set of simple games where the gamer can play only up to 10 moves at each stage."
   ]
  },
  {
   "cell_type": "markdown",
   "metadata": {},
   "source": [
    "With these networks, the goal is to estimate a long-term reward function (like the number of points) and which move will maximize it. The reward function is the following:\n",
    "# ![Reward function](./Reward%20function.PNG)"
   ]
  },
  {
   "cell_type": "markdown",
   "metadata": {},
   "source": [
    "r is the reward, γ is a discounting factor (future gains are not as important as the immediate reward), s is the current state of the game, and a is the action we could take."
   ]
  },
  {
   "cell_type": "markdown",
   "metadata": {},
   "source": [
    "Of course, as it is continuously learning, it is also continuously forgetting, and the network will have to be fed with past training as well. To use a metaphor, it will end up running without being able to walk, which is quite useless."
   ]
  },
  {
   "cell_type": "markdown",
   "metadata": {},
   "source": [
    "## Excelling at games"
   ]
  },
  {
   "cell_type": "markdown",
   "metadata": {},
   "source": [
    "In the remainder of this notebook, Q-games will be used with the gym package. It offers a standard API for playing different types of games, so it's the perfect test case."
   ]
  },
  {
   "cell_type": "markdown",
   "metadata": {},
   "source": [
    "### A small example"
   ]
  },
  {
   "cell_type": "markdown",
   "metadata": {},
   "source": [
    "Anaconda doesn't ship this package, so it has to be installed though pip."
   ]
  },
  {
   "cell_type": "markdown",
   "metadata": {},
   "source": [
    "The Atari part of the gym won't be used, but it will be required for the breakout game."
   ]
  },
  {
   "cell_type": "markdown",
   "metadata": {},
   "source": [
    "From this package, an environment can be created for different games, like this:"
   ]
  },
  {
   "cell_type": "code",
   "execution_count": 1,
   "metadata": {},
   "outputs": [],
   "source": [
    "import gym\n",
    "\n",
    "env = gym.make('FrozenLake-v1')\n",
    "# env = gym.make('FrozenLake-v1', render_mode=\"human\")"
   ]
  },
  {
   "cell_type": "markdown",
   "metadata": {},
   "source": [
    "This creates a new environment for the text game FrozenLake. It consists of four four-character strings, starting with S and ending up at G, the goal. But there are holes (H) on the way to this goal, and ending up there makes you lose the game:\n",
    "* SFFF\n",
    "* FHFH\n",
    "* FFFH\n",
    "* HFFG"
   ]
  },
  {
   "cell_type": "markdown",
   "metadata": {},
   "source": [
    "From the environment, env.observation_space.n, the size of the observation space can be obtained which is 16 here (where the player is located) and the size of the action space env.action_space.n, which is 4 here."
   ]
  },
  {
   "cell_type": "markdown",
   "metadata": {},
   "source": [
    "As this is a small toy example, an estimation of Q(s, a) can be created:"
   ]
  },
  {
   "cell_type": "code",
   "execution_count": 2,
   "metadata": {},
   "outputs": [],
   "source": [
    "import numpy as np\n",
    "\n",
    "Q = np.zeros((env.observation_space.n, env.action_space.n))\n",
    "# Set learning hyperparameters\n",
    "lr = .8\n",
    "y = .95\n",
    "num_episodes = 2000\n",
    "# Let's run!\n",
    "for i in range(num_episodes):\n",
    "    # Reset environment and get first new observation (top left)\n",
    "    s = env.reset()[0]\n",
    "    # Do 100 iterations to update the table\n",
    "    for i in range(100):\n",
    "        # Choose an action by picking the max of the table\n",
    "        # + additional random noise ponderated by the episode\n",
    "        a = np.argmax(Q[s, :] + np.random.randn(1, env.action_space.n) / (i + 1))\n",
    "        # Get new state and reward from environment after chosen step\n",
    "        s1, r, d, _, _ = env.step(a)\n",
    "        # Update Q-Table with new knowledge\n",
    "        Q[s, a] = Q[s, a] + lr*(r + y*np.max(Q[s1, :]) - Q[s, a])\n",
    "        s = s1\n",
    "        if d == True:\n",
    "            break\n",
    "env.close()"
   ]
  },
  {
   "cell_type": "markdown",
   "metadata": {},
   "source": [
    "The content of the table Q can now be displayed:"
   ]
  },
  {
   "cell_type": "code",
   "execution_count": 3,
   "metadata": {},
   "outputs": [
    {
     "name": "stdout",
     "output_type": "stream",
     "text": [
      "[[2.35353103e-01 2.84779089e-01 2.23429867e-01 2.12372557e-01]\n",
      " [1.88241401e-01 4.52001808e-02 1.80317684e-01 2.18930039e-01]\n",
      " [2.28871423e-01 1.75582941e-01 2.14385818e-01 2.12904816e-01]\n",
      " [7.22573763e-03 2.40670417e-02 3.39415749e-02 1.91968138e-01]\n",
      " [3.23488676e-01 3.15051830e-01 4.75992334e-02 2.75157380e-03]\n",
      " [0.00000000e+00 0.00000000e+00 0.00000000e+00 0.00000000e+00]\n",
      " [2.89037491e-02 1.87592179e-04 4.54057436e-02 1.61117631e-06]\n",
      " [0.00000000e+00 0.00000000e+00 0.00000000e+00 0.00000000e+00]\n",
      " [2.96062910e-01 7.93530464e-02 7.27409368e-02 6.02012156e-01]\n",
      " [1.28748559e-01 7.34690744e-01 3.35043865e-02 1.82422165e-02]\n",
      " [9.18763811e-01 5.14144201e-03 3.51944512e-02 4.54669877e-02]\n",
      " [0.00000000e+00 0.00000000e+00 0.00000000e+00 0.00000000e+00]\n",
      " [0.00000000e+00 0.00000000e+00 0.00000000e+00 0.00000000e+00]\n",
      " [5.13667164e-02 6.32686398e-02 9.15365227e-01 6.92923602e-02]\n",
      " [1.04707356e-01 9.99730825e-01 1.90092743e-01 2.20898147e-01]\n",
      " [0.00000000e+00 0.00000000e+00 0.00000000e+00 0.00000000e+00]]\n"
     ]
    }
   ],
   "source": [
    "print(Q)"
   ]
  },
  {
   "cell_type": "markdown",
   "metadata": {},
   "source": [
    "All the entries that have 0 can be seen in some of the rows; these are the holes and the final goal stage. Starting from the first step, go through this table to a next step with probabilities given by these rows (after normalization)."
   ]
  },
  {
   "cell_type": "markdown",
   "metadata": {},
   "source": [
    "Of course, this is not a network, so use Tensorflow to make a network learn this table."
   ]
  },
  {
   "cell_type": "markdown",
   "metadata": {},
   "source": [
    "### Using Tensorflow for the text game"
   ]
  },
  {
   "cell_type": "markdown",
   "metadata": {},
   "source": [
    "Think of the type of architecture which is needed here. There is the state of the game as the input, and the goal is to make one of four values as the output. The game is simple enough that there is an optimal strategy, a unique path to get from the start to the goal. This means that the network can be very simple, with just one layer and a linear output: "
   ]
  },
  {
   "cell_type": "code",
   "execution_count": 4,
   "metadata": {},
   "outputs": [],
   "source": [
    "import tensorflow as tf\n",
    "\n",
    "y = 0.99\n",
    "e = 0.1 # 1 in 10 samples, a new action was chosen for the network\n",
    "num_episodes = 2000\n",
    "learning_rate = 0.1\n",
    "\n",
    "inputs = tf.keras.Input(shape=[None, 16], dtype=tf.float32, name=\"input\")\n",
    "Qout = tf.keras.layers.Dense(units=4, use_bias=False, name=\"dense\", kernel_initializer=tf.random_uniform_initializer(minval=0, maxval=.0125))(inputs)\n",
    "model = tf.keras.Model(inputs=inputs, outputs=Qout)\n",
    "# The optimizer will try to optimize\n",
    "trainer = tf.keras.optimizers.SGD(learning_rate=learning_rate)\n",
    "\n",
    "def train_step(inputs, nextQ):\n",
    "    \"\"\"Trains `net` on `example` using `optimizer`.\"\"\"\n",
    "    with tf.GradientTape() as tape:\n",
    "        Qout = model(inputs)\n",
    "        loss = tf.reduce_sum(tf.square(nextQ - Qout))\n",
    "    variables = model.trainable_variables\n",
    "    gradients = tape.gradient(loss, variables)\n",
    "    trainer.apply_gradients(zip(gradients, variables))\n",
    "    return loss"
   ]
  },
  {
   "cell_type": "markdown",
   "metadata": {},
   "source": [
    "For the training, it is needed to reintroduce new options, like the randomness that had been in the table before. To accomplish this, for every 10 predictions, a random action is sampled (this is called an epsilon-greedy strategy, and a variation of it will be reused later with the Atari games). Otherwise, the actual Q value is computed and the network is trained to match this result (updating the dense layer weights):"
   ]
  },
  {
   "cell_type": "code",
   "execution_count": 5,
   "metadata": {},
   "outputs": [
    {
     "name": "stdout",
     "output_type": "stream",
     "text": [
      "Percent of succesful episodes: 39.25\n"
     ]
    }
   ],
   "source": [
    "jList = []\n",
    "rList = []\n",
    "for i in range(num_episodes):\n",
    "    s = env.reset()[0]\n",
    "    rAll = 0\n",
    "    for j in range(100):\n",
    "        targetQ = model(np.identity(16)[s:s+1]).numpy()\n",
    "        a = tf.argmax(targetQ, 1).numpy()\n",
    "        # randomly choose a new state\n",
    "        # that may have not been encountered before\n",
    "        if np.random.rand(1) < e:\n",
    "            a[0] = env.action_space.sample()\n",
    "        s1, r, d, _, _ = env.step(a[0])\n",
    "        # Obtain the Q' values by feeding\n",
    "        # the new state through the network\n",
    "        Q1 = model(np.identity(16)[s1:s1 + 1])\n",
    "        # Obtain maxQ' and set the target value for chosen action.\n",
    "        targetQ[0, a[0]] = r + y*np.max(Q1)\n",
    "        # Train the network using target and predicted Q values\n",
    "        train_step(np.identity(16)[s:s+1], targetQ)\n",
    "        rAll += r\n",
    "        s = s1\n",
    "        if d == True:\n",
    "            # Reduce chance of random action as the model is trained.\n",
    "            e = 1 / ((i // 50) + 10)\n",
    "            break\n",
    "    jList.append(j)\n",
    "    rList.append(rAll)\n",
    "env.close()\n",
    "print(\"Percent of succesful episodes: {}\".format((sum(rList) / num_episodes)*100))"
   ]
  },
  {
   "attachments": {},
   "cell_type": "markdown",
   "metadata": {},
   "source": [
    "With this strategy, the layer gets around 40% success, but this value is biased. If we plot the evolution of the reward (averaged through time over 20 episodes), the network improves\n",
    "drastically over time:"
   ]
  },
  {
   "cell_type": "code",
   "execution_count": 6,
   "metadata": {},
   "outputs": [
    {
     "data": {
      "image/png": "[encoded data removed]",
      "text/plain": [
       "<Figure size 432x288 with 1 Axes>"
      ]
     },
     "metadata": {
      "needs_background": "light"
     },
     "output_type": "display_data"
    }
   ],
   "source": [
    "from scipy.signal import lfilter\n",
    "from matplotlib import pyplot as plt\n",
    "\n",
    "plt.plot(lfilter(np.ones(20)/20, [1], rList))\n",
    "plt.show()"
   ]
  },
  {
   "attachments": {},
   "cell_type": "markdown",
   "metadata": {},
   "source": [
    "And the same happens with the alive time:"
   ]
  },
  {
   "cell_type": "code",
   "execution_count": 7,
   "metadata": {},
   "outputs": [
    {
     "data": {
      "image/png": "[encoded data removed]",
      "text/plain": [
       "<Figure size 432x288 with 1 Axes>"
      ]
     },
     "metadata": {
      "needs_background": "light"
     },
     "output_type": "display_data"
    }
   ],
   "source": [
    "plt.plot(jList)\n",
    "plt.show()"
   ]
  },
  {
   "attachments": {},
   "cell_type": "markdown",
   "metadata": {},
   "source": [
    "It can be seen that when the network started to get better at rewards, it also managed to keep the player alive longer. Unfortunately, the network is still not the best at this task. A human would take only eight steps to finish the game."
   ]
  },
  {
   "attachments": {},
   "cell_type": "markdown",
   "metadata": {},
   "source": [
    "A similar strategy can now be used for the Atari games."
   ]
  },
  {
   "attachments": {},
   "cell_type": "markdown",
   "metadata": {},
   "source": [
    "### Playing breakout"
   ]
  },
  {
   "attachments": {},
   "cell_type": "markdown",
   "metadata": {},
   "source": [
    "The Atari games can be played in several ways. The first is the interaction way. Either a memory view or the displayed image (which is always the same) can be used."
   ]
  },
  {
   "attachments": {},
   "cell_type": "markdown",
   "metadata": {},
   "source": [
    "Start with an empty, simple breakout game:"
   ]
  },
  {
   "cell_type": "code",
   "execution_count": 8,
   "metadata": {},
   "outputs": [],
   "source": [
    "# Import the gym module\n",
    "import gym\n",
    "# Create a breakout environment\n",
    "env = gym.make('ALE/Breakout-v5')\n",
    "# env = gym.make('ALE/Breakout-v5', render_mode='human')\n",
    "# Reset it, returns the starting frame\n",
    "frame = env.reset()\n",
    "\n",
    "is_done = False\n",
    "while not is_done:\n",
    "    # Perform a random action, returns the new frame, reward and whether the game is over\n",
    "    frame, reward, is_done, _, _ = env.step(env.action_space.sample())\n",
    "env.close()"
   ]
  },
  {
   "attachments": {},
   "cell_type": "markdown",
   "metadata": {},
   "source": [
    "The only thing that now needs to be modified is how to get the new step for the game. Well, it needs more than that: first it is needed to train a model!"
   ]
  },
  {
   "attachments": {},
   "cell_type": "markdown",
   "metadata": {},
   "source": [
    "Look at the context. Images can be obtained from the environment (they are 160 x 210 pixels), and considering the fact that lots of previous images will be required, this size may be too much to fit on one computer. One pixel can be dropped out of two in all directions, for instance, so this is what preprocess will achieve. Two functions that transpose the internal state will also be added. The reason is that there are images that are 84 x 105 with one channel, but past images need to be used to know in which direction the ball moves. To achieve this, this state is transposed on the fly to have an image that is 84 x 105 x state_length:"
   ]
  },
  {
   "cell_type": "code",
   "execution_count": 9,
   "metadata": {},
   "outputs": [],
   "source": [
    "import os\n",
    "import six\n",
    "import numpy as np\n",
    "import tensorflow as tf\n",
    "import random\n",
    "import itertools\n",
    "from collections import deque , namedtuple\n",
    "\n",
    "Transition = namedtuple(\"Transition\", [\"state\", \"action\", \"reward\", \"next_state\", \"done\"])\n",
    "def to_grayscale(img):\n",
    "    return np.mean(img, axis=2).astype(np.uint8)\n",
    "\n",
    "def downsample(img):\n",
    "    return img[::2, ::2]\n",
    "\n",
    "def preprocess(img):\n",
    "    return to_grayscale(downsample(img))[None,:,:]\n",
    "\n",
    "def adapt_state(state):\n",
    "    return np.expand_dims(np.float32(np.transpose(state, (2, 1, 0)) / 255.0), axis=0)\n",
    "\n",
    "def adapt_batch_state(state):\n",
    "    return np.transpose(np.array(state), (0, 3, 2, 1)) / 255.0\n",
    "\n",
    "def get_initial_state(frame, state_length):\n",
    "    processed_frame = preprocess(frame)\n",
    "    state = [processed_frame for _ in range(state_length)]\n",
    "    return np.concatenate(state)"
   ]
  },
  {
   "attachments": {},
   "cell_type": "markdown",
   "metadata": {},
   "source": [
    "Although all the Atari games can be made work with the network that are being built, there is one issue. Every other pixel is just being taken in each direction. But what happens if space invaders are being played with a one-pixel-width missile? There is a 50/50 chance that we will die without seeing the missile!"
   ]
  },
  {
   "attachments": {},
   "cell_type": "markdown",
   "metadata": {},
   "source": [
    "To make this better, skimage.rescale could be used instead. For breakout, it isn't needed, so this is left as an exercise."
   ]
  },
  {
   "attachments": {},
   "cell_type": "markdown",
   "metadata": {},
   "source": [
    "A set of hyperparameters is now going to be written, as well as some constants for the game, like the name of the environment and the size of the image:"
   ]
  },
  {
   "cell_type": "code",
   "execution_count": 10,
   "metadata": {},
   "outputs": [],
   "source": [
    "env_name = 'ALE/Breakout-v5'\n",
    "width = 80 # Resized frame width\n",
    "height = 105 # Resized frame height"
   ]
  },
  {
   "attachments": {},
   "cell_type": "markdown",
   "metadata": {},
   "source": [
    "The network is need to be trained for a very long time, so play 12000 games. To predict a new action, the past 4 images will be used:"
   ]
  },
  {
   "cell_type": "code",
   "execution_count": 11,
   "metadata": {},
   "outputs": [],
   "source": [
    "n_episodes = 12000 # Number of runs for the agent\n",
    "state_length = 4 # Number of most frames that is inputted to the network"
   ]
  },
  {
   "attachments": {},
   "cell_type": "markdown",
   "metadata": {},
   "source": [
    "The parameters are also going to need to be set for the Q function:"
   ]
  },
  {
   "cell_type": "code",
   "execution_count": 12,
   "metadata": {},
   "outputs": [],
   "source": [
    "gamma = 0.99 # Discount factor"
   ]
  },
  {
   "attachments": {},
   "cell_type": "markdown",
   "metadata": {},
   "source": [
    "At the beginning, the goal is to test very often a random action (left or right for breakout). Then during the training, the randomness will be progressively removed (this is the epsilon-greedy strategy). Each time the network is run, this one step is considered, so reduce this random factor by over 1 million steps:"
   ]
  },
  {
   "cell_type": "code",
   "execution_count": 13,
   "metadata": {},
   "outputs": [],
   "source": [
    "# During all these steps, epsilon is progressively lowered\n",
    "exploration_steps = 1000000\n",
    "initial_epsilon = 1.0 # Initial value of epsilon in epsilon-greedy\n",
    "final_epsilon = 0.1 # Final value of epsilon in epsilon-greedy"
   ]
  },
  {
   "attachments": {},
   "cell_type": "markdown",
   "metadata": {},
   "source": [
    "The collection of actions need to be filled in, so at the beginning it isn't trained, the game is just let play with random actions. This is going to be the initial training set, and over time all the games will be added to this set of training set. When it hits 400000 elements, the old is started dumping, more random training states:"
   ]
  },
  {
   "cell_type": "code",
   "execution_count": 14,
   "metadata": {},
   "outputs": [],
   "source": [
    "# Number of steps to populate the replay memory before training starts\n",
    "initial_random_search = 20000\n",
    "replay_memory_size = 400000 # Number of states that is kept for training\n",
    "replay_memory_init_size = 40000\n",
    "batch_size = 32 # Batch size\n",
    "network_update_interval = 10000 # The frequency with which the target network is updated"
   ]
  },
  {
   "attachments": {},
   "cell_type": "markdown",
   "metadata": {},
   "source": [
    "RMSProp will be used to train the network, a very low learning rate with momentum is set:"
   ]
  },
  {
   "cell_type": "code",
   "execution_count": 15,
   "metadata": {},
   "outputs": [],
   "source": [
    "learning_rate = 0.00025 # Learning rate used by RMSProp\n",
    "momentum = 0.95 # momentum used by RMSProp\n",
    "# Constant added to the squared gradient in the denominator\n",
    "# of the RMSProp update\n",
    "min_gradient = 0.01"
   ]
  },
  {
   "attachments": {},
   "cell_type": "markdown",
   "metadata": {},
   "source": [
    "Finally, the trained network will be stored through time (with some checkpoints so that the training can be restarted at some partially trained state), and some information will be stored to Tensorboard, like the reward that was found and the length of a game:"
   ]
  },
  {
   "cell_type": "code",
   "execution_count": 16,
   "metadata": {},
   "outputs": [],
   "source": [
    "network_path = 'saved_networks/' + env_name\n",
    "tensorboard_path = 'summary/' + env_name\n",
    "save_interval = 300000 # The frequency with which the network is saved"
   ]
  },
  {
   "attachments": {},
   "cell_type": "markdown",
   "metadata": {},
   "source": [
    "The network class can now be created. One instance for each network will be created. Yes, two networks are needed—one to estimate the next action to take and one to estimate the Q values or targets. From time to time, the network will be updated for action (named q_estimator here) to the target estimator (named target_estimator)."
   ]
  },
  {
   "attachments": {},
   "cell_type": "markdown",
   "metadata": {},
   "source": [
    "Keras were used in this case to build the network. It stacks three convolutional layers (without max pool layers, although some nodes are dropped to reduce the number of parameters) and then two dense layers. All of them use a relu activation later."
   ]
  },
  {
   "attachments": {},
   "cell_type": "markdown",
   "metadata": {},
   "source": [
    "Note that keras is a high-level interface. In this example, Sequential is used which means that each layer connects to the previous one."
   ]
  },
  {
   "attachments": {},
   "cell_type": "markdown",
   "metadata": {},
   "source": [
    "With the network, a cost function can now be created and it can be fed to an optimizer. Some summary reports are also added to check the distribution of Q or loss values:"
   ]
  },
  {
   "cell_type": "code",
   "execution_count": 17,
   "metadata": {},
   "outputs": [],
   "source": [
    "class Estimator():\n",
    "    \"\"\"Q-Value Estimator neural network.\n",
    "    This network is used for both the Q-Network and the Target Network.\n",
    "    \"\"\"\n",
    "    def __init__(self, env, scope=\"estimator\", summaries_dir=None, width=None, height=None, state_length=None, learning_rate=None, momentum=None, min_gradient=None):\n",
    "        self.scope = scope\n",
    "        self.num_actions = env.action_space.n\n",
    "        self.epsilon = initial_epsilon\n",
    "        self.epsilon_step = (initial_epsilon - final_epsilon) / exploration_steps\n",
    "        # Writes Tensorboard summaries to disk\n",
    "        self.summary_writer = None\n",
    "        # Build the graph\n",
    "        self.width = width\n",
    "        self.height = height\n",
    "        self.state_length = state_length\n",
    "        self.learning_rate = learning_rate\n",
    "        self.momentum = momentum\n",
    "        self.min_gradient = min_gradient\n",
    "        self.build_model()\n",
    "        if summaries_dir:\n",
    "            self.summary_dir = os.path.join(summaries_dir, \"summaries_{}\".format(scope))\n",
    "            if not os.path.exists(self.summary_dir):\n",
    "                os.makedirs(self.summary_dir)\n",
    "            self.summary_writer = tf.summary.create_file_writer(self.summary_dir)\n",
    "        \n",
    "    def build_model(self):\n",
    "        \"\"\"\n",
    "        Builds the Tensorflow graph.\n",
    "        \"\"\"\n",
    "        self.model = tf.keras.Sequential()\n",
    "        self.model.add(tf.keras.layers.Convolution2D(filters=32, kernel_size=8, strides=(4, 4), activation='relu', input_shape = (width, height, state_length), name=\"Layer1\"))\n",
    "        self.model.add(tf.keras.layers.Convolution2D(filters=64, kernel_size=4, strides=(2, 2), activation='relu', name=\"Layer2\"))\n",
    "        self.model.add(tf.keras.layers.Convolution2D(filters=64, kernel_size=3, strides=(1, 1), activation='relu', name=\"Layer3\"))\n",
    "        self.model.add(tf.keras.layers.Flatten(name=\"Flatten\"))\n",
    "        self.model.add(tf.keras.layers.Dense(512, activation='relu', name=\"Layer4\"))\n",
    "        self.model.add(tf.keras.layers.Dense(self.num_actions, name=\"Output\"))\n",
    "        self.optimizer = tf.keras.optimizers.RMSprop(learning_rate=self.learning_rate, momentum=self.momentum, epsilon=self.min_gradient)\n",
    "\n",
    "    def train_step(self, x, y, actions):\n",
    "        with tf.GradientTape() as tape:\n",
    "            predictions = self.model(x)\n",
    "            a_one_hot = tf.one_hot(actions, self.num_actions, 1.0, 0.0)\n",
    "            q_value = tf.math.reduce_sum(tf.math.multiply(predictions, a_one_hot), axis=1)\n",
    "            losses = tf.math.squared_difference(y, q_value)\n",
    "            loss = tf.math.reduce_mean(losses)\n",
    "        variables = self.model.trainable_variables\n",
    "        gradients = tape.gradient(loss, variables)\n",
    "        self.optimizer.apply_gradients(zip(gradients, variables))\n",
    "        return predictions, losses, loss\n",
    "\n",
    "    @tf.function\n",
    "    def predict(self, s):\n",
    "        return self.model(s)\n",
    "\n",
    "    def update(self, s, a, y, global_step):\n",
    "        predictions, losses, loss = self.train_step(s, y, a)\n",
    "        if self.summary_writer:\n",
    "            with self.summary_writer.as_default():\n",
    "                tf.summary.scalar(\"loss\", loss, step=global_step)\n",
    "                tf.summary.histogram(\"loss_hist\", losses, step=global_step)\n",
    "                tf.summary.histogram(\"q_values_hist\", predictions, step=global_step)\n",
    "                tf.summary.scalar(\"max_q_value\", tf.reduce_max(predictions), step=global_step)\n",
    "        return loss\n",
    "\n",
    "    def get_action(self, state):\n",
    "        if self.epsilon >= random.random():\n",
    "            action = random.randrange(self.num_actions)\n",
    "        else:\n",
    "            action = np.argmax(self.predict(adapt_state(state)))\n",
    "        # Decay epsilon over time\n",
    "        if self.epsilon > final_epsilon:\n",
    "            self.epsilon -= self.epsilon_step\n",
    "        return action\n",
    "\n",
    "    def get_trained_action(self, state):\n",
    "        action = np.argmax(self.predict(adapt_state(state)))\n",
    "        return action"
   ]
  },
  {
   "attachments": {},
   "cell_type": "markdown",
   "metadata": {},
   "source": [
    "A method is added to wrap the prediction, as it will be used in several places—firstly in an update method that will actually train this estimator. There are also two methods to retrieve an action, either with an epsilon-greedy strategy or without (after the training):"
   ]
  },
  {
   "cell_type": "code",
   "execution_count": 18,
   "metadata": {},
   "outputs": [],
   "source": [
    "def copy_model_parameters(estimator1, estimator2):\n",
    "    \"\"\"\n",
    "    Copies the model parameters of one estimator to another.\n",
    "    Args:\n",
    "    estimator1: Estimator to copy the paramters from\n",
    "    estimator2: Estimator to copy the parameters to\n",
    "    \"\"\"\n",
    "    e1_params = sorted(estimator1.trainable_variables, key=lambda v: v.name)\n",
    "    e2_params = sorted(estimator2.trainable_variables, key=lambda v: v.name)\n",
    "    update_ops = []\n",
    "    for e1_v, e2_v in zip(e1_params, e2_params):\n",
    "        op = e2_v.assign(e1_v)\n",
    "        update_ops.append(op)\n",
    "    return update_ops"
   ]
  },
  {
   "attachments": {},
   "cell_type": "markdown",
   "metadata": {},
   "source": [
    "This is the function that will be calld to update one estimator from another. This creates a set of operations that will be run later:"
   ]
  },
  {
   "cell_type": "code",
   "execution_count": 19,
   "metadata": {},
   "outputs": [],
   "source": [
    "def create_memory(env, state_length, replay_memory_init_size):\n",
    "    # Populate the replay memory with initial experience\n",
    "    replay_memory = deque()\n",
    "    frame = env.reset()[0]\n",
    "    state = get_initial_state(frame, state_length)\n",
    "    for i in range(replay_memory_init_size):\n",
    "        action = np.random.choice(np.arange(env.action_space.n))\n",
    "        frame, reward, done, _, _ = env.step(action)\n",
    "        next_state = np.append(state[1:, :, :], preprocess(frame), axis=0)\n",
    "        replay_memory.append(Transition(state, action, reward, next_state, done))\n",
    "        if done:\n",
    "            frame = env.reset()[0]\n",
    "            state = get_initial_state(frame, state_length)\n",
    "        else:\n",
    "            state = next_state\n",
    "    return replay_memory"
   ]
  },
  {
   "attachments": {},
   "cell_type": "markdown",
   "metadata": {},
   "source": [
    "This function creates an empty replay memory. This is required so that the game can learn something. So random moves are just played for a while and hope it will make the network gain some first-hand knowledge of the game. Of course, there is also the epsilon-greedy strategy that will add new moves to the game later. This will also help a lot:"
   ]
  },
  {
   "cell_type": "code",
   "execution_count": 20,
   "metadata": {},
   "outputs": [],
   "source": [
    "def update_op(summary_vars, summary_inputs):\n",
    "    return [summary_vars[i].assign(summary_inputs[i]) for i in range(len(summary_vars))]\n",
    "\n",
    "def setup_summary():\n",
    "    episode_total_reward = tf.Variable(0., name=\"EpisodeTotalReward\")\n",
    "    episode_avg_max_q = tf.Variable(0., name=\"EpisodeAvgMaxQ\")\n",
    "    episode_duration = tf.Variable(0., name=\"EpisodeDuration\")\n",
    "    episode_avg_loss = tf.Variable(0., name=\"EpisodeAverageLoss\")\n",
    "    summary_vars = [episode_total_reward, episode_avg_max_q, episode_duration, episode_avg_loss]\n",
    "    summary_inputs = [tf.cast(_, tf.float32) for _ in range(len(summary_vars))]\n",
    "    update_ops = update_op(summary_vars, summary_inputs)\n",
    "    return update_ops"
   ]
  },
  {
   "attachments": {},
   "cell_type": "markdown",
   "metadata": {},
   "source": [
    "All the variables that is required to be visualized in Tensorboard were defined here on top of the histograms from the estimator."
   ]
  },
  {
   "attachments": {},
   "cell_type": "markdown",
   "metadata": {},
   "source": [
    "During the training, use tensorboard --logdir=summary to visualize the evolution of the training and the performance of the network."
   ]
  },
  {
   "attachments": {},
   "cell_type": "markdown",
   "metadata": {},
   "source": [
    "The main training loop can be started by setting up the environment, estimators, and help functions"
   ]
  },
  {
   "cell_type": "code",
   "execution_count": 21,
   "metadata": {},
   "outputs": [],
   "source": [
    "from tqdm import tqdm\n",
    "\n",
    "env = gym.make(env_name)\n",
    "# env = gym.make(env_name, render_mode='human')\n",
    "# Create a global step variable\n",
    "global_step = tf.Variable(0, name='global_step', trainable=False)\n",
    "# Create estimators\n",
    "q_estimator = Estimator(env, scope=\"q\", summaries_dir=tensorboard_path, width=width, height=height, state_length=state_length, learning_rate=learning_rate, momentum=momentum, min_gradient=min_gradient)\n",
    "target_estimator = Estimator(env, scope=\"target_q\", width=width, height=height, state_length=state_length, learning_rate=learning_rate, momentum=momentum, min_gradient=min_gradient)\n",
    "copy_model = copy_model_parameters(q_estimator.model, target_estimator.model)\n",
    "update_ops = setup_summary()\n",
    "replay_memory = create_memory(env, state_length, replay_memory_init_size)"
   ]
  },
  {
   "attachments": {},
   "cell_type": "markdown",
   "metadata": {},
   "source": [
    "The Tensorflow process can be started and the network can be restored if there is a previous version stored in the save location:"
   ]
  },
  {
   "cell_type": "code",
   "execution_count": 22,
   "metadata": {},
   "outputs": [],
   "source": [
    "ckpt = tf.train.Checkpoint(step=tf.Variable(1), optimizer=q_estimator.optimizer, net=q_estimator.model)\n",
    "# Load a previous checkpoint if it is found\n",
    "manager = tf.train.CheckpointManager(ckpt, network_path, max_to_keep=3)\n",
    "latest_checkpoint = manager.latest_checkpoint\n",
    "if latest_checkpoint:\n",
    "    print(\"Loading model checkpoint {}...\\n\".format(latest_checkpoint))\n",
    "    ckpt.restore(latest_checkpoint)\n",
    "total_t = int(ckpt.step)"
   ]
  },
  {
   "attachments": {},
   "cell_type": "markdown",
   "metadata": {},
   "source": [
    "From here, games can be started playing. That first is done by saving the network if it is needs to be, and then the game state is set up."
   ]
  },
  {
   "attachments": {},
   "cell_type": "markdown",
   "metadata": {},
   "source": [
    "It is iterated forever in this game, taking an action and saving the state of this action in he replay memory. This way, when the network learns to play better, these better moves are also saved to learn them even better later."
   ]
  },
  {
   "attachments": {},
   "cell_type": "markdown",
   "metadata": {},
   "source": [
    "A set of states are obtained from the replay memory, with the reward, the action that was used, to estimate the Q value. Once this is obtained, the network is optimized to enhance its behavior. This is now where the network can be updated to play better, based on the target Q-network."
   ]
  },
  {
   "attachments": {},
   "cell_type": "markdown",
   "metadata": {},
   "source": [
    "Once the game is finished, the variables are saved to Tensorboard as well as capture a screenshot of the endgame:"
   ]
  },
  {
   "cell_type": "code",
   "execution_count": 23,
   "metadata": {},
   "outputs": [
    {
     "name": "stderr",
     "output_type": "stream",
     "text": [
      "  0%|          | 0/12000 [00:00<?, ?it/s]"
     ]
    },
    {
     "name": "stdout",
     "output_type": "stream",
     "text": [
      "WARNING:tensorflow:From c:\\Users\\robit\\miniconda3\\envs\\tf\\lib\\site-packages\\tensorflow\\python\\ops\\summary_ops_v2.py:1332: start (from tensorflow.python.eager.profiler) is deprecated and will be removed after 2020-07-01.\n",
      "Instructions for updating:\n",
      "use `tf.profiler.experimental.start` instead.\n"
     ]
    },
    {
     "name": "stderr",
     "output_type": "stream",
     "text": [
      "WARNING:tensorflow:From c:\\Users\\robit\\miniconda3\\envs\\tf\\lib\\site-packages\\tensorflow\\python\\ops\\summary_ops_v2.py:1332: start (from tensorflow.python.eager.profiler) is deprecated and will be removed after 2020-07-01.\n",
      "Instructions for updating:\n",
      "use `tf.profiler.experimental.start` instead.\n"
     ]
    },
    {
     "name": "stdout",
     "output_type": "stream",
     "text": [
      "WARNING:tensorflow:From c:\\Users\\robit\\miniconda3\\envs\\tf\\lib\\site-packages\\tensorflow\\python\\ops\\summary_ops_v2.py:1383: stop (from tensorflow.python.eager.profiler) is deprecated and will be removed after 2020-07-01.\n",
      "Instructions for updating:\n",
      "use `tf.profiler.experimental.stop` instead.\n"
     ]
    },
    {
     "name": "stderr",
     "output_type": "stream",
     "text": [
      "WARNING:tensorflow:From c:\\Users\\robit\\miniconda3\\envs\\tf\\lib\\site-packages\\tensorflow\\python\\ops\\summary_ops_v2.py:1383: stop (from tensorflow.python.eager.profiler) is deprecated and will be removed after 2020-07-01.\n",
      "Instructions for updating:\n",
      "use `tf.profiler.experimental.stop` instead.\n"
     ]
    },
    {
     "name": "stdout",
     "output_type": "stream",
     "text": [
      "WARNING:tensorflow:From c:\\Users\\robit\\miniconda3\\envs\\tf\\lib\\site-packages\\tensorflow\\python\\ops\\summary_ops_v2.py:1383: save (from tensorflow.python.eager.profiler) is deprecated and will be removed after 2020-07-01.\n",
      "Instructions for updating:\n",
      "`tf.python.eager.profiler` has deprecated, use `tf.profiler` instead.\n"
     ]
    },
    {
     "name": "stderr",
     "output_type": "stream",
     "text": [
      "WARNING:tensorflow:From c:\\Users\\robit\\miniconda3\\envs\\tf\\lib\\site-packages\\tensorflow\\python\\ops\\summary_ops_v2.py:1383: save (from tensorflow.python.eager.profiler) is deprecated and will be removed after 2020-07-01.\n",
      "Instructions for updating:\n",
      "`tf.python.eager.profiler` has deprecated, use `tf.profiler` instead.\n"
     ]
    },
    {
     "name": "stdout",
     "output_type": "stream",
     "text": [
      "WARNING:tensorflow:From c:\\Users\\robit\\miniconda3\\envs\\tf\\lib\\site-packages\\tensorflow\\python\\eager\\profiler.py:150: maybe_create_event_file (from tensorflow.python.eager.profiler) is deprecated and will be removed after 2020-07-01.\n",
      "Instructions for updating:\n",
      "`tf.python.eager.profiler` has deprecated, use `tf.profiler` instead.\n"
     ]
    },
    {
     "name": "stderr",
     "output_type": "stream",
     "text": [
      "WARNING:tensorflow:From c:\\Users\\robit\\miniconda3\\envs\\tf\\lib\\site-packages\\tensorflow\\python\\eager\\profiler.py:150: maybe_create_event_file (from tensorflow.python.eager.profiler) is deprecated and will be removed after 2020-07-01.\n",
      "Instructions for updating:\n",
      "`tf.python.eager.profiler` has deprecated, use `tf.profiler` instead.\n",
      "  7%|▋         | 854/12000 [8:48:44<202:18:56, 65.35s/it]"
     ]
    }
   ],
   "source": [
    "for episode in tqdm(range(n_episodes)):\n",
    "    if total_t % save_interval == 0:\n",
    "        # Save the current checkpoint\n",
    "        tf.saved_model.save(q_estimator.model, network_path)\n",
    "    frame = env.reset()[0]\n",
    "    state = get_initial_state(frame, state_length)\n",
    "    total_reward = 0\n",
    "    total_loss = 0\n",
    "    total_q_max = 0\n",
    "    tf.summary.trace_on(graph=True, profiler=True)\n",
    "    \n",
    "    for duration in itertools.count():\n",
    "        # Maybe update the target estimator\n",
    "        if total_t % network_update_interval == 0:\n",
    "            copy_model = copy_model_parameters(q_estimator.model, target_estimator.model)\n",
    "        action = q_estimator.get_action(state)\n",
    "        frame, reward, terminal, _, _ = env.step(action)\n",
    "        processed_frame = preprocess(frame)\n",
    "        next_state = np.append(state[1:, :, :], processed_frame, axis=0)\n",
    "        reward = np.clip(reward, -1, 1)\n",
    "        replay_memory.append(Transition(state, action, reward, next_state, terminal))\n",
    "        if len(replay_memory) > replay_memory_size:\n",
    "            replay_memory.popleft()\n",
    "        \n",
    "        samples = random.sample(replay_memory, batch_size)\n",
    "        states_batch, action_batch, reward_batch, next_states_batch, done_batch = map(np.array, zip(*samples))\n",
    "        # Calculate q values and targets (Double DQN)\n",
    "        adapted_state = adapt_batch_state(next_states_batch)\n",
    "        q_values_next = q_estimator.predict(adapted_state)\n",
    "        best_actions = np.argmax(q_values_next, axis=1)\n",
    "        q_values_next_target = target_estimator.predict(adapted_state)\n",
    "        targets_batch = reward_batch + np.invert(done_batch).astype(np.float32) * gamma * tf.gather_nd(q_values_next_target, indices=np.stack((np.arange(batch_size), best_actions), axis=1))\n",
    "        # Perform gradient descent update\n",
    "        states_batch = adapt_batch_state(states_batch)\n",
    "        loss = q_estimator.update(states_batch, action_batch, targets_batch, total_t)\n",
    "        total_q_max += np.max(q_values_next)\n",
    "        total_loss += loss\n",
    "        total_t += 1\n",
    "        total_reward += reward\n",
    "        if terminal:\n",
    "            break\n",
    "    stats = [total_reward, total_q_max / duration, duration, total_loss / duration]\n",
    "    update_op(update_ops, stats)\n",
    "    with q_estimator.summary_writer.as_default():\n",
    "        tf.summary.scalar('Total Reward', update_ops[0], step=episode)\n",
    "        tf.summary.scalar('Average Max Q', update_ops[1], step=episode)\n",
    "        tf.summary.scalar('Duration', update_ops[2], step=episode)\n",
    "        tf.summary.scalar('Average Loss', update_ops[3], step=episode)\n",
    "        tf.summary.trace_export(name=\"model_trace\", step=0, profiler_outdir=q_estimator.summary_dir)\n",
    "    env.env.ale.saveScreenPNG(six.b('./test_image_{}.png'.format(episode)))"
   ]
  },
  {
   "attachments": {},
   "cell_type": "markdown",
   "metadata": {},
   "source": [
    "The network can be trained over the 12,000 games with this final loop. For each iteration, a new action is resulted from the trained network (starting with lots of random ones) and the network is trained."
   ]
  },
  {
   "attachments": {},
   "cell_type": "markdown",
   "metadata": {},
   "source": [
    "Here is an example of the Tensorboard graphs for the previous code:\n",
    "# ![Tensorboard](./Tensorboard.jpeg)"
   ]
  },
  {
   "attachments": {},
   "cell_type": "markdown",
   "metadata": {},
   "source": [
    "After a long time, the average Q can be seen slowly improving, although the reward stays low. It can be seen that after the training the network is a bit better, but it will still require lots of games to be good!"
   ]
  },
  {
   "attachments": {},
   "cell_type": "markdown",
   "metadata": {},
   "source": [
    "On top of the graphs displaying the evolution of the training, Tensorboard also provides a view of the graph that supports the network. It shows for instance the different weights that is used for a certain cost. If they are reused, this will be very clear from the graph."
   ]
  },
  {
   "attachments": {},
   "cell_type": "markdown",
   "metadata": {},
   "source": [
    "This is another view available in Tensorboard when we called tf.summary.trace_export(name=\"model_trace\", step=0, profiler_outdir=q_estimator.summary_dir):\n",
    "# ![Graph](./Graph.png)"
   ]
  },
  {
   "attachments": {},
   "cell_type": "markdown",
   "metadata": {},
   "source": [
    "The next step is now to try different hyper parameters. After all, it isn't known if the network will end up learning the game. For instance, adding more episodes will enhance the ability to train, but what would changing the epsilon-greedy strategy do? Or the memory size? Or simply the batch size?"
   ]
  }
 ],
 "metadata": {
  "kernelspec": {
   "display_name": "Python 3.9.12 ('tf')",
   "language": "python",
   "name": "python3"
  },
  "language_info": {
   "codemirror_mode": {
    "name": "ipython",
    "version": 3
   },
   "file_extension": ".py",
   "mimetype": "text/x-python",
   "name": "python",
   "nbconvert_exporter": "python",
   "pygments_lexer": "ipython3",
   "version": "3.9.12"
  },
  "orig_nbformat": 4,
  "vscode": {
   "interpreter": {
    "hash": "bb10c97395ea5cdf25b3e4cc1279b09c9151507c5eaa579e2929031795931c93"
   }
  }
 },
 "nbformat": 4,
 "nbformat_minor": 2
}
