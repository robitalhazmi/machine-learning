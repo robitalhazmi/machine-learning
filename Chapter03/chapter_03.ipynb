{
 "cells": [
  {
   "cell_type": "markdown",
   "metadata": {},
   "source": [
    "# Predicting house prices with regression"
   ]
  },
  {
   "cell_type": "markdown",
   "metadata": {},
   "source": [
    "Start with a simple problem, namely, predicting house prices in California. The problem is as follows: given several demographic and geographical attributes, such as the median income or the median house age in the block group. The goal is to predict the median value of a house in a particular area. As in the case of classification, from some training data that is obtained and then want to build a model that can be generalized to other data."
   ]
  },
  {
   "cell_type": "markdown",
   "metadata": {},
   "source": [
    "This is one of the built-in datasets that scikit-learn comes with, so it is very easy to load the data into memory:"
   ]
  },
  {
   "cell_type": "code",
   "execution_count": 4,
   "metadata": {},
   "outputs": [],
   "source": [
    "from sklearn.datasets import fetch_california_housing\n",
    "\n",
    "housing = fetch_california_housing()"
   ]
  },
  {
   "cell_type": "markdown",
   "metadata": {},
   "source": [
    "The housing object contains several attributes; in particular, housing.data contains the input data and\n",
    "housing.target contains the price of houses in hundreds of thousands of dollars."
   ]
  },
  {
   "cell_type": "markdown",
   "metadata": {},
   "source": [
    "Start with a simple one-dimensional regression, trying to regress the price on a single attribute: the median income in the block group. The standard least squares regression method can be used."
   ]
  },
  {
   "cell_type": "markdown",
   "metadata": {},
   "source": [
    "The first attempt looks like this:"
   ]
  },
  {
   "cell_type": "code",
   "execution_count": 5,
   "metadata": {},
   "outputs": [],
   "source": [
    "from sklearn.linear_model import LinearRegression\n",
    "\n",
    "lr = LinearRegression()"
   ]
  },
  {
   "cell_type": "markdown",
   "metadata": {},
   "source": [
    "Import LinearRegression from the sklearn.linear_model module and construct a LinearRegression object. This object will behave analogously to the classifier objects from scikit-learn that was used earlier."
   ]
  },
  {
   "cell_type": "markdown",
   "metadata": {},
   "source": [
    "The feature that will be using is stored at position 0. The housing.target attribute contains the median house price (the target variable):"
   ]
  },
  {
   "cell_type": "code",
   "execution_count": 6,
   "metadata": {},
   "outputs": [
    {
     "data": {
      "text/html": [
       "<style>#sk-container-id-1 {color: black;background-color: white;}#sk-container-id-1 pre{padding: 0;}#sk-container-id-1 div.sk-toggleable {background-color: white;}#sk-container-id-1 label.sk-toggleable__label {cursor: pointer;display: block;width: 100%;margin-bottom: 0;padding: 0.3em;box-sizing: border-box;text-align: center;}#sk-container-id-1 label.sk-toggleable__label-arrow:before {content: \"▸\";float: left;margin-right: 0.25em;color: #696969;}#sk-container-id-1 label.sk-toggleable__label-arrow:hover:before {color: black;}#sk-container-id-1 div.sk-estimator:hover label.sk-toggleable__label-arrow:before {color: black;}#sk-container-id-1 div.sk-toggleable__content {max-height: 0;max-width: 0;overflow: hidden;text-align: left;background-color: #f0f8ff;}#sk-container-id-1 div.sk-toggleable__content pre {margin: 0.2em;color: black;border-radius: 0.25em;background-color: #f0f8ff;}#sk-container-id-1 input.sk-toggleable__control:checked~div.sk-toggleable__content {max-height: 200px;max-width: 100%;overflow: auto;}#sk-container-id-1 input.sk-toggleable__control:checked~label.sk-toggleable__label-arrow:before {content: \"▾\";}#sk-container-id-1 div.sk-estimator input.sk-toggleable__control:checked~label.sk-toggleable__label {background-color: #d4ebff;}#sk-container-id-1 div.sk-label input.sk-toggleable__control:checked~label.sk-toggleable__label {background-color: #d4ebff;}#sk-container-id-1 input.sk-hidden--visually {border: 0;clip: rect(1px 1px 1px 1px);clip: rect(1px, 1px, 1px, 1px);height: 1px;margin: -1px;overflow: hidden;padding: 0;position: absolute;width: 1px;}#sk-container-id-1 div.sk-estimator {font-family: monospace;background-color: #f0f8ff;border: 1px dotted black;border-radius: 0.25em;box-sizing: border-box;margin-bottom: 0.5em;}#sk-container-id-1 div.sk-estimator:hover {background-color: #d4ebff;}#sk-container-id-1 div.sk-parallel-item::after {content: \"\";width: 100%;border-bottom: 1px solid gray;flex-grow: 1;}#sk-container-id-1 div.sk-label:hover label.sk-toggleable__label {background-color: #d4ebff;}#sk-container-id-1 div.sk-serial::before {content: \"\";position: absolute;border-left: 1px solid gray;box-sizing: border-box;top: 0;bottom: 0;left: 50%;z-index: 0;}#sk-container-id-1 div.sk-serial {display: flex;flex-direction: column;align-items: center;background-color: white;padding-right: 0.2em;padding-left: 0.2em;position: relative;}#sk-container-id-1 div.sk-item {position: relative;z-index: 1;}#sk-container-id-1 div.sk-parallel {display: flex;align-items: stretch;justify-content: center;background-color: white;position: relative;}#sk-container-id-1 div.sk-item::before, #sk-container-id-1 div.sk-parallel-item::before {content: \"\";position: absolute;border-left: 1px solid gray;box-sizing: border-box;top: 0;bottom: 0;left: 50%;z-index: -1;}#sk-container-id-1 div.sk-parallel-item {display: flex;flex-direction: column;z-index: 1;position: relative;background-color: white;}#sk-container-id-1 div.sk-parallel-item:first-child::after {align-self: flex-end;width: 50%;}#sk-container-id-1 div.sk-parallel-item:last-child::after {align-self: flex-start;width: 50%;}#sk-container-id-1 div.sk-parallel-item:only-child::after {width: 0;}#sk-container-id-1 div.sk-dashed-wrapped {border: 1px dashed gray;margin: 0 0.4em 0.5em 0.4em;box-sizing: border-box;padding-bottom: 0.4em;background-color: white;}#sk-container-id-1 div.sk-label label {font-family: monospace;font-weight: bold;display: inline-block;line-height: 1.2em;}#sk-container-id-1 div.sk-label-container {text-align: center;}#sk-container-id-1 div.sk-container {/* jupyter's `normalize.less` sets `[hidden] { display: none; }` but bootstrap.min.css set `[hidden] { display: none !important; }` so we also need the `!important` here to be able to override the default hidden behavior on the sphinx rendered scikit-learn.org. See: https://github.com/scikit-learn/scikit-learn/issues/21755 */display: inline-block !important;position: relative;}#sk-container-id-1 div.sk-text-repr-fallback {display: none;}</style><div id=\"sk-container-id-1\" class=\"sk-top-container\"><div class=\"sk-text-repr-fallback\"><pre>LinearRegression()</pre><b>In a Jupyter environment, please rerun this cell to show the HTML representation or trust the notebook. <br />On GitHub, the HTML representation is unable to render, please try loading this page with nbviewer.org.</b></div><div class=\"sk-container\" hidden><div class=\"sk-item\"><div class=\"sk-estimator sk-toggleable\"><input class=\"sk-toggleable__control sk-hidden--visually\" id=\"sk-estimator-id-1\" type=\"checkbox\" checked><label for=\"sk-estimator-id-1\" class=\"sk-toggleable__label sk-toggleable__label-arrow\">LinearRegression</label><div class=\"sk-toggleable__content\"><pre>LinearRegression()</pre></div></div></div></div></div>"
      ],
      "text/plain": [
       "LinearRegression()"
      ]
     },
     "execution_count": 6,
     "metadata": {},
     "output_type": "execute_result"
    }
   ],
   "source": [
    "import numpy as np\n",
    "\n",
    "# Feature 0 is the number of rooms.\n",
    "x = housing.data[:, 0]\n",
    "y = housing.target\n",
    "x = np.transpose(np.atleast_2d(x))\n",
    "lr.fit(x, y)"
   ]
  },
  {
   "cell_type": "markdown",
   "metadata": {},
   "source": [
    "The only non-obvious line in this code block is the call to np.atleast_2d, which converts x from a one-dimensional to a two-dimensional array. Finally, for the dimensions to work out correctly and it is needed to transpose this array."
   ]
  },
  {
   "cell_type": "markdown",
   "metadata": {},
   "source": [
    "Note that methods are being called with fit and predict on the LinearRegression object, just as it was done with classifier objects, even though it is now performing regression. This regularity in the API is one of the nicer features of scikit-learn."
   ]
  },
  {
   "cell_type": "markdown",
   "metadata": {},
   "source": [
    "The fit can be easily plotted:"
   ]
  },
  {
   "cell_type": "code",
   "execution_count": 23,
   "metadata": {},
   "outputs": [
    {
     "data": {
      "image/png": "[encoded data removed]",
      "text/plain": [
       "<Figure size 432x288 with 1 Axes>"
      ]
     },
     "metadata": {
      "needs_background": "light"
     },
     "output_type": "display_data"
    }
   ],
   "source": [
    "from matplotlib import pyplot as plt\n",
    "\n",
    "fig, ax = plt.subplots()\n",
    "ax.scatter(x, y)\n",
    "xmin = x.min()\n",
    "xmax = x.max()\n",
    "ax.plot([xmin, xmax], [lr.predict(np.atleast_2d(xmin)), lr.predict(np.atleast_2d(xmax))], '-', lw=2, color=\"#f9a602\")\n",
    "ax.set_xlabel(\"Median income\")\n",
    "ax.set_ylabel(\"House Price\")\n",
    "plt.show()"
   ]
  },
  {
   "cell_type": "markdown",
   "metadata": {},
   "source": [
    "The preceding graph shows all the points (as dots) and the fit (the solid line)."
   ]
  },
  {
   "cell_type": "markdown",
   "metadata": {},
   "source": [
    "Ideally, though, It is needed to measure how good a fit this is quantitatively. This will be critical in order to be able to compare alternative methods. To do so, how close the prediction is to the true values can be measured. For this task, the mean_squared_error function from the sklearn.metrics module can be used:"
   ]
  },
  {
   "cell_type": "code",
   "execution_count": 11,
   "metadata": {},
   "outputs": [],
   "source": [
    "from sklearn.metrics import mean_squared_error"
   ]
  },
  {
   "cell_type": "markdown",
   "metadata": {},
   "source": [
    "This function takes two arguments, the true values and the predictions, as follows:"
   ]
  },
  {
   "cell_type": "code",
   "execution_count": 6,
   "metadata": {},
   "outputs": [
    {
     "name": "stdout",
     "output_type": "stream",
     "text": [
      "Mean squared error (of training data): 0.701\n"
     ]
    }
   ],
   "source": [
    "mse = mean_squared_error(y, lr.predict(x))\n",
    "print(\"Mean squared error (of training data): {:.3}\".format(mse))"
   ]
  },
  {
   "cell_type": "markdown",
   "metadata": {},
   "source": [
    "This value can sometimes be hard to interpret, and it's better to take the square root, to obtain the root mean square error (RMSE):"
   ]
  },
  {
   "cell_type": "code",
   "execution_count": 7,
   "metadata": {},
   "outputs": [
    {
     "name": "stdout",
     "output_type": "stream",
     "text": [
      "RMSE (of training data): 0.837\n"
     ]
    }
   ],
   "source": [
    "rmse = np.sqrt(mse)\n",
    "print(\"RMSE (of training data): {:.3}\".format(rmse))"
   ]
  },
  {
   "cell_type": "markdown",
   "metadata": {},
   "source": [
    "One advantage of using RMSE is that it enable to quickly obtain a very rough estimate of the error by multiplying it by two. In this case, the estimated price can be expected to be different from the real price by, at most, 167,000 dollars."
   ]
  },
  {
   "cell_type": "markdown",
   "metadata": {},
   "source": [
    "Root mean squared error and prediction:\n",
    "Root mean squared error corresponds approximately to an estimate of the standard deviation. Since most data is at most two standard deviations from the mean, by doubling the RMSE so that it obtains a rough confident interval. This is only completely valid if the errors are normally distributed, but it is often roughly correct even if they are not"
   ]
  },
  {
   "cell_type": "markdown",
   "metadata": {},
   "source": [
    "A number such as 0.837 is still hard to immediately understand without domain knowledge. Is this a good prediction? One possible way to answer this question is to compare it with the most simple baseline, the constant model. This idea is formalized in the coefficient of determination: https://en.wikipedia.org/wiki/Coefficient_of_determination"
   ]
  },
  {
   "cell_type": "markdown",
   "metadata": {},
   "source": [
    "The coefficient of determination can be obtained using the r2_score of the sklearn.metrics module:"
   ]
  },
  {
   "cell_type": "code",
   "execution_count": 12,
   "metadata": {},
   "outputs": [
    {
     "name": "stdout",
     "output_type": "stream",
     "text": [
      "R2 (on training data): 0.47\n"
     ]
    }
   ],
   "source": [
    "from sklearn.metrics import r2_score\n",
    "r2 = r2_score(y, lr.predict(x))\n",
    "print(\"R2 (on training data): {:.2}\".format(r2))"
   ]
  },
  {
   "cell_type": "markdown",
   "metadata": {},
   "source": [
    "This measure is also called the r2 score. If linear regression is being used and the error on the training data is being evaluated, then it does correspond to the square of the correlation coefficient, R. However, this measure is more general, and may even return a negative value."
   ]
  },
  {
   "cell_type": "markdown",
   "metadata": {},
   "source": [
    "An alternative way to compute the coefficient of determination is to use the score method of the LinearRegression object:"
   ]
  },
  {
   "cell_type": "code",
   "execution_count": 9,
   "metadata": {},
   "outputs": [
    {
     "name": "stdout",
     "output_type": "stream",
     "text": [
      "R2 (on training data): 0.47\n"
     ]
    }
   ],
   "source": [
    "r2 = lr.score(x, y)\n",
    "print(\"R2 (on training data): {:.2}\".format(r2))"
   ]
  },
  {
   "cell_type": "markdown",
   "metadata": {},
   "source": [
    "# Multidimensional regression"
   ]
  },
  {
   "cell_type": "markdown",
   "metadata": {},
   "source": [
    "So far, only a single variable has been used for prediction: the median income. Now try to predict a single output (the median house price) based on multiple inputs."
   ]
  },
  {
   "cell_type": "markdown",
   "metadata": {},
   "source": [
    "The code looks very much like before. In fact, it's even simpler as the value of housing.data can be now passed  directly to the fit method:"
   ]
  },
  {
   "cell_type": "code",
   "execution_count": 10,
   "metadata": {},
   "outputs": [
    {
     "data": {
      "text/html": [
       "<style>#sk-container-id-2 {color: black;background-color: white;}#sk-container-id-2 pre{padding: 0;}#sk-container-id-2 div.sk-toggleable {background-color: white;}#sk-container-id-2 label.sk-toggleable__label {cursor: pointer;display: block;width: 100%;margin-bottom: 0;padding: 0.3em;box-sizing: border-box;text-align: center;}#sk-container-id-2 label.sk-toggleable__label-arrow:before {content: \"▸\";float: left;margin-right: 0.25em;color: #696969;}#sk-container-id-2 label.sk-toggleable__label-arrow:hover:before {color: black;}#sk-container-id-2 div.sk-estimator:hover label.sk-toggleable__label-arrow:before {color: black;}#sk-container-id-2 div.sk-toggleable__content {max-height: 0;max-width: 0;overflow: hidden;text-align: left;background-color: #f0f8ff;}#sk-container-id-2 div.sk-toggleable__content pre {margin: 0.2em;color: black;border-radius: 0.25em;background-color: #f0f8ff;}#sk-container-id-2 input.sk-toggleable__control:checked~div.sk-toggleable__content {max-height: 200px;max-width: 100%;overflow: auto;}#sk-container-id-2 input.sk-toggleable__control:checked~label.sk-toggleable__label-arrow:before {content: \"▾\";}#sk-container-id-2 div.sk-estimator input.sk-toggleable__control:checked~label.sk-toggleable__label {background-color: #d4ebff;}#sk-container-id-2 div.sk-label input.sk-toggleable__control:checked~label.sk-toggleable__label {background-color: #d4ebff;}#sk-container-id-2 input.sk-hidden--visually {border: 0;clip: rect(1px 1px 1px 1px);clip: rect(1px, 1px, 1px, 1px);height: 1px;margin: -1px;overflow: hidden;padding: 0;position: absolute;width: 1px;}#sk-container-id-2 div.sk-estimator {font-family: monospace;background-color: #f0f8ff;border: 1px dotted black;border-radius: 0.25em;box-sizing: border-box;margin-bottom: 0.5em;}#sk-container-id-2 div.sk-estimator:hover {background-color: #d4ebff;}#sk-container-id-2 div.sk-parallel-item::after {content: \"\";width: 100%;border-bottom: 1px solid gray;flex-grow: 1;}#sk-container-id-2 div.sk-label:hover label.sk-toggleable__label {background-color: #d4ebff;}#sk-container-id-2 div.sk-serial::before {content: \"\";position: absolute;border-left: 1px solid gray;box-sizing: border-box;top: 0;bottom: 0;left: 50%;z-index: 0;}#sk-container-id-2 div.sk-serial {display: flex;flex-direction: column;align-items: center;background-color: white;padding-right: 0.2em;padding-left: 0.2em;position: relative;}#sk-container-id-2 div.sk-item {position: relative;z-index: 1;}#sk-container-id-2 div.sk-parallel {display: flex;align-items: stretch;justify-content: center;background-color: white;position: relative;}#sk-container-id-2 div.sk-item::before, #sk-container-id-2 div.sk-parallel-item::before {content: \"\";position: absolute;border-left: 1px solid gray;box-sizing: border-box;top: 0;bottom: 0;left: 50%;z-index: -1;}#sk-container-id-2 div.sk-parallel-item {display: flex;flex-direction: column;z-index: 1;position: relative;background-color: white;}#sk-container-id-2 div.sk-parallel-item:first-child::after {align-self: flex-end;width: 50%;}#sk-container-id-2 div.sk-parallel-item:last-child::after {align-self: flex-start;width: 50%;}#sk-container-id-2 div.sk-parallel-item:only-child::after {width: 0;}#sk-container-id-2 div.sk-dashed-wrapped {border: 1px dashed gray;margin: 0 0.4em 0.5em 0.4em;box-sizing: border-box;padding-bottom: 0.4em;background-color: white;}#sk-container-id-2 div.sk-label label {font-family: monospace;font-weight: bold;display: inline-block;line-height: 1.2em;}#sk-container-id-2 div.sk-label-container {text-align: center;}#sk-container-id-2 div.sk-container {/* jupyter's `normalize.less` sets `[hidden] { display: none; }` but bootstrap.min.css set `[hidden] { display: none !important; }` so we also need the `!important` here to be able to override the default hidden behavior on the sphinx rendered scikit-learn.org. See: https://github.com/scikit-learn/scikit-learn/issues/21755 */display: inline-block !important;position: relative;}#sk-container-id-2 div.sk-text-repr-fallback {display: none;}</style><div id=\"sk-container-id-2\" class=\"sk-top-container\"><div class=\"sk-text-repr-fallback\"><pre>LinearRegression()</pre><b>In a Jupyter environment, please rerun this cell to show the HTML representation or trust the notebook. <br />On GitHub, the HTML representation is unable to render, please try loading this page with nbviewer.org.</b></div><div class=\"sk-container\" hidden><div class=\"sk-item\"><div class=\"sk-estimator sk-toggleable\"><input class=\"sk-toggleable__control sk-hidden--visually\" id=\"sk-estimator-id-2\" type=\"checkbox\" checked><label for=\"sk-estimator-id-2\" class=\"sk-toggleable__label sk-toggleable__label-arrow\">LinearRegression</label><div class=\"sk-toggleable__content\"><pre>LinearRegression()</pre></div></div></div></div></div>"
      ],
      "text/plain": [
       "LinearRegression()"
      ]
     },
     "execution_count": 10,
     "metadata": {},
     "output_type": "execute_result"
    }
   ],
   "source": [
    "x = housing.data\n",
    "y = housing.target\n",
    "lr.fit(x, y)"
   ]
  },
  {
   "cell_type": "code",
   "execution_count": 11,
   "metadata": {},
   "outputs": [
    {
     "name": "stdout",
     "output_type": "stream",
     "text": [
      "RMSE (of training data): 0.72\n"
     ]
    }
   ],
   "source": [
    "mse = mean_squared_error(y, lr.predict(x))\n",
    "rmse = np.sqrt(mse)\n",
    "print(\"RMSE (of training data): {:.2}\".format(rmse))"
   ]
  },
  {
   "cell_type": "code",
   "execution_count": 12,
   "metadata": {},
   "outputs": [
    {
     "name": "stdout",
     "output_type": "stream",
     "text": [
      "R2 (on training data): 0.61\n"
     ]
    }
   ],
   "source": [
    "r2 = r2_score(y, lr.predict(x))\n",
    "print(\"R2 (on training data): {:.2}\".format(r2))"
   ]
  },
  {
   "cell_type": "markdown",
   "metadata": {},
   "source": [
    "Using all the input variables, the root mean squared error is only 0.72, which corresponds to a coefficient of determination of 0.61. This is better than before, which indicates that the extra variables did help. But it can no longer easily display the regression line as before, because it has a 9-dimensional regression hyperplane instead of a single line"
   ]
  },
  {
   "cell_type": "markdown",
   "metadata": {},
   "source": [
    "One good solution in this situation is to plot the prediction versus the actual value. The code is as follows:"
   ]
  },
  {
   "cell_type": "code",
   "execution_count": 13,
   "metadata": {},
   "outputs": [
    {
     "data": {
      "image/png": "[encoded data removed]",
      "text/plain": [
       "<Figure size 432x288 with 1 Axes>"
      ]
     },
     "metadata": {
      "needs_background": "light"
     },
     "output_type": "display_data"
    }
   ],
   "source": [
    "p = lr.predict(x)\n",
    "fig, ax = plt.subplots()\n",
    "ax.scatter(p, y)\n",
    "ax.set_xlabel('Predicted price')\n",
    "ax.set_ylabel('Actual price')\n",
    "ax.plot([y.min(), y.max()], [[y.min()], [y.max()]], ':', color=\"#f9a602\")\n",
    "plt.show()"
   ]
  },
  {
   "cell_type": "markdown",
   "metadata": {},
   "source": [
    "# Cross-validation for regression"
   ]
  },
  {
   "cell_type": "markdown",
   "metadata": {},
   "source": [
    "When classification was introduced, the importance of cross-validation was stressed for checking the quality of the predictions. In fact, only the training errors have been discussed in this notebook so far."
   ]
  },
  {
   "cell_type": "markdown",
   "metadata": {},
   "source": [
    "This is a mistake if want to confidently infer the generalization ability. This should be still tested empirically, which it can be easily done with scikit-learn."
   ]
  },
  {
   "cell_type": "markdown",
   "metadata": {},
   "source": [
    "The Kfold class will be used to build a five-fold cross-validation loop and test the generalization ability of linear regression:"
   ]
  },
  {
   "cell_type": "code",
   "execution_count": 14,
   "metadata": {},
   "outputs": [
    {
     "name": "stdout",
     "output_type": "stream",
     "text": [
      "RMSE on 5-fold CV: 0.75\n"
     ]
    }
   ],
   "source": [
    "from sklearn.model_selection import KFold, cross_val_predict\n",
    "\n",
    "kf = KFold(n_splits=5)\n",
    "p = cross_val_predict(lr, x, y, cv=kf)\n",
    "rmse_cv = np.sqrt(mean_squared_error(p, y))\n",
    "print('RMSE on 5-fold CV: {:.2}'.format(rmse_cv))"
   ]
  },
  {
   "cell_type": "code",
   "execution_count": 15,
   "metadata": {},
   "outputs": [
    {
     "name": "stdout",
     "output_type": "stream",
     "text": [
      "R2 (on 5-fold CV): 0.58\n"
     ]
    }
   ],
   "source": [
    "r2 = r2_score(y, p)\n",
    "print(\"R2 (on 5-fold CV): {:.2}\".format(r2))"
   ]
  },
  {
   "cell_type": "markdown",
   "metadata": {},
   "source": [
    "With cross-validation, a more conservative estimate  is obtained (that is, the error is larger): 0.75. As in the case of classification, the cross-validation estimate is a better estimate of how well it could be generalized to predict on unseen data."
   ]
  },
  {
   "cell_type": "markdown",
   "metadata": {},
   "source": [
    "Ordinary least squares is fast at learning time and returns a simple model, which is fast at prediction time. However, more advanced methods are now going to be explained and why they are sometimes preferable."
   ]
  },
  {
   "cell_type": "markdown",
   "metadata": {},
   "source": [
    "## Penalized or regularized regression"
   ]
  },
  {
   "cell_type": "markdown",
   "metadata": {},
   "source": [
    "This section introduces penalized regression, also called regularized or penalized regression, an important class of regression models."
   ]
  },
  {
   "cell_type": "markdown",
   "metadata": {},
   "source": [
    "In ordinary regression, the returned fit is the best fit on the training data. Penalizing means that a penalty is added for over-confidence in the parameter values. Thus, a slightly worse fit is accepted in order to have a simpler model."
   ]
  },
  {
   "cell_type": "markdown",
   "metadata": {},
   "source": [
    "Another way to think about it is to consider that the default is that there is no relationship between the input variables and the output prediction. When data is obtained, this opinion is changed, but adding a penalty means that more data is required to convince that this is a strong relationship."
   ]
  },
  {
   "cell_type": "markdown",
   "metadata": {},
   "source": [
    "Penalized regression is about trade-offs:\n",
    "\n",
    "Penalized regression is another example of the bias-variance trade-off. When using a penalty, a worse fit is resulted in the training data, as bias is added. On the other hand, the variance is reduced and tend to avoid over-fitting. Therefore, the overall result might generalize better to unseen (test) data."
   ]
  },
  {
   "cell_type": "markdown",
   "metadata": {},
   "source": [
    "### L1 and L2 penalties"
   ]
  },
  {
   "cell_type": "markdown",
   "metadata": {},
   "source": [
    "Now explore these ideas in detail. Who do not care about some of the mathematical aspects should feel free to skip directly to the next section on how to use regularized regression in scikit-learn."
   ]
  },
  {
   "cell_type": "markdown",
   "metadata": {},
   "source": [
    "The problem, in general, is that given a matrix X of training data (rows are observations, and each column is a different feature), and a vector y of output values. The goal is to obtain a vector of weights, which it will be called b*. The ordinary least squares regression is given by the following formula:"
   ]
  },
  {
   "cell_type": "markdown",
   "metadata": {},
   "source": [
    "# ![The ordinary least squares regression formula](./The%20ordinary%20least%20squares%20regression%20formula.PNG)"
   ]
  },
  {
   "cell_type": "markdown",
   "metadata": {},
   "source": [
    "That is, vector b is found, which minimizes the squared distance to the target y. In these equations, the issue of setting an intercept is ignored by assuming that the training data has been preprocessed so that the mean of y is zero."
   ]
  },
  {
   "cell_type": "markdown",
   "metadata": {},
   "source": [
    "Adding a penalty or a regularization means that the best fit is not simply considered on the training data, but also how vector b is composed. There are two types of penalties that are typically used for regression: L1 and L2 penalties. An L1 penalty means that the regression is penalized by the sum of the absolute values of the coefficients, while an L2 penalty penalizes by the sum of squares."
   ]
  },
  {
   "cell_type": "markdown",
   "metadata": {},
   "source": [
    "When an L1 penalty is added, instead of the preceding equation, instead optimize the following:"
   ]
  },
  {
   "cell_type": "markdown",
   "metadata": {},
   "source": [
    "# ![L1 penalty formula](./L1%20penalty%20formula.PNG)"
   ]
  },
  {
   "cell_type": "markdown",
   "metadata": {},
   "source": [
    "Here, try to simultaneously make the error small, but also make the values of the coefficients small (in absolute terms). Using an L2 penalty means that it uses the following formula:"
   ]
  },
  {
   "cell_type": "markdown",
   "metadata": {},
   "source": [
    "# ![L2 penalty formula](./L2%20penalty%20formula.PNG)"
   ]
  },
  {
   "cell_type": "markdown",
   "metadata": {},
   "source": [
    "The difference is rather subtle: it now penalizes by the square of the coefficient rather than their absolute value. However, the difference in the results is dramatic"
   ]
  },
  {
   "cell_type": "markdown",
   "metadata": {},
   "source": [
    "Ridge, Lasso, and ElasticNets:\n",
    "\n",
    "These penalized models often go by rather interesting names. The L1 penalized model is often called the Lasso, while an L2 penalized one is known as Ridge regression. When using both, this is called an ElasticNet model."
   ]
  },
  {
   "cell_type": "markdown",
   "metadata": {},
   "source": [
    "Both the Lasso and the Ridge result in smaller coefficients than unpenalized regression (smaller in absolute value, ignoring the sign). However, the Lasso has an additional property: it results in many coefficients being set to exactly zero! This means that the final model does not even use some of its input features; the model is sparse. This is often a very desirable property as the model performs both feature selection and regression in a single step."
   ]
  },
  {
   "cell_type": "markdown",
   "metadata": {},
   "source": [
    "Whenever a penalty is added, a weight α is also added, which governs how much penalization. When α is close to zero, it is very close to unpenalized regression (in fact, if α is set to zero, it will simply perform OLS), and when α is large, the model is very different from the unpenalized one."
   ]
  },
  {
   "cell_type": "markdown",
   "metadata": {},
   "source": [
    "The Ridge model is older as the Lasso is hard to compute with pen and paper. However, with modern computers, the Lasso can be used as easily as Ridge, or even combine them to form ElasticNets. An ElasticNet has two penalties, one for the absolute value and the other for the squares, and it solves the following equation:"
   ]
  },
  {
   "cell_type": "markdown",
   "metadata": {},
   "source": [
    "# ![ElasticNets formula](./ElasticNets%20formula.PNG)"
   ]
  },
  {
   "cell_type": "markdown",
   "metadata": {},
   "source": [
    "This formula is a combination of the two previous ones, with two parameters, α1 and α2. Later in this notebook, it will be discussed how to choose a good value for parameters."
   ]
  },
  {
   "cell_type": "markdown",
   "metadata": {},
   "source": [
    "# Using Lasso or ElasticNet in scikit-learn"
   ]
  },
  {
   "cell_type": "markdown",
   "metadata": {},
   "source": [
    "Adapt the preceding example to use ElasticNets. Using scikit-learn, it is very easy to swap in the ElasticNet regressor for the least squares one that we had before:"
   ]
  },
  {
   "cell_type": "code",
   "execution_count": 16,
   "metadata": {},
   "outputs": [
    {
     "name": "stdout",
     "output_type": "stream",
     "text": [
      "R2 (on training data): 0.45\n"
     ]
    }
   ],
   "source": [
    "from sklearn.linear_model import Lasso\n",
    "\n",
    "las = Lasso(alpha=0.5)\n",
    "las.fit(x, y)\n",
    "r2 = r2_score(y, las.predict(x))\n",
    "print(\"R2 (on training data): {:.2}\".format(r2))"
   ]
  },
  {
   "cell_type": "code",
   "execution_count": 17,
   "metadata": {},
   "outputs": [
    {
     "name": "stdout",
     "output_type": "stream",
     "text": [
      "R2 (on 5-fold CV): 0.43\n"
     ]
    }
   ],
   "source": [
    "kf = KFold(n_splits=5)\n",
    "p = cross_val_predict(las, x, y, cv=kf)\n",
    "r2 = r2_score(y, p)\n",
    "print(\"R2 (on 5-fold CV): {:.2}\".format(r2))"
   ]
  },
  {
   "cell_type": "markdown",
   "metadata": {},
   "source": [
    "Now las is used, whereas earlier lr is used. When using Lasso, the R2 on the training data decreases to 0.45 (it was 0.61 before), but the cross-validation fit is now 0.43 (as opposed to 0.58 with linear regression). A larger error is traded on the training data in order to gain better generalization."
   ]
  },
  {
   "cell_type": "markdown",
   "metadata": {},
   "source": [
    "## Visualizing the Lasso path"
   ]
  },
  {
   "cell_type": "markdown",
   "metadata": {},
   "source": [
    "Using scikit-learn, it can be easily visualized what happens as the value of the regularization parameter (alphas) changes. The California data will be again used, but now the Lasso regression object will be used:"
   ]
  },
  {
   "cell_type": "code",
   "execution_count": 18,
   "metadata": {},
   "outputs": [],
   "source": [
    "las = Lasso()\n",
    "alphas = np.logspace(-5, 2, 1000)\n",
    "alphas, coefs, _ = las.path(x, y, alphas=alphas)"
   ]
  },
  {
   "cell_type": "markdown",
   "metadata": {},
   "source": [
    "For each value in alphas, the path method on the Lasso object returns the coefficients that solve the Lasso problem with that parameter value. Because the result changes smoothly with alpha, this can be computed very efficiently."
   ]
  },
  {
   "cell_type": "markdown",
   "metadata": {},
   "source": [
    "A typical way to visualize this path is to plot the value of the coefficients as alpha decreases. It can be done so as follows:"
   ]
  },
  {
   "cell_type": "code",
   "execution_count": 19,
   "metadata": {},
   "outputs": [
    {
     "data": {
      "image/png": "[encoded data removed]",
      "text/plain": [
       "<Figure size 432x288 with 1 Axes>"
      ]
     },
     "metadata": {
      "needs_background": "light"
     },
     "output_type": "display_data"
    }
   ],
   "source": [
    "fig,ax = plt.subplots()\n",
    "ax.plot(alphas, coefs.T)\n",
    "# Set log scale\n",
    "ax.set_xscale('log')\n",
    "# Make alpha decrease from left to right\n",
    "ax.set_xlim(alphas.max(), alphas.min())\n",
    "ax.set_xlabel('Alpha')                              \n",
    "ax.set_ylabel('Coefficient weight') \n",
    "plt.show()"
   ]
  },
  {
   "cell_type": "markdown",
   "metadata": {},
   "source": [
    "In this plot, the x axis shows decreasing amounts of regularization from left to right (alpha is decreasing). The plot shows that when using very strong regularization (left side, very high alpha), the best solution is to have all values be exactly zero. As the regularization becomes weaker, one by one, the values of the different coefficients first shoot up, then stabilize. At some point, they all plateau as it is probably already closed to the unpenalized solution."
   ]
  },
  {
   "cell_type": "markdown",
   "metadata": {},
   "source": [
    "## P-greater-than-N scenarios"
   ]
  },
  {
   "cell_type": "markdown",
   "metadata": {},
   "source": [
    "The title of this section is a bit of jargon, which it will be explained now. In the 1990s, first in the biomedical domain, and then on the web, problems started to appear where P was greater than N. What this meant was that the number of features, P, was greater than the number of examples, N (these letters were the conventional statistical shorthand for these concepts)."
   ]
  },
  {
   "cell_type": "markdown",
   "metadata": {},
   "source": [
    "For example, if the input is a set of written documents, a simple way to approach it is to consider each possible word in the dictionary as a feature and regress on those. In the English language, it has over 20,000 words (this\n",
    "is if some stemming are performed and only consider common words; it is more than ten times that if this preprocessing step is skipped). If there are only a few hundred or a few thousand examples, it will has more features than examples."
   ]
  },
  {
   "cell_type": "markdown",
   "metadata": {},
   "source": [
    "In this case, as the number of features is greater than the number of examples, it is possible to have a perfect fit on the training data. A set of regression coefficients with zero training errors can be found (in fact, more than one perfect solution can be found)."
   ]
  },
  {
   "cell_type": "markdown",
   "metadata": {},
   "source": [
    "However, and this is a major problem, zero training error does not mean that the solution will generalize well. In earlier examples, regularization could give a little extra boost, but it is now absolutely required for a meaningful result."
   ]
  },
  {
   "cell_type": "markdown",
   "metadata": {},
   "source": [
    "## An example based on text documents"
   ]
  },
  {
   "cell_type": "markdown",
   "metadata": {},
   "source": [
    "Now turn to an example that comes from a study performed at Carnegie Mellon University by Prof. Noah Smith's research group. The study was based on mining the so-called 10-K reports that companies file with the Securities and Exchange Commission (SEC) in the United States. The goal of their study was to predict, based on this piece of public information, what the future volatility of the company's stock would be. In the training data, historical data is being actually used for which the outcome is already known."
   ]
  },
  {
   "cell_type": "markdown",
   "metadata": {},
   "source": [
    "There are 16,087 examples available. The features, which have already been preprocessed, correspond to different words, 150,360 in total. In the introduction, it was stated that ordinary least regression is useful in these cases, and see why by attempting to blindly apply it."
   ]
  },
  {
   "cell_type": "markdown",
   "metadata": {},
   "source": [
    "The dataset is available in SVMLight format from multiple sources, including the book's companion website. SVMLight is, as the name says, a support vector machine implementation, which is also available through scikit-learn:"
   ]
  },
  {
   "cell_type": "code",
   "execution_count": 20,
   "metadata": {},
   "outputs": [],
   "source": [
    "# !curl -O https://www.csie.ntu.edu.tw/~cjlin/libsvmtools/datasets/regression/E2006.train.bz2"
   ]
  },
  {
   "cell_type": "code",
   "execution_count": 21,
   "metadata": {},
   "outputs": [],
   "source": [
    "from sklearn.datasets import load_svmlight_file\n",
    "\n",
    "data, target = load_svmlight_file('E2006.train')"
   ]
  },
  {
   "cell_type": "markdown",
   "metadata": {},
   "source": [
    "In the preceding code, data is a sparse matrix (that is, most of its entries are zeros and, therefore, only the nonzero entries are saved in memory), while the target is a simple one-dimensional vector. Start by looking at some attributes of the target:"
   ]
  },
  {
   "cell_type": "code",
   "execution_count": 22,
   "metadata": {},
   "outputs": [
    {
     "name": "stdout",
     "output_type": "stream",
     "text": [
      "Min target value: -7.89957807346873\n",
      "Max target value: -0.519409526940154\n",
      "Mean target value: -3.5140531366944456\n",
      "Std. dev. target: 0.6322783539114604\n"
     ]
    }
   ],
   "source": [
    "print('Min target value: {}'.format(target.min()))\n",
    "print('Max target value: {}'.format(target.max()))\n",
    "print('Mean target value: {}'.format(target.mean()))\n",
    "print('Std. dev. target: {}'.format(target.std()))"
   ]
  },
  {
   "cell_type": "markdown",
   "metadata": {},
   "source": [
    "So, it can be seen that the data lies between -7.9 and -0.5. Now check what happens when OLS is used to predict. Note that the same classes and methods can be used exactly as we did earlier:"
   ]
  },
  {
   "cell_type": "code",
   "execution_count": 23,
   "metadata": {},
   "outputs": [
    {
     "name": "stdout",
     "output_type": "stream",
     "text": [
      "RMSE on training: 0.018\n",
      "R2 on training: 1.0\n"
     ]
    }
   ],
   "source": [
    "from sklearn.linear_model import LinearRegression\n",
    "\n",
    "lr = LinearRegression()\n",
    "lr.fit(data, target)\n",
    "pred = lr.predict(data)\n",
    "rmse_train = np.sqrt(mean_squared_error(target, pred))\n",
    "print('RMSE on training: {:.2}'.format(rmse_train))\n",
    "print('R2 on training: {:.2}'.format(r2_score(target, pred)))"
   ]
  },
  {
   "cell_type": "markdown",
   "metadata": {},
   "source": [
    "The root mean squared error is not exactly zero because of rounding errors, but it is very close."
   ]
  },
  {
   "cell_type": "markdown",
   "metadata": {},
   "source": [
    "The coefficient of determination is 1.0. That is, the linear model is reporting a perfect prediction on its training data. This is what previously expected."
   ]
  },
  {
   "cell_type": "code",
   "execution_count": 24,
   "metadata": {},
   "outputs": [
    {
     "name": "stdout",
     "output_type": "stream",
     "text": [
      "RMSE on 5-fold CV: 0.73\n",
      "R2 (on 5-fold CV): -0.35\n"
     ]
    }
   ],
   "source": [
    "kf = KFold(n_splits=5)\n",
    "pred = cross_val_predict(lr, data, target, cv=kf)\n",
    "rmse_cv = np.sqrt(mean_squared_error(pred, target))\n",
    "print('RMSE on 5-fold CV: {:.2}'.format(rmse_cv))\n",
    "r2 = r2_score(target, pred)\n",
    "print(\"R2 (on 5-fold CV): {:.2}\".format(r2))"
   ]
  },
  {
   "cell_type": "markdown",
   "metadata": {},
   "source": [
    "However, when cross-validation is used (the code is very similar with earlier in the California example), we get something very different: RMSE of 0.73, which corresponds to a negative coefficient of determination of -0.35! This is the typical P-greater-than-N situation."
   ]
  },
  {
   "cell_type": "markdown",
   "metadata": {},
   "source": [
    "Training and generalization error:\n",
    "\n",
    "When the number of features is greater than the number of examples, it always get zero training errors with OLS, except perhaps for issues due to rounding off. In fact, you may get zero training errors and have a completely useless model."
   ]
  },
  {
   "cell_type": "markdown",
   "metadata": {},
   "source": [
    "The natural solution is to use regularization to counteract the overfitting. The same cross-validation with an ElasticNet learner can be tried, having set the penalty parameter to 0.1:"
   ]
  },
  {
   "cell_type": "code",
   "execution_count": 25,
   "metadata": {},
   "outputs": [
    {
     "name": "stdout",
     "output_type": "stream",
     "text": [
      "[EN 0.1] RMSE on training: 0.4\n",
      "[EN 0.1] R2 on training: 0.61\n"
     ]
    }
   ],
   "source": [
    "from sklearn.linear_model import ElasticNet\n",
    "\n",
    "met = ElasticNet(alpha=0.1)\n",
    "met.fit(data, target)\n",
    "pred = met.predict(data)\n",
    "print('[EN 0.1] RMSE on training: {:.2}'.format(np.sqrt(mean_squared_error(target, pred))))\n",
    "print('[EN 0.1] R2 on training: {:.2}'.format(r2_score(target, pred)))"
   ]
  },
  {
   "cell_type": "markdown",
   "metadata": {},
   "source": [
    "Thus, it get worse results on the training data. However, it is a better hope that these results will generalize well:"
   ]
  },
  {
   "cell_type": "code",
   "execution_count": 26,
   "metadata": {},
   "outputs": [
    {
     "name": "stdout",
     "output_type": "stream",
     "text": [
      "[EN 0.1] RMSE on testing (5 fold): 0.4\n",
      "[EN 0.1] R2 on testing (5 fold): 0.61\n"
     ]
    }
   ],
   "source": [
    "kf = KFold(n_splits=5)\n",
    "pred = cross_val_predict(met, data, target, cv=kf)\n",
    "rmse = np.sqrt(mean_squared_error(target, pred))\n",
    "print('[EN 0.1] RMSE on testing (5 fold): {:.2}'.format(rmse))\n",
    "print('[EN 0.1] R2 on testing (5 fold): {:.2}'.format(r2_score(target, pred)))"
   ]
  },
  {
   "cell_type": "markdown",
   "metadata": {},
   "source": [
    "Indeed, they do! Unlike in the case for OLS, with ElasticNet, the result of cross-validation is the same as for the training data."
   ]
  },
  {
   "cell_type": "markdown",
   "metadata": {},
   "source": [
    "There is one problem with this solution, though, which is the choice of alpha. When using the default value (1.0), the result is very different (and worse)."
   ]
  },
  {
   "cell_type": "markdown",
   "metadata": {},
   "source": [
    "In this case, we cheated as the author had previously tried a few values to see which ones would give a good result. The next section explains how to do it properly and how this is supported by scikit-learn."
   ]
  },
  {
   "cell_type": "markdown",
   "metadata": {},
   "source": [
    "## Setting hyperparameters in a principled way"
   ]
  },
  {
   "cell_type": "markdown",
   "metadata": {},
   "source": [
    "In the preceding example, the penalty parameter was set to 0.1. If an overly large value is picked, it get underfitting. In an extreme case, the learning system will just return every coefficient equal to zero. If a value is picked too small, it is very close to OLS, which overfits and generalizes poorly (as it was been seen earlier)."
   ]
  },
  {
   "cell_type": "markdown",
   "metadata": {},
   "source": [
    "How do we choose a good value?  A generic solution is to use cross-validation. a set of possible values are picked, and then use cross-validation to choose which one is best. This performs more computation (five times more if we use five folds), but is always applicable and unbiased."
   ]
  },
  {
   "cell_type": "markdown",
   "metadata": {},
   "source": [
    "It must be careful, though. In order to obtain an unbiased estimate of generalization, it must use two levels of cross-validation: the top level is to estimate the generalization power of the system, while the second level is to get good parameters. Start by holding out the first fold and will learn on the other four. Now, split these again into five folds in order to choose the parameters. Once the parameters have been set, test on the first fold. Now repeat this four other times:|"
   ]
  },
  {
   "cell_type": "markdown",
   "metadata": {},
   "source": [
    "This leads to a lot of computation, but it is necessary in order to do things correctly. The problem is that if any datapoint is used to make any decisions about the model (including which parameters to set), that same datapoint can be no longer used to test the generalization ability of the model. This is a subtle point and it may not be immediately obvious. In fact, it is still the case that many users of machine learning get this wrong and overestimate how well their systems are doing, because they do not perform cross-validation correctly!"
   ]
  },
  {
   "cell_type": "markdown",
   "metadata": {},
   "source": [
    "Fortunately, scikit-learn makes it very easy to do the right thing; it provides classes named LassoCV, RidgeCV, and ElasticNetCV, all of which encapsulate an inner cross-validation loop to optimize the necessary parameter (hence the letters CV at the end of the class name). The code is almost exactly like the previous one, except that it does not need to specify any value for alpha:"
   ]
  },
  {
   "cell_type": "code",
   "execution_count": 27,
   "metadata": {},
   "outputs": [
    {
     "name": "stdout",
     "output_type": "stream",
     "text": [
      "R2 ElasticNetCV: 0.65\n"
     ]
    }
   ],
   "source": [
    "from sklearn.linear_model import ElasticNetCV\n",
    "\n",
    "met = ElasticNetCV()\n",
    "kf = KFold(n_splits=5)\n",
    "p = cross_val_predict(met, data, target, cv=kf)\n",
    "r2_cv = r2_score(target, p)\n",
    "print(\"R2 ElasticNetCV: {:.2}\".format(r2_cv))"
   ]
  },
  {
   "cell_type": "markdown",
   "metadata": {},
   "source": [
    "This results in a lot of computation, so, depending on how fast the computer is. Better performance can be obtained by taking advantage of multiple processors. To use four CPUs, make use of the following code:"
   ]
  },
  {
   "cell_type": "code",
   "execution_count": 28,
   "metadata": {},
   "outputs": [
    {
     "name": "stdout",
     "output_type": "stream",
     "text": [
      "R2 ElasticNetCV: 0.65\n"
     ]
    }
   ],
   "source": [
    "met = ElasticNetCV(n_jobs=4)\n",
    "kf = KFold(n_splits=5)\n",
    "p = cross_val_predict(met, data, target, cv=kf)\n",
    "r2_cv = r2_score(target, p)\n",
    "print(\"R2 ElasticNetCV: {:.2}\".format(r2_cv))"
   ]
  },
  {
   "cell_type": "markdown",
   "metadata": {},
   "source": [
    "Set the n_jobs parameter to -1 to use all the available CPUs:"
   ]
  },
  {
   "cell_type": "code",
   "execution_count": 29,
   "metadata": {},
   "outputs": [
    {
     "name": "stdout",
     "output_type": "stream",
     "text": [
      "R2 ElasticNetCV: 0.65\n"
     ]
    }
   ],
   "source": [
    "met = ElasticNetCV(n_jobs=-1)\n",
    "kf = KFold(n_splits=5)\n",
    "p = cross_val_predict(met, data, target, cv=kf)\n",
    "r2_cv = r2_score(target, p)\n",
    "print(\"R2 ElasticNetCV: {:.2}\".format(r2_cv))"
   ]
  },
  {
   "cell_type": "markdown",
   "metadata": {},
   "source": [
    "The question is, if ElasticNets has two penalties—the L1 and the L2 penalty—it is only needed to set a single value for alpha. In fact, the two values are specified by separately specifying the alpha and the l1_ratio variable. Then, α1 and α2 are set as follows (where ρ stands for l1_ratio):"
   ]
  },
  {
   "cell_type": "markdown",
   "metadata": {},
   "source": [
    "# ![Alpha formula](./alpha%20formula.PNG)"
   ]
  },
  {
   "cell_type": "markdown",
   "metadata": {},
   "source": [
    "In an intuitive sense, alpha sets the overall amount of regularization while l1_ratio sets the trade-off between the different types of regularization, L1 and L2."
   ]
  },
  {
   "cell_type": "markdown",
   "metadata": {},
   "source": [
    "It can be requested that the ElasticNetCV object tests different values of l1_ratio, as shown in the following code:"
   ]
  },
  {
   "cell_type": "code",
   "execution_count": 30,
   "metadata": {},
   "outputs": [
    {
     "name": "stdout",
     "output_type": "stream",
     "text": [
      "R2 ElasticNetCV: 0.65\n"
     ]
    }
   ],
   "source": [
    "l1_ratio = [.01, .05, .25, .5, .75, .95, .99]\n",
    "met = ElasticNetCV(l1_ratio=l1_ratio, n_jobs=-1)\n",
    "kf = KFold(n_splits=5)\n",
    "p = cross_val_predict(met, data, target, cv=kf)\n",
    "r2_cv = r2_score(target, p)\n",
    "print(\"R2 ElasticNetCV: {:.2}\".format(r2_cv))"
   ]
  },
  {
   "cell_type": "markdown",
   "metadata": {},
   "source": [
    "This set of l1_ratio values is recommended in the documentation. It will test models that are almost like Ridge (when l1_ratio is 0.01 or 0.05) as well as models that are almost like Lasso (when l1_ratio is 0.95 or 0.99). Thus, a full range of different options is explored."
   ]
  },
  {
   "cell_type": "markdown",
   "metadata": {},
   "source": [
    "Because of its flexibility and its ability to use multiple CPUs, ElasticNetCV is an excellent default solution for regression problems when there is no any particular reason to prefer one type of model over the rest. In very simple problems, use ordinary least squares."
   ]
  },
  {
   "cell_type": "markdown",
   "metadata": {},
   "source": [
    "Putting all this together, the prediction versus real fit can be now visualized on this large dataset:"
   ]
  },
  {
   "cell_type": "code",
   "execution_count": 31,
   "metadata": {},
   "outputs": [
    {
     "data": {
      "image/png": "[encoded data removed]",
      "text/plain": [
       "<Figure size 432x288 with 1 Axes>"
      ]
     },
     "metadata": {
      "needs_background": "light"
     },
     "output_type": "display_data"
    }
   ],
   "source": [
    "l1_ratio = [.01, .05, .25, .5, .75, .95, .99]\n",
    "met = ElasticNetCV(l1_ratio=l1_ratio, n_jobs=-1)\n",
    "pred = cross_val_predict(met, data, target, cv=kf)\n",
    "fig, ax = plt.subplots()\n",
    "ax.scatter(target, pred,  c='k', s=1)\n",
    "ax.plot([pred.min(), pred.max()], [pred.min(), pred.max()], 'r-', lw=2)\n",
    "ax.set_xlabel('Actual value')\n",
    "ax.set_ylabel('Predicted value')\n",
    "plt.show()"
   ]
  },
  {
   "cell_type": "markdown",
   "metadata": {},
   "source": [
    "It can be seen that the predictions do not match very well on the bottom end of the value range. This is perhaps because there are so many fewer elements on this end of the target range (this affects only a small minority of datapoints)."
   ]
  },
  {
   "cell_type": "markdown",
   "metadata": {},
   "source": [
    "# Regression with TensorFlow"
   ]
  },
  {
   "cell_type": "markdown",
   "metadata": {},
   "source": [
    "TensorFlow will be discussed in a future notebook, but regularized linear regression can be implemented with it, so it's good idea to get a feel for how TensorFlow works."
   ]
  },
  {
   "cell_type": "markdown",
   "metadata": {},
   "source": [
    "Try to use the California dataset for this experiment."
   ]
  },
  {
   "cell_type": "code",
   "execution_count": 15,
   "metadata": {},
   "outputs": [],
   "source": [
    "import tensorflow as tf\n",
    "\n",
    "x = housing.data[:, 0][:, None]\n",
    "y = np.reshape(housing.target, (-1, 1))"
   ]
  },
  {
   "cell_type": "markdown",
   "metadata": {},
   "source": [
    "Two variables will be required, one for the slope and one for the intercept. Contrary to linear regression, far more code has to be written for the same functionality."
   ]
  },
  {
   "cell_type": "code",
   "execution_count": 16,
   "metadata": {},
   "outputs": [],
   "source": [
    "A = tf.Variable(tf.random.normal(shape=[1, 1]), name=\"A\")\n",
    "b = tf.Variable(tf.random.normal(shape=[1, 1]), name=\"b\")"
   ]
  },
  {
   "cell_type": "markdown",
   "metadata": {},
   "source": [
    "The two variables are fully static and have a dimension of [1, 1], meaning a single element. They will both be initialized by TensorFlow following a random variable (a Gaussian with a mean of 0 and a variance of 1)."
   ]
  },
  {
   "cell_type": "markdown",
   "metadata": {},
   "source": [
    "All symbols can have a name and many TensorFlow functions take a name argument. It is good practice to give clear names, as TensorFlow errors will display them. If they are not set, TensorFlow will create new default names that can be difficult to decipher."
   ]
  },
  {
   "cell_type": "markdown",
   "metadata": {},
   "source": [
    "All the symbols are now created, and the loss function can be now created. The prediction first is created, and then it will be compared to the ground truth value:"
   ]
  },
  {
   "cell_type": "code",
   "execution_count": 17,
   "metadata": {},
   "outputs": [],
   "source": [
    "def model_output(X):\n",
    "    return tf.matmul(X, A) + b\n",
    "\n",
    "def loss(Y, model_output):\n",
    "    return tf.reduce_mean(tf.square(Y - model_output))"
   ]
  },
  {
   "cell_type": "markdown",
   "metadata": {},
   "source": [
    "The multiplication for the prediction seems to be transposed, and this is due to the way X was defined: it is indeed transposed! This allows model_output to have a dynamic first dimension."
   ]
  },
  {
   "cell_type": "markdown",
   "metadata": {},
   "source": [
    "This cost function can be now minimized with a gradient descent. First the TensorFlow objects is created:"
   ]
  },
  {
   "cell_type": "code",
   "execution_count": 18,
   "metadata": {},
   "outputs": [],
   "source": [
    "grad_step = 1e-3\n",
    "my_opt = tf.keras.optimizers.SGD(learning_rate=grad_step)\n",
    "\n",
    "def train_step(X, Y):\n",
    "    with tf.GradientTape() as tape:\n",
    "        predictions = model_output(X)\n",
    "        square_loss = loss(Y, predictions)\n",
    "    gradients = tape.gradient(square_loss, [A, b])\n",
    "    my_opt.apply_gradients(zip(gradients, [A, b]))\n",
    "    return square_loss"
   ]
  },
  {
   "cell_type": "markdown",
   "metadata": {},
   "source": [
    "The gradient step is a crucial aspect of all TensorFlow objects. There are other optimizers available in TensorFlow; gradient descent is the simplest and one of the most adapted to this case."
   ]
  },
  {
   "cell_type": "markdown",
   "metadata": {},
   "source": [
    "Some variables are also needed:"
   ]
  },
  {
   "cell_type": "code",
   "execution_count": 19,
   "metadata": {},
   "outputs": [],
   "source": [
    "batch_size = 100\n",
    "n_epochs = 50000\n",
    "steps = 1000"
   ]
  },
  {
   "cell_type": "markdown",
   "metadata": {},
   "source": [
    "The batch size indicates how many elements at a time the loss is going to be computed for. This is also the dimension of the input data as well as the dimension of the output that will be predicted during the optimization."
   ]
  },
  {
   "cell_type": "markdown",
   "metadata": {},
   "source": [
    "Epochs are the number of times that all the training data is gone through to optimize the model. Finally, steps are just how often the information of the loss function is displayed that will be optimized."
   ]
  },
  {
   "cell_type": "markdown",
   "metadata": {},
   "source": [
    "Now go to the last step and let TensorFlow loose on the function and data we have:"
   ]
  },
  {
   "cell_type": "code",
   "execution_count": 37,
   "metadata": {},
   "outputs": [
    {
     "name": "stdout",
     "output_type": "stream",
     "text": [
      "Epoch #999  A = [[0.42362893]] b = [[0.45226964]]\n",
      "Loss = 0.70185232\n",
      "\n",
      "Epoch #1999  A = [[0.41876614]] b = [[0.45137346]]\n",
      "Loss = 0.70114881\n",
      "\n",
      "Epoch #2999  A = [[0.41885328]] b = [[0.45081148]]\n",
      "Loss = 0.70114768\n",
      "\n",
      "Epoch #3999  A = [[0.41801915]] b = [[0.450856]]\n",
      "Loss = 0.70113128\n",
      "\n",
      "Epoch #4999  A = [[0.42095074]] b = [[0.45167533]]\n",
      "Loss = 0.70133513\n",
      "\n",
      "Epoch #5999  A = [[0.41728958]] b = [[0.4505991]]\n",
      "Loss = 0.70114112\n",
      "\n",
      "Epoch #6999  A = [[0.41820183]] b = [[0.45093876]]\n",
      "Loss = 0.70113271\n",
      "\n",
      "Epoch #7999  A = [[0.4167821]] b = [[0.45101318]]\n",
      "Loss = 0.70115656\n",
      "\n",
      "Epoch #8999  A = [[0.42015025]] b = [[0.45102102]]\n",
      "Loss = 0.70123267\n",
      "\n",
      "Epoch #9999  A = [[0.41927]] b = [[0.4514292]]\n",
      "Loss = 0.70117360\n",
      "\n",
      "Epoch #10999  A = [[0.41622838]] b = [[0.45030776]]\n",
      "Loss = 0.70119816\n",
      "\n",
      "Epoch #11999  A = [[0.4129088]] b = [[0.4496466]]\n",
      "Loss = 0.70169276\n",
      "\n",
      "Epoch #12999  A = [[0.41350245]] b = [[0.4501007]]\n",
      "Loss = 0.70155585\n",
      "\n",
      "Epoch #13999  A = [[0.41933918]] b = [[0.4515016]]\n",
      "Loss = 0.70117867\n",
      "\n",
      "Epoch #14999  A = [[0.41660222]] b = [[0.4508863]]\n",
      "Loss = 0.70116675\n",
      "\n",
      "Epoch #15999  A = [[0.4145529]] b = [[0.45035073]]\n",
      "Loss = 0.70137644\n",
      "\n",
      "Epoch #16999  A = [[0.41846263]] b = [[0.4509983]]\n",
      "Loss = 0.70113736\n",
      "\n",
      "Epoch #17999  A = [[0.42011005]] b = [[0.45129502]]\n",
      "Loss = 0.70123422\n",
      "\n",
      "Epoch #18999  A = [[0.4191829]] b = [[0.45128337]]\n",
      "Loss = 0.70116693\n",
      "\n",
      "Epoch #19999  A = [[0.418399]] b = [[0.4507589]]\n",
      "Loss = 0.70113504\n",
      "\n",
      "Epoch #20999  A = [[0.41399994]] b = [[0.45024768]]\n",
      "Loss = 0.70146382\n",
      "\n",
      "Epoch #21999  A = [[0.41836843]] b = [[0.450679]]\n",
      "Loss = 0.70113420\n",
      "\n",
      "Epoch #22999  A = [[0.4177673]] b = [[0.45128945]]\n",
      "Loss = 0.70113134\n",
      "\n",
      "Epoch #23999  A = [[0.4193542]] b = [[0.45113635]]\n",
      "Loss = 0.70117491\n",
      "\n",
      "Epoch #24999  A = [[0.4186483]] b = [[0.45081535]]\n",
      "Loss = 0.70114106\n",
      "\n",
      "Epoch #25999  A = [[0.41397986]] b = [[0.44985968]]\n",
      "Loss = 0.70148063\n",
      "\n",
      "Epoch #26999  A = [[0.41992775]] b = [[0.45126048]]\n",
      "Loss = 0.70121765\n",
      "\n",
      "Epoch #27999  A = [[0.42002636]] b = [[0.45121357]]\n",
      "Loss = 0.70122522\n",
      "\n",
      "Epoch #28999  A = [[0.4164858]] b = [[0.450695]]\n",
      "Loss = 0.70117569\n",
      "\n",
      "Epoch #29999  A = [[0.41972107]] b = [[0.45110074]]\n",
      "Loss = 0.70119882\n",
      "\n",
      "Epoch #30999  A = [[0.42083153]] b = [[0.45145497]]\n",
      "Loss = 0.70131451\n",
      "\n",
      "Epoch #31999  A = [[0.42078587]] b = [[0.4514625]]\n",
      "Loss = 0.70130920\n",
      "\n",
      "Epoch #32999  A = [[0.41978005]] b = [[0.45149666]]\n",
      "Loss = 0.70120972\n",
      "\n",
      "Epoch #33999  A = [[0.41814035]] b = [[0.4507656]]\n",
      "Loss = 0.70113182\n",
      "\n",
      "Epoch #34999  A = [[0.41901544]] b = [[0.4512649]]\n",
      "Loss = 0.70115834\n",
      "\n",
      "Epoch #35999  A = [[0.42089483]] b = [[0.451476]]\n",
      "Loss = 0.70132279\n",
      "\n",
      "Epoch #36999  A = [[0.41787365]] b = [[0.4509534]]\n",
      "Loss = 0.70113117\n",
      "\n",
      "Epoch #37999  A = [[0.4180415]] b = [[0.4509985]]\n",
      "Loss = 0.70113152\n",
      "\n",
      "Epoch #38999  A = [[0.41589752]] b = [[0.45041224]]\n",
      "Loss = 0.70122278\n",
      "\n",
      "Epoch #39999  A = [[0.41557783]] b = [[0.45042557]]\n",
      "Loss = 0.70125204\n",
      "\n",
      "Epoch #40999  A = [[0.41917536]] b = [[0.45127034]]\n",
      "Loss = 0.70116645\n",
      "\n",
      "Epoch #41999  A = [[0.41382727]] b = [[0.45006472]]\n",
      "Loss = 0.70149916\n",
      "\n",
      "Epoch #42999  A = [[0.41927314]] b = [[0.4512885]]\n",
      "Loss = 0.70117199\n",
      "\n",
      "Epoch #43999  A = [[0.41763523]] b = [[0.45067826]]\n",
      "Loss = 0.70113349\n",
      "\n",
      "Epoch #44999  A = [[0.4215683]] b = [[0.45183855]]\n",
      "Loss = 0.70142722\n",
      "\n",
      "Epoch #45999  A = [[0.4185959]] b = [[0.45108494]]\n",
      "Loss = 0.70114118\n",
      "\n",
      "Epoch #46999  A = [[0.42028254]] b = [[0.45165515]]\n",
      "Loss = 0.70125806\n",
      "\n",
      "Epoch #47999  A = [[0.41493702]] b = [[0.45026588]]\n",
      "Loss = 0.70132762\n",
      "\n",
      "Epoch #48999  A = [[0.42104274]] b = [[0.45209074]]\n",
      "Loss = 0.70135880\n",
      "\n",
      "Epoch #49999  A = [[0.41539595]] b = [[0.45036584]]\n",
      "Loss = 0.70127201\n",
      "\n",
      "Mean squared error (on training data): 0.701\n",
      "RMSE (on training data): 0.8374134128565365\n",
      "R2 (on training data): 0.47\n"
     ]
    }
   ],
   "source": [
    "loss_vec = []\n",
    "for epoch in range(n_epochs):\n",
    "    permut = np.random.permutation(len(x))\n",
    "    for j in range(0, len(x), batch_size):\n",
    "        batch = permut[j:j+batch_size]\n",
    "        Xs = np.float32(x[batch])\n",
    "        Ys = np.float32(y[batch])\n",
    "\n",
    "        temp_loss = train_step(Xs, Ys)\n",
    "    \n",
    "    if epoch % steps == steps - 1:\n",
    "        temp_loss = train_step(np.float32(x), np.float32(y))\n",
    "        loss_vec.append(temp_loss)\n",
    "\n",
    "        print('Epoch #{}  A = {} b = {}'.format(epoch, np.transpose(A), b.numpy()))\n",
    "        print('Loss = {:.8f}'.format(temp_loss))\n",
    "        print()\n",
    "\n",
    "[slope, y_intercept] = [A, b]\n",
    "prediction = model_output(np.float32(x))\n",
    "mse = mean_squared_error(y, prediction)\n",
    "print(\"Mean squared error (on training data): {:.3}\".format(mse))\n",
    "rmse = np.sqrt(mse)\n",
    "print('RMSE (on training data): {}'.format(rmse))\n",
    "r2 = r2_score(y, prediction)\n",
    "print(\"R2 (on training data): {:.2}\".format(r2))"
   ]
  },
  {
   "cell_type": "markdown",
   "metadata": {},
   "source": [
    "The first call in the session initializes all the variables according to what the spesification is when they were declared. Then there are two loops, one on epochs and one on batch sizes."
   ]
  },
  {
   "cell_type": "markdown",
   "metadata": {},
   "source": [
    "For each epoch, a permutation of the training data is defined. This randomizes the order of the data. This is important, especially for a neural network, so that they don't have bias and so they learn all the data consistently. If the batch size is equal to the size of the training data, then it doesn't need to randomize data, and this is usually the case when there is only a handful of data samples. For large datasets, batches have to be used. Each batch will be fed inside the train_step function and the variables will be optimized."
   ]
  },
  {
   "cell_type": "markdown",
   "metadata": {},
   "source": [
    "After each epoch, the loss is saved over all the training data for display purposes. The state of the variables are also displayed every few epochs to monitor and the state of the optimization is checked."
   ]
  },
  {
   "cell_type": "markdown",
   "metadata": {},
   "source": [
    "Finally, the mean square error of the predicted outputs is displayed with our model as well as the r2 score."
   ]
  },
  {
   "cell_type": "markdown",
   "metadata": {},
   "source": [
    "Of course, the solution for this loss function is analytically known, so modify it:"
   ]
  },
  {
   "cell_type": "code",
   "execution_count": 20,
   "metadata": {},
   "outputs": [],
   "source": [
    "def loss(Y, model_output):\n",
    "    beta = 0.5\n",
    "    regularizer = tf.reduce_mean(tf.abs(A))\n",
    "    return tf.reduce_mean(tf.square(Y - model_output)) + beta * regularizer"
   ]
  },
  {
   "cell_type": "markdown",
   "metadata": {},
   "source": [
    "Then run the full optimization to get a Lasso result. It can be seen that TensorFlow doesn't really shine there. It is very slow and requires an awful number of iterations to get the result that is far from what scikit-learn can retrieve."
   ]
  },
  {
   "cell_type": "markdown",
   "metadata": {},
   "source": [
    "See a fraction of the run when using just feature 0 for this dataset:"
   ]
  },
  {
   "cell_type": "code",
   "execution_count": 21,
   "metadata": {},
   "outputs": [
    {
     "name": "stdout",
     "output_type": "stream",
     "text": [
      "Epoch #999  A = [[0.3466879]] b = [[0.7183697]]\n",
      "Loss = 0.89287269\n",
      "\n",
      "Epoch #1999  A = [[0.34424287]] b = [[0.7179804]]\n",
      "Loss = 0.89321554\n",
      "\n",
      "Epoch #2999  A = [[0.34619436]] b = [[0.718332]]\n",
      "Loss = 0.89292032\n",
      "\n",
      "Epoch #3999  A = [[0.35097465]] b = [[0.7194998]]\n",
      "Loss = 0.89290065\n",
      "\n",
      "Epoch #4999  A = [[0.3493174]] b = [[0.71922547]]\n",
      "Loss = 0.89279318\n",
      "\n",
      "Epoch #5999  A = [[0.34191653]] b = [[0.7173985]]\n",
      "Loss = 0.89379275\n",
      "\n",
      "Epoch #6999  A = [[0.35017505]] b = [[0.71917826]]\n",
      "Loss = 0.89283156\n",
      "\n",
      "Epoch #7999  A = [[0.34968525]] b = [[0.71946955]]\n",
      "Loss = 0.89280856\n",
      "\n",
      "Epoch #8999  A = [[0.3499094]] b = [[0.7194162]]\n",
      "Loss = 0.89281899\n",
      "\n",
      "Epoch #9999  A = [[0.34880397]] b = [[0.71900403]]\n",
      "Loss = 0.89278376\n",
      "\n",
      "Epoch #10999  A = [[0.3544378]] b = [[0.7202129]]\n",
      "Loss = 0.89351439\n",
      "\n",
      "Epoch #11999  A = [[0.35127455]] b = [[0.7196611]]\n",
      "Loss = 0.89293534\n",
      "\n",
      "Epoch #12999  A = [[0.35062802]] b = [[0.7196278]]\n",
      "Loss = 0.89287168\n",
      "\n",
      "Epoch #13999  A = [[0.35142168]] b = [[0.71932435]]\n",
      "Loss = 0.89294398\n",
      "\n",
      "Epoch #14999  A = [[0.34807366]] b = [[0.7191104]]\n",
      "Loss = 0.89278972\n",
      "\n",
      "Epoch #15999  A = [[0.34790486]] b = [[0.71874034]]\n",
      "Loss = 0.89279664\n",
      "\n",
      "Epoch #16999  A = [[0.34460324]] b = [[0.71774423]]\n",
      "Loss = 0.89315951\n",
      "\n",
      "Epoch #17999  A = [[0.34962228]] b = [[0.7190514]]\n",
      "Loss = 0.89280224\n",
      "\n",
      "Epoch #18999  A = [[0.3478143]] b = [[0.7187117]]\n",
      "Loss = 0.89279997\n",
      "\n",
      "Epoch #19999  A = [[0.34498104]] b = [[0.7176433]]\n",
      "Loss = 0.89310008\n",
      "\n",
      "Epoch #20999  A = [[0.3479661]] b = [[0.7190284]]\n",
      "Loss = 0.89279300\n",
      "\n",
      "Epoch #21999  A = [[0.35171086]] b = [[0.7194014]]\n",
      "Loss = 0.89298052\n",
      "\n",
      "Epoch #22999  A = [[0.34349653]] b = [[0.71767974]]\n",
      "Loss = 0.89337975\n",
      "\n",
      "Epoch #23999  A = [[0.347221]] b = [[0.7186627]]\n",
      "Loss = 0.89282936\n",
      "\n",
      "Epoch #24999  A = [[0.3466661]] b = [[0.71862817]]\n",
      "Loss = 0.89287007\n",
      "\n",
      "Epoch #25999  A = [[0.3480475]] b = [[0.7189741]]\n",
      "Loss = 0.89279103\n",
      "\n",
      "Epoch #26999  A = [[0.3469322]] b = [[0.71845853]]\n",
      "Loss = 0.89285183\n",
      "\n",
      "Epoch #27999  A = [[0.34860694]] b = [[0.7188641]]\n",
      "Loss = 0.89278340\n",
      "\n",
      "Epoch #28999  A = [[0.34648013]] b = [[0.7187012]]\n",
      "Loss = 0.89288485\n",
      "\n",
      "Epoch #29999  A = [[0.3500458]] b = [[0.7190444]]\n",
      "Loss = 0.89282227\n",
      "\n",
      "Epoch #30999  A = [[0.35221013]] b = [[0.71984214]]\n",
      "Loss = 0.89306211\n",
      "\n",
      "Epoch #31999  A = [[0.34883952]] b = [[0.71882284]]\n",
      "Loss = 0.89278364\n",
      "\n",
      "Epoch #32999  A = [[0.34676433]] b = [[0.7185462]]\n",
      "Loss = 0.89286339\n",
      "\n",
      "Epoch #33999  A = [[0.3473033]] b = [[0.7183083]]\n",
      "Loss = 0.89282888\n",
      "\n",
      "Epoch #34999  A = [[0.34856796]] b = [[0.71904504]]\n",
      "Loss = 0.89278346\n",
      "\n",
      "Epoch #35999  A = [[0.3487584]] b = [[0.71896285]]\n",
      "Loss = 0.89278340\n",
      "\n",
      "Epoch #36999  A = [[0.3466727]] b = [[0.71865404]]\n",
      "Loss = 0.89286894\n",
      "\n",
      "Epoch #37999  A = [[0.3492478]] b = [[0.71906054]]\n",
      "Loss = 0.89279044\n",
      "\n",
      "Epoch #38999  A = [[0.34848863]] b = [[0.7188966]]\n",
      "Loss = 0.89278400\n",
      "\n",
      "Epoch #39999  A = [[0.34802043]] b = [[0.7184578]]\n",
      "Loss = 0.89279485\n",
      "\n",
      "Epoch #40999  A = [[0.3481785]] b = [[0.71914333]]\n",
      "Loss = 0.89278746\n",
      "\n",
      "Epoch #41999  A = [[0.34395403]] b = [[0.7176838]]\n",
      "Loss = 0.89328349\n",
      "\n",
      "Epoch #42999  A = [[0.3479136]] b = [[0.7187995]]\n",
      "Loss = 0.89279592\n",
      "\n",
      "Epoch #43999  A = [[0.34552792]] b = [[0.7183403]]\n",
      "Loss = 0.89299899\n",
      "\n",
      "Epoch #44999  A = [[0.34914505]] b = [[0.71876407]]\n",
      "Loss = 0.89278704\n",
      "\n",
      "Epoch #45999  A = [[0.34792864]] b = [[0.71891636]]\n",
      "Loss = 0.89279467\n",
      "\n",
      "Epoch #46999  A = [[0.34817174]] b = [[0.7186787]]\n",
      "Loss = 0.89278960\n",
      "\n",
      "Epoch #47999  A = [[0.34924573]] b = [[0.71936405]]\n",
      "Loss = 0.89279199\n",
      "\n",
      "Epoch #48999  A = [[0.34933513]] b = [[0.719017]]\n",
      "Loss = 0.89279246\n",
      "\n",
      "Epoch #49999  A = [[0.35055247]] b = [[0.7193416]]\n",
      "Loss = 0.89286059\n",
      "\n",
      "Mean squared error (on training data): 0.718\n",
      "RMSE (on training data): 0.8471000383355869\n",
      "R2 (on training data): 0.46\n"
     ]
    }
   ],
   "source": [
    "def train_step(X, Y):\n",
    "    with tf.GradientTape() as tape:\n",
    "        predictions = model_output(X)\n",
    "        regularization_loss = loss(Y, predictions)\n",
    "    gradients = tape.gradient(regularization_loss, [A, b])\n",
    "    my_opt.apply_gradients(zip(gradients, [A, b]))\n",
    "    return regularization_loss\n",
    "\n",
    "loss_vec = []\n",
    "for epoch in range(n_epochs):\n",
    "    permut = np.random.permutation(len(x))\n",
    "    for j in range(0, len(x), batch_size):\n",
    "        batch = permut[j:j+batch_size]\n",
    "        Xs = np.float32(x[batch])\n",
    "        Ys = np.float32(y[batch])\n",
    "\n",
    "        temp_loss = train_step(Xs, Ys)\n",
    "    \n",
    "    if epoch % steps == steps - 1:\n",
    "        temp_loss = train_step(np.float32(x), np.float32(y))\n",
    "        loss_vec.append(temp_loss)\n",
    "\n",
    "        print('Epoch #{}  A = {} b = {}'.format(epoch, np.transpose(A), b.numpy()))\n",
    "        print('Loss = {:.8f}'.format(temp_loss))\n",
    "        print()\n",
    "\n",
    "[slope, y_intercept] = [A, b]\n",
    "prediction = model_output(np.float32(x))\n",
    "mse = mean_squared_error(y, prediction)\n",
    "print(\"Mean squared error (on training data): {:.3}\".format(mse))\n",
    "rmse = np.sqrt(mse)\n",
    "print('RMSE (on training data): {}'.format(rmse))\n",
    "r2 = r2_score(y, prediction)\n",
    "print(\"R2 (on training data): {:.2}\".format(r2))"
   ]
  },
  {
   "cell_type": "markdown",
   "metadata": {},
   "source": [
    "Here is how the loss function behaves:"
   ]
  },
  {
   "cell_type": "code",
   "execution_count": 24,
   "metadata": {},
   "outputs": [
    {
     "data": {
      "text/plain": [
       "<Figure size 432x288 with 0 Axes>"
      ]
     },
     "metadata": {},
     "output_type": "display_data"
    },
    {
     "data": {
      "image/png": "[encoded data removed]",
      "text/plain": [
       "<Figure size 432x288 with 1 Axes>"
      ]
     },
     "metadata": {
      "needs_background": "light"
     },
     "output_type": "display_data"
    }
   ],
   "source": [
    "best_fit = []\n",
    "for i in x:\n",
    "    best_fit.append(slope[0] * i + y_intercept[0])\n",
    "\n",
    "plt.figure()\n",
    "fig,ax = plt.subplots()\n",
    "ax.set_title('Loss per Epoch')\n",
    "ax.set_xlabel('Epoch')\n",
    "ax.set_ylabel('Loss')\n",
    "\n",
    "ax.plot(loss_vec, 'k-')\n",
    "plt.show()"
   ]
  },
  {
   "cell_type": "markdown",
   "metadata": {},
   "source": [
    "Here is the result when using only the first feature:"
   ]
  },
  {
   "cell_type": "code",
   "execution_count": 25,
   "metadata": {},
   "outputs": [
    {
     "data": {
      "image/png": "[encoded data removed]",
      "text/plain": [
       "<Figure size 432x288 with 1 Axes>"
      ]
     },
     "metadata": {
      "needs_background": "light"
     },
     "output_type": "display_data"
    }
   ],
   "source": [
    "fig, ax = plt.subplots()\n",
    "ax.set_xlabel(\"Average number of rooms (RM)\")\n",
    "ax.set_ylabel(\"House Price\")\n",
    "\n",
    "ax.scatter(x, y, s=2, label='Data Points')\n",
    "ax.plot(x, np.array(best_fit), '-', lw=2, color=\"#f9a602\", label='Best fit line')\n",
    "ax.legend(loc='upper left')\n",
    "plt.show()"
   ]
  }
 ],
 "metadata": {
  "kernelspec": {
   "display_name": "Python 3.9.12 ('tf')",
   "language": "python",
   "name": "python3"
  },
  "language_info": {
   "codemirror_mode": {
    "name": "ipython",
    "version": 3
   },
   "file_extension": ".py",
   "mimetype": "text/x-python",
   "name": "python",
   "nbconvert_exporter": "python",
   "pygments_lexer": "ipython3",
   "version": "3.9.12"
  },
  "orig_nbformat": 4,
  "vscode": {
   "interpreter": {
    "hash": "bb10c97395ea5cdf25b3e4cc1279b09c9151507c5eaa579e2929031795931c93"
   }
  }
 },
 "nbformat": 4,
 "nbformat_minor": 2
}
