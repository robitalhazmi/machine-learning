{
 "cells": [
  {
   "cell_type": "markdown",
   "metadata": {},
   "source": [
    "# Rating predictions and recommendations"
   ]
  },
  {
   "cell_type": "markdown",
   "metadata": {},
   "source": [
    "Any online shopping system in the last 10 years, probably have implemented recommendations. Some are like Amazon's, customers who bought X also bought Y, feature. These will be discussed in the Basket analysis section. Other recommendations are based on predicting the rating of a product, such as a movie."
   ]
  },
  {
   "cell_type": "markdown",
   "metadata": {},
   "source": [
    "The problem of learning recommendations based on past product ratings was made famous by the Netflix prize, a million-dollar machine-learning public challenge by Netflix. In this machine-learning problem, there is not only the information about which films the user saw, but also about how the user rated them."
   ]
  },
  {
   "cell_type": "markdown",
   "metadata": {},
   "source": [
    "In 2006, Netflix made a large number of customer ratings of films in its database available for a public challenge. In 2009, an international team named BellKor's Pragmatic Chaos was able to beat this mark and take the prize. They did so just 20 minutes before another team, the ensemble, passed the 10 percent mark as well—an exciting photo finish for a competition that lasted several years."
   ]
  },
  {
   "cell_type": "markdown",
   "metadata": {},
   "source": [
    "Machine learning in the real world: Much has been written about the Netflix Prize, and everyone may learn a lot by reading up on it. The techniques that won were a mixture of advanced machine learning and a lot of work put into preprocessing the data. For example, some users like to rate everything very highly, while others are always more negative; if this is not accounted in preprocessing, the model will suffer. Other normalizations were also necessary for a good result, bearing in mind factors such as the film's age and how many ratings it received. Good algorithms are a good thing, but it is always needed to get hands dirty and tune the methods to the properties of the data. Preprocessing and normalizing the data is often the most time-consuming part of the machine-learning process. However, this is also the place where one can have the biggest impact on the final performance of the system."
   ]
  },
  {
   "cell_type": "markdown",
   "metadata": {},
   "source": [
    "The first thing to note about the Netflix Prize is how hard it was. Roughly speaking, the internal system that Netflix used was about 10 percent better than having no recommendations at all (that is, assigning each movie just the average value for all users). The goal was to obtain just another 10 percent improvement on this. In total, the winning system was roughly just 20 percent better than no personalization. Yet it took a tremendous amount of time and effort to achieve this goal, and even though 20 percent does not seem like much, the result is a system that is useful in practice."
   ]
  },
  {
   "cell_type": "markdown",
   "metadata": {},
   "source": [
    "Unfortunately, for legal reasons, this dataset is no longer available. However, an academic dataset with similar characteristics can be used. This data comes from GroupLens, a research laboratory at the University of Minnesota."
   ]
  },
  {
   "cell_type": "markdown",
   "metadata": {},
   "source": [
    "How can a Netflix-style ratings prediction question be solved? Two different kinds of approach will be explored: neighborhood approaches and regression approaches. Also see how to combine these methods to obtain a single prediction."
   ]
  },
  {
   "cell_type": "markdown",
   "metadata": {},
   "source": [
    "# Splitting into training and testing"
   ]
  },
  {
   "cell_type": "markdown",
   "metadata": {},
   "source": [
    "At a high level, splitting the dataset into training and testing data in order to obtain a principled estimate of the system's performance is performed in the same way that in previous chapters: a certain fraction of the data points is taken (10 percent will be used) and reserve them for testing; the rest will be used for training."
   ]
  },
  {
   "cell_type": "markdown",
   "metadata": {},
   "source": [
    "However, because the data is structured differently in this context, the code is different. In some of the models that have been explored, setting aside 10 percent of the users would not work as we transfer the data."
   ]
  },
  {
   "cell_type": "markdown",
   "metadata": {},
   "source": [
    "The first step is to load the data from the disk, for which the following function is used:"
   ]
  },
  {
   "cell_type": "code",
   "execution_count": 1,
   "metadata": {},
   "outputs": [],
   "source": [
    "import requests, zipfile\n",
    "from io import BytesIO\n",
    "import numpy as np\n",
    "from scipy import sparse\n",
    "\n",
    "print('Downloading started')\n",
    "\n",
    "#Defining the zip file URL\n",
    "url = 'https://files.grouplens.org/datasets/movielens/ml-100k.zip'\n",
    "\n",
    "# Downloading the file by sending the request to the URL\n",
    "req = requests.get(url)\n",
    "print('Downloading Completed')\n",
    "\n",
    "# extracting the zip file contents\n",
    "zipfile= zipfile.ZipFile(BytesIO(req.content))\n",
    "zipfile.extractall('./')\n",
    "\n",
    "def load():\n",
    "    data = np.loadtxt('./ml-100k/u.data')\n",
    "    ij = data[:, :2]\n",
    "    ij -= 1  # original data is in 1-based system\n",
    "    values = data[:, 2]\n",
    "    reviews = sparse.csc_matrix((values.astype(int), ij.T.astype(int))).astype(float)\n",
    "    return reviews.toarray()"
   ]
  },
  {
   "cell_type": "markdown",
   "metadata": {},
   "source": [
    "Note that zero entries in this matrix represent missing ratings:"
   ]
  },
  {
   "cell_type": "code",
   "execution_count": 2,
   "metadata": {},
   "outputs": [],
   "source": [
    "reviews = load()\n",
    "U, M = np.where(reviews)"
   ]
  },
  {
   "cell_type": "markdown",
   "metadata": {},
   "source": [
    "The standard random module is now used to choose the indices to test:"
   ]
  },
  {
   "cell_type": "code",
   "execution_count": 3,
   "metadata": {},
   "outputs": [],
   "source": [
    "import random\n",
    "\n",
    "test_idxs = np.array(random.sample(range(len(U)), len(U)//10))"
   ]
  },
  {
   "cell_type": "markdown",
   "metadata": {},
   "source": [
    "Now the train matrix is built, which is like reviews, but with the testing entries set to zero:"
   ]
  },
  {
   "cell_type": "code",
   "execution_count": 4,
   "metadata": {},
   "outputs": [],
   "source": [
    "train = reviews.copy()\n",
    "train[U[test_idxs], M[test_idxs]] = 0"
   ]
  },
  {
   "cell_type": "markdown",
   "metadata": {},
   "source": [
    "Finally, the test matrix contains just the testing values:"
   ]
  },
  {
   "cell_type": "code",
   "execution_count": 5,
   "metadata": {},
   "outputs": [],
   "source": [
    "test = np.zeros_like(reviews)\n",
    "test[U[test_idxs], M[test_idxs]] = reviews[U[test_idxs], M[test_idxs]]"
   ]
  },
  {
   "cell_type": "markdown",
   "metadata": {},
   "source": [
    "From now on, work on taking the training data, and try to predict all the missing entries in the dataset. That is, code that assigns each user–movie pair a recommendation will be written."
   ]
  },
  {
   "cell_type": "markdown",
   "metadata": {},
   "source": [
    "# Normalizing the training data"
   ]
  },
  {
   "cell_type": "markdown",
   "metadata": {},
   "source": [
    "As it has been seen, it is best to normalize the data to remove obvious movie- or user-specific effects. One very simple type of normalization that was used before will be just used: conversion to z-scores."
   ]
  },
  {
   "cell_type": "markdown",
   "metadata": {},
   "source": [
    "Unfortunately, scikit-learn's normalization objects cannot be simply used as the missing values in the data have to be dealt with (that is, not all movies were rated by all users). Thus, the goal is to normalize by the mean and standard deviation of the values that are, in fact, present."
   ]
  },
  {
   "cell_type": "markdown",
   "metadata": {},
   "source": [
    "Custom class will be written so that it will ignore missing values. It can be even derived from scikit-learn's TransformerMixin class to add a fit_transform method. Next is to choose the axis of normalization. By default, it is normalized along the first axis, but sometimes it will be useful to normalize along the second one. This follows the convention of many other NumPy-related functions. The most important method is the fit method. In the implementation, the mean and standard deviation of the values that are not zero is computed. Recall that zeros indicate missing values. 0.1 is added to the direct estimate of the standard deviation to avoid underestimating the value of the standard deviation when there are only a few samples, all of which may be exactly the same. The exact value used does not matter much for the final result, but it is needed to avoid division by zero. The transform method needs to take care of maintaining the binary structure. Note how to took care of transposing the input matrix when the axis is 1 and then transformed it back so that the return value has the same shape as the input. The inverse_transform method performs the inverse operation to transform. Finally, the fit_transform method is added, which, as the name indicates, combines both the fit and transform operations:"
   ]
  },
  {
   "cell_type": "code",
   "execution_count": 6,
   "metadata": {},
   "outputs": [],
   "source": [
    "from sklearn.base import TransformerMixin\n",
    "\n",
    "class NormalizePositive(TransformerMixin):\n",
    "    def __init__(self, axis=0):\n",
    "        self.axis = axis\n",
    "    \n",
    "    def fit(self, features, y=None):\n",
    "        if self.axis == 1:\n",
    "            features = features.T\n",
    "        # count features that are greater than zero in axis 0:\n",
    "        binary = (features > 0)\n",
    "        count0 = binary.sum(axis=0)\n",
    "        # to avoid division by zero, set zero counts to one:\n",
    "        count0[count0 == 0] = 1.\n",
    "        # computing the mean is easy:\n",
    "        self.mean = features.sum(axis=0)/count0\n",
    "        # only consider differences where binary is True:\n",
    "        diff = (features - self.mean) * binary\n",
    "        diff **= 2\n",
    "        # regularize the estimate of std by adding 0.1\n",
    "        self.std = np.sqrt(0.1 + diff.sum(axis=0)/count0)\n",
    "        return self\n",
    "    \n",
    "    def transform(self, features):\n",
    "        if self.axis == 1:\n",
    "            features = features.T\n",
    "        binary = (features > 0)\n",
    "        features = features - self.mean\n",
    "        features /= self.std\n",
    "        features *= binary\n",
    "        if self.axis == 1:\n",
    "            features = features.T\n",
    "        return features\n",
    "\n",
    "    def inverse_transform(self, features, copy=True):\n",
    "        if copy:\n",
    "            features = features.copy()\n",
    "        if self.axis == 1:\n",
    "            features = features.T\n",
    "        features *= self.std\n",
    "        features += self.mean\n",
    "        if self.axis == 1:\n",
    "            features = features.T\n",
    "        return features\n",
    "\n",
    "    def fit_transform(self, features):\n",
    "        return self.fit(features).transform(features)"
   ]
  },
  {
   "cell_type": "markdown",
   "metadata": {},
   "source": [
    "The methods that was defined (fit, transform, transform_inverse, and fit_transform) were the same as the objects defined in the sklearn.preprocessing module. In the following sections, the inputs will be first normalized, normalized predictions will be generated, and finally the inverse transformation will be applied to obtain the final predictions."
   ]
  },
  {
   "cell_type": "markdown",
   "metadata": {},
   "source": [
    "# A neighborhood approach to recommendations"
   ]
  },
  {
   "cell_type": "markdown",
   "metadata": {},
   "source": [
    "The neighborhood concept can be implemented in two ways: user neighbors or movie neighbors. User neighbors will be only considered for the moment. At the end of this section, how the code can be adapted to compute movie neighbors will be discussed."
   ]
  },
  {
   "cell_type": "markdown",
   "metadata": {},
   "source": [
    "One of the interesting techniques that will be now explored is to just see which movies each user has rated, even without taking a look at what rating was given. In hindsight, this makes perfect sense—movies are not completely randomly chosen, but instead those are picked where an expectation of liking them is already obtained. Random choices of which movies to rate also are not made, but perhaps only those that feel most strongly about are rated (naturally, there are exceptions, but on average this is probably true)."
   ]
  },
  {
   "cell_type": "markdown",
   "metadata": {},
   "source": [
    "The values of the matrix can be visualized as an image, where each rating is depicted as a little square. Black represents the absence of a rating and the gray levels represent the rating value."
   ]
  },
  {
   "cell_type": "markdown",
   "metadata": {},
   "source": [
    "The code to visualize the data is very simple (it can be adapted to show a larger fraction of the matrix than is possible to show in this book), as shown in the following code:"
   ]
  },
  {
   "cell_type": "code",
   "execution_count": 7,
   "metadata": {},
   "outputs": [
    {
     "data": {
      "image/png": "[encoded data removed]",
      "text/plain": [
       "<Figure size 432x288 with 1 Axes>"
      ]
     },
     "metadata": {
      "needs_background": "light"
     },
     "output_type": "display_data"
    }
   ],
   "source": [
    "from matplotlib import pyplot as plt\n",
    "\n",
    "# Build an instance of the object we defined previously\n",
    "norm = NormalizePositive(axis=1)\n",
    "binary = (train > 0)\n",
    "train = norm.fit_transform(train)\n",
    "# plot just 200x200 area for space reasons\n",
    "fix, ax = plt.subplots()\n",
    "ax.imshow(binary[:200, :200], interpolation='nearest')\n",
    "plt.show()"
   ]
  },
  {
   "cell_type": "markdown",
   "metadata": {},
   "source": [
    "It can be seen that the matrix is sparse—most of the squares are black. It can be also seen that some users rate a lot more movies than others, and that some movies receive many more ratings than others."
   ]
  },
  {
   "cell_type": "markdown",
   "metadata": {},
   "source": [
    "This binary matrix is now going to be used to make predictions of movie ratings. The general algorithm will be calculated (in pseudocode) as follows:\n",
    "* For each user, rank every other user in terms of closeness. For this step, the binary matrix will be used and correlation is used as the measure of closeness (interpreting the binary matrix as zeros and ones allows to perform this computation).\n",
    "* When it is needed to estimate a rating for a user—movie pair, look at all the users who have rated that movie and split them into two groups: the most similar half and the most dissimilar half. The average of the most similar half then is used as the prediction."
   ]
  },
  {
   "cell_type": "markdown",
   "metadata": {},
   "source": [
    "The scipy.spatial.distance.pdist function can be used to obtain the distance between all the users as a matrix. The code is as follows:"
   ]
  },
  {
   "cell_type": "code",
   "execution_count": 8,
   "metadata": {},
   "outputs": [],
   "source": [
    "from scipy.spatial import distance\n",
    "\n",
    "# compute all pair-wise distances:\n",
    "dists = distance.pdist(binary, 'correlation')\n",
    "# Convert to square form, so that dists[i,j]\n",
    "# is distance between binary[i] and binary[j]:\n",
    "dists = distance.squareform(dists)"
   ]
  },
  {
   "cell_type": "markdown",
   "metadata": {},
   "source": [
    "This matrix can be used to select the nearest neighbors of each user. These neighbors are selected using the following code:"
   ]
  },
  {
   "cell_type": "code",
   "execution_count": 9,
   "metadata": {},
   "outputs": [],
   "source": [
    "neighbors = dists.argsort(axis=1)"
   ]
  },
  {
   "cell_type": "markdown",
   "metadata": {},
   "source": [
    "Now, iterate over all users to estimate predictions for all inputs:"
   ]
  },
  {
   "cell_type": "code",
   "execution_count": 10,
   "metadata": {},
   "outputs": [],
   "source": [
    "# We are going to fill this matrix with results\n",
    "filled = train.copy()\n",
    "for u in range(filled.shape[0]):\n",
    "    # n_u is neighbors of user\n",
    "    n_u = neighbors[u, 1:]\n",
    "    # t_u is training data\n",
    "    for m in range(filled.shape[1]):\n",
    "        # get relevant reviews in order!\n",
    "        revs = train[n_u, m]\n",
    "        # Only use valid entries:\n",
    "        revs = revs[binary[n_u, m]]\n",
    "        if len(revs):\n",
    "            # n is the number of reviews for this movie\n",
    "            n = len(revs)\n",
    "            # consider half of the reviews plus one\n",
    "            n //= 2\n",
    "            n += 1\n",
    "            revs = revs[:n]\n",
    "            filled[u, m] = np.mean(revs)"
   ]
  },
  {
   "cell_type": "markdown",
   "metadata": {},
   "source": [
    "The tricky part in the preceding snippet is indexing by the right values to select the neighbors who have rated the movie. Then, the half that is closest to the user is chosen (in the rev[:n] line) and those are averaged. Because some films have many reviews and others very few, it is hard to find a single number of users for all cases. Choosing half of the available data is a more generic approach than setting a fixed value."
   ]
  },
  {
   "cell_type": "markdown",
   "metadata": {},
   "source": [
    "To obtain the final result, the predictions need to be denormalized as follows:"
   ]
  },
  {
   "cell_type": "code",
   "execution_count": 11,
   "metadata": {},
   "outputs": [],
   "source": [
    "predicted = norm.inverse_transform(filled)"
   ]
  },
  {
   "cell_type": "markdown",
   "metadata": {},
   "source": [
    "The same metrics we learned about when discussing regression can be used. Recall that the r² score ranges from 0 (prediction is no better than baseline) to 1 (prediction is perfect). For convenience, it is often seen in percentage terms (from 0 to 100):"
   ]
  },
  {
   "cell_type": "code",
   "execution_count": 12,
   "metadata": {},
   "outputs": [
    {
     "name": "stdout",
     "output_type": "stream",
     "text": [
      "R2 score (binary neighbors): 30.2%\n"
     ]
    }
   ],
   "source": [
    "from sklearn import metrics\n",
    "\n",
    "r2 = metrics.r2_score(test[test > 0], predicted[test > 0])\n",
    "print('R2 score (binary neighbors): {:.1%}'.format(r2))"
   ]
  },
  {
   "cell_type": "markdown",
   "metadata": {},
   "source": [
    "The preceding code computes the result for user neighbors. The same code can be used to compute the movie neighbors by transposing the input matrix. That is, now look for similar movies rated by the same user and average their ratings."
   ]
  },
  {
   "cell_type": "markdown",
   "metadata": {},
   "source": [
    "The recommendation code was wrapped in a function called predict_positive_nn, so it can be called with the transpose matrix and finally transpose the result:"
   ]
  },
  {
   "cell_type": "code",
   "execution_count": 13,
   "metadata": {},
   "outputs": [
    {
     "name": "stdout",
     "output_type": "stream",
     "text": [
      "R2 score (binary movie neighbors): 31.7%\n"
     ]
    }
   ],
   "source": [
    "def predict_positive_nn(otrain, necessary=None):\n",
    "    binary = (otrain > 0)\n",
    "    norm = NormalizePositive(axis=1)\n",
    "    train = norm.fit_transform(otrain)\n",
    "    \n",
    "    # compute all pair-wise distances:\n",
    "    dists = distance.pdist(binary, 'correlation')\n",
    "    # Convert to square form, so that `dists[i,j]`\n",
    "    # contains the distance between `binary[i]` and `binary[j]`:\n",
    "    dists = distance.squareform(dists)\n",
    "\n",
    "    neighbors = dists.argsort(axis=1)\n",
    "    filled = train.copy()\n",
    "    for u in range(filled.shape[0]):\n",
    "        # n_u are the neighbors of user\n",
    "        n_u = neighbors[u, 1:]\n",
    "        for m in range(filled.shape[1]):\n",
    "            if necessary is not None and not necessary[u, m]:\n",
    "                continue\n",
    "            # This code could be faster using numpy indexing trickery as the\n",
    "            # cost of readibility (this is left as an exercise to the reader):\n",
    "            revs = [train[neigh, m] for neigh in n_u if binary[neigh, m]]\n",
    "            if len(revs):\n",
    "                n = len(revs)\n",
    "                n //= 2\n",
    "                n += 1\n",
    "                revs = revs[:n]\n",
    "                filled[u,m] = np.mean(revs)\n",
    "    # Finally, undo the normalization to get back the final reusl\n",
    "    return norm.inverse_transform(filled)\n",
    "\n",
    "train = reviews.copy()\n",
    "train[U[test_idxs], M[test_idxs]] = 0\n",
    "\n",
    "predicted = predict_positive_nn(train.T).T\n",
    "r2 = metrics.r2_score(test[test > 0], predicted[test > 0])\n",
    "print('R2 score (binary movie neighbors): {:.1%}'.format(r2))"
   ]
  },
  {
   "cell_type": "markdown",
   "metadata": {},
   "source": [
    "It can be seen that the results are not that different."
   ]
  },
  {
   "cell_type": "markdown",
   "metadata": {},
   "source": [
    "# A regression approach to recommendations"
   ]
  },
  {
   "cell_type": "markdown",
   "metadata": {},
   "source": [
    "An alternative to neighborhoods is to formulate recommendations as a regression problem and apply the methods that are learned in the Chapter 6."
   ]
  },
  {
   "cell_type": "markdown",
   "metadata": {},
   "source": [
    "First consider why this problem is not a good fit for a classification formulation. It could be certainly attempted to learn a five-class model, using one class for each possible movie rating. However, there are two problems with this approach:\n",
    "* The different possible errors are not at all the same. For example, mistaking a 5-star movie for a 4-star one is not as serious a mistake as mistaking a 5-star movie for a 1-star on.\n",
    "* Intermediate values make sense. Even if the inputs are only integer values, it is perfectly meaningful to say that the prediction is 4.3. We can see that this is a different prediction than 3.5, even if they both round to 4."
   ]
  },
  {
   "cell_type": "markdown",
   "metadata": {},
   "source": [
    "These two factors together mean that classification is not a good fit for the problem. The regression framework is a better fit."
   ]
  },
  {
   "cell_type": "markdown",
   "metadata": {},
   "source": [
    "For a basic approach, two choices again are available: movie-specific or user-specific models can be built. In this case, user-specific models are going to be first built. It is hypothesized that this will give a high value to users who are similar to another user (or a negative value to users who like the same movies that another user dislikes)."
   ]
  },
  {
   "cell_type": "markdown",
   "metadata": {},
   "source": [
    "Setting up the train and test matrices is the same method as before (including running the normalization steps). Therefore, jump directly to the learning step:"
   ]
  },
  {
   "cell_type": "markdown",
   "metadata": {},
   "source": [
    "1. First, a regression object is instantiated as follows (recall that, in Chapter 2, the conclusion had been reached that an elastic net with an automatic parameter search was a good general-purpose regression method):"
   ]
  },
  {
   "cell_type": "code",
   "execution_count": 14,
   "metadata": {},
   "outputs": [],
   "source": [
    "from sklearn.linear_model import ElasticNetCV\n",
    "\n",
    "reg = ElasticNetCV(alphas=[0.0125, 0.025, 0.05, .125, .25, .5, 1., 2., 4.])"
   ]
  },
  {
   "cell_type": "markdown",
   "metadata": {},
   "source": [
    "2. A data matrix that will contain a rating for every user–movie pair then is built. It is initialized as a copy of the training data:"
   ]
  },
  {
   "cell_type": "code",
   "execution_count": 15,
   "metadata": {},
   "outputs": [],
   "source": [
    "binary = (train > 0)\n",
    "norm = NormalizePositive(axis=1)\n",
    "train = norm.fit_transform(train)\n",
    "filled = train.copy()"
   ]
  },
  {
   "cell_type": "markdown",
   "metadata": {},
   "source": [
    "3. Now, iterate over all the users, and each time learn a regression model based only on the data that user has given:"
   ]
  },
  {
   "cell_type": "code",
   "execution_count": 16,
   "metadata": {},
   "outputs": [
    {
     "name": "stderr",
     "output_type": "stream",
     "text": [
      "c:\\Users\\robit\\miniconda3\\envs\\tf\\lib\\site-packages\\sklearn\\linear_model\\_coordinate_descent.py:648: ConvergenceWarning: Objective did not converge. You might want to increase the number of iterations, check the scale of the features or consider increasing regularisation. Duality gap: 0.000e+00, tolerance: 0.000e+00\n",
      "  model = cd_fast.enet_coordinate_descent(\n"
     ]
    }
   ],
   "source": [
    "for u in range(train.shape[0]):\n",
    "    curtrain = np.delete(train, u, axis=0)\n",
    "    # binary records whether this rating is present\n",
    "    bu = binary[u]\n",
    "    # fit the current user based on everybody else\n",
    "    reg.fit(curtrain[:, bu].T, train[u, bu])\n",
    "    # Fill in all the missing ratings\n",
    "    filled[u, ~bu] = reg.predict(curtrain[:, ~bu].T)"
   ]
  },
  {
   "cell_type": "markdown",
   "metadata": {},
   "source": [
    "4. Evaluating the method can be done exactly as before:"
   ]
  },
  {
   "cell_type": "code",
   "execution_count": 17,
   "metadata": {},
   "outputs": [
    {
     "name": "stdout",
     "output_type": "stream",
     "text": [
      "R2 score (user regression): 27.8%\n"
     ]
    }
   ],
   "source": [
    "predicted = norm.inverse_transform(filled)\n",
    "r2 = metrics.r2_score(test[test > 0], predicted[test > 0])\n",
    "print('R2 score (user regression): {:.1%}'.format(r2))"
   ]
  },
  {
   "cell_type": "markdown",
   "metadata": {},
   "source": [
    "As before, this code can be adapted to perform movie regression by using the transposed matrix."
   ]
  },
  {
   "cell_type": "markdown",
   "metadata": {},
   "source": [
    "# Combining multiple methods"
   ]
  },
  {
   "cell_type": "markdown",
   "metadata": {},
   "source": [
    "The aforementioned methods are now combined into a single prediction. Perhaps the first thought that comes to mind is that the predictions can be averaged. This might give decent results, but there is no reason to think that all estimated predictions should be treated the same. It might be that one is better than the others."
   ]
  },
  {
   "cell_type": "markdown",
   "metadata": {},
   "source": [
    "A weighted average can be tried, multiplying each prediction by a given weight before summing it all up. How are the best weights found, though? They are learnt from the data, of course!"
   ]
  },
  {
   "cell_type": "markdown",
   "metadata": {},
   "source": [
    "Ensemble learning: A general technique in machine learning that is not just applicable in regression that are being used: ensemble learning. Different forms of ensemble learning differ in how the base predictors are combined."
   ]
  },
  {
   "cell_type": "markdown",
   "metadata": {},
   "source": [
    "In order to combine the methods, a technique called stacked learning will be used. Have a look at the following diagram:\n",
    "# ![Stacked learning diagram](./Stacked%20learning%20diagram.PNG)"
   ]
  },
  {
   "cell_type": "markdown",
   "metadata": {},
   "source": [
    "In order to fit this combination model, the training data will be splitted into two. Alternatively, cross-validation could has been used (the original stacked-learning model worked like this). However, in this case, there is enough data to obtain good estimates by leaving some aside."
   ]
  },
  {
   "cell_type": "markdown",
   "metadata": {},
   "source": [
    "Just as when hyperparameters were being fitted, two layers of training/testing splits are needed: a first higher-level split, and then inside the training split, a second split that can fit the stacked learner. This is analogous to how multiple levels of cross-validation are used when using an inner cross-validation loop to find hyperparameter values:"
   ]
  },
  {
   "cell_type": "code",
   "execution_count": 18,
   "metadata": {},
   "outputs": [
    {
     "name": "stderr",
     "output_type": "stream",
     "text": [
      "c:\\Users\\robit\\miniconda3\\envs\\tf\\lib\\site-packages\\sklearn\\linear_model\\_coordinate_descent.py:648: ConvergenceWarning: Objective did not converge. You might want to increase the number of iterations, check the scale of the features or consider increasing regularisation. Duality gap: 0.000e+00, tolerance: 0.000e+00\n",
      "  model = cd_fast.enet_coordinate_descent(\n"
     ]
    },
    {
     "data": {
      "text/html": [
       "<style>#sk-container-id-1 {color: black;background-color: white;}#sk-container-id-1 pre{padding: 0;}#sk-container-id-1 div.sk-toggleable {background-color: white;}#sk-container-id-1 label.sk-toggleable__label {cursor: pointer;display: block;width: 100%;margin-bottom: 0;padding: 0.3em;box-sizing: border-box;text-align: center;}#sk-container-id-1 label.sk-toggleable__label-arrow:before {content: \"▸\";float: left;margin-right: 0.25em;color: #696969;}#sk-container-id-1 label.sk-toggleable__label-arrow:hover:before {color: black;}#sk-container-id-1 div.sk-estimator:hover label.sk-toggleable__label-arrow:before {color: black;}#sk-container-id-1 div.sk-toggleable__content {max-height: 0;max-width: 0;overflow: hidden;text-align: left;background-color: #f0f8ff;}#sk-container-id-1 div.sk-toggleable__content pre {margin: 0.2em;color: black;border-radius: 0.25em;background-color: #f0f8ff;}#sk-container-id-1 input.sk-toggleable__control:checked~div.sk-toggleable__content {max-height: 200px;max-width: 100%;overflow: auto;}#sk-container-id-1 input.sk-toggleable__control:checked~label.sk-toggleable__label-arrow:before {content: \"▾\";}#sk-container-id-1 div.sk-estimator input.sk-toggleable__control:checked~label.sk-toggleable__label {background-color: #d4ebff;}#sk-container-id-1 div.sk-label input.sk-toggleable__control:checked~label.sk-toggleable__label {background-color: #d4ebff;}#sk-container-id-1 input.sk-hidden--visually {border: 0;clip: rect(1px 1px 1px 1px);clip: rect(1px, 1px, 1px, 1px);height: 1px;margin: -1px;overflow: hidden;padding: 0;position: absolute;width: 1px;}#sk-container-id-1 div.sk-estimator {font-family: monospace;background-color: #f0f8ff;border: 1px dotted black;border-radius: 0.25em;box-sizing: border-box;margin-bottom: 0.5em;}#sk-container-id-1 div.sk-estimator:hover {background-color: #d4ebff;}#sk-container-id-1 div.sk-parallel-item::after {content: \"\";width: 100%;border-bottom: 1px solid gray;flex-grow: 1;}#sk-container-id-1 div.sk-label:hover label.sk-toggleable__label {background-color: #d4ebff;}#sk-container-id-1 div.sk-serial::before {content: \"\";position: absolute;border-left: 1px solid gray;box-sizing: border-box;top: 0;bottom: 0;left: 50%;z-index: 0;}#sk-container-id-1 div.sk-serial {display: flex;flex-direction: column;align-items: center;background-color: white;padding-right: 0.2em;padding-left: 0.2em;position: relative;}#sk-container-id-1 div.sk-item {position: relative;z-index: 1;}#sk-container-id-1 div.sk-parallel {display: flex;align-items: stretch;justify-content: center;background-color: white;position: relative;}#sk-container-id-1 div.sk-item::before, #sk-container-id-1 div.sk-parallel-item::before {content: \"\";position: absolute;border-left: 1px solid gray;box-sizing: border-box;top: 0;bottom: 0;left: 50%;z-index: -1;}#sk-container-id-1 div.sk-parallel-item {display: flex;flex-direction: column;z-index: 1;position: relative;background-color: white;}#sk-container-id-1 div.sk-parallel-item:first-child::after {align-self: flex-end;width: 50%;}#sk-container-id-1 div.sk-parallel-item:last-child::after {align-self: flex-start;width: 50%;}#sk-container-id-1 div.sk-parallel-item:only-child::after {width: 0;}#sk-container-id-1 div.sk-dashed-wrapped {border: 1px dashed gray;margin: 0 0.4em 0.5em 0.4em;box-sizing: border-box;padding-bottom: 0.4em;background-color: white;}#sk-container-id-1 div.sk-label label {font-family: monospace;font-weight: bold;display: inline-block;line-height: 1.2em;}#sk-container-id-1 div.sk-label-container {text-align: center;}#sk-container-id-1 div.sk-container {/* jupyter's `normalize.less` sets `[hidden] { display: none; }` but bootstrap.min.css set `[hidden] { display: none !important; }` so we also need the `!important` here to be able to override the default hidden behavior on the sphinx rendered scikit-learn.org. See: https://github.com/scikit-learn/scikit-learn/issues/21755 */display: inline-block !important;position: relative;}#sk-container-id-1 div.sk-text-repr-fallback {display: none;}</style><div id=\"sk-container-id-1\" class=\"sk-top-container\"><div class=\"sk-text-repr-fallback\"><pre>LinearRegression()</pre><b>In a Jupyter environment, please rerun this cell to show the HTML representation or trust the notebook. <br />On GitHub, the HTML representation is unable to render, please try loading this page with nbviewer.org.</b></div><div class=\"sk-container\" hidden><div class=\"sk-item\"><div class=\"sk-estimator sk-toggleable\"><input class=\"sk-toggleable__control sk-hidden--visually\" id=\"sk-estimator-id-1\" type=\"checkbox\" checked><label for=\"sk-estimator-id-1\" class=\"sk-toggleable__label sk-toggleable__label-arrow\">LinearRegression</label><div class=\"sk-toggleable__content\"><pre>LinearRegression()</pre></div></div></div></div></div>"
      ],
      "text/plain": [
       "LinearRegression()"
      ]
     },
     "execution_count": 18,
     "metadata": {},
     "output_type": "execute_result"
    }
   ],
   "source": [
    "from sklearn import linear_model\n",
    "\n",
    "def get_train_test(reviews):\n",
    "    test_idxs = np.array(random.sample(range(len(U)), len(U)//10))\n",
    "\n",
    "    train = reviews.copy()\n",
    "    train[U[test_idxs], M[test_idxs]] = 0\n",
    "\n",
    "    test = np.zeros_like(reviews)\n",
    "    test[U[test_idxs], M[test_idxs]] = reviews[U[test_idxs], M[test_idxs]]\n",
    "    return train, test\n",
    "\n",
    "def predict_regression(otrain):\n",
    "    binary = (otrain > 0)\n",
    "    norm = NormalizePositive(axis=1)\n",
    "    train = norm.fit_transform(otrain)\n",
    "\n",
    "    reg = ElasticNetCV(alphas=[0.0125, 0.025, 0.05, .125, .25, .5, 1., 2., 4.])\n",
    "    filled = train.copy()\n",
    "    # iterate over all users:\n",
    "    for u in range(train.shape[0]):\n",
    "        curtrain = np.delete(train, u, axis=0)\n",
    "        bu = binary[u]\n",
    "        if np.sum(bu) > 10:\n",
    "            reg.fit(curtrain[:,bu].T, train[u, bu])\n",
    "            # Fill the values that were not there already\n",
    "            filled[u, ~bu] = reg.predict(curtrain[:,~bu].T)\n",
    "    return norm.inverse_transform(filled)\n",
    "\n",
    "train = reviews.copy()\n",
    "train[U[test_idxs], M[test_idxs]] = 0\n",
    "\n",
    "# Now split the training again into two subgroups\n",
    "tr_train, tr_test = get_train_test(train)\n",
    "tr_predicted0 = predict_positive_nn(tr_train)\n",
    "tr_predicted1 = predict_positive_nn(tr_train.T).T\n",
    "tr_predicted2 = predict_regression(tr_train)\n",
    "tr_predicted3 = predict_regression(tr_train.T).T\n",
    "# Now assemble these predictions into a single array:\n",
    "stack_tr = np.array([\n",
    "    tr_predicted0[tr_test > 0],\n",
    "    tr_predicted1[tr_test > 0],\n",
    "    tr_predicted2[tr_test > 0],\n",
    "    tr_predicted3[tr_test > 0],\n",
    "]).T\n",
    "# Fit a simple linear regression\n",
    "lr = linear_model.LinearRegression()\n",
    "lr.fit(stack_tr, tr_test[tr_test > 0])"
   ]
  },
  {
   "cell_type": "markdown",
   "metadata": {},
   "source": [
    "Now, the whole process is applied to the testing split and evaluate:"
   ]
  },
  {
   "cell_type": "code",
   "execution_count": 19,
   "metadata": {},
   "outputs": [],
   "source": [
    "stack_te = np.array([\n",
    "    tr_predicted0.ravel(),\n",
    "    tr_predicted1.ravel(),\n",
    "    tr_predicted2.ravel(),\n",
    "    tr_predicted3.ravel(),\n",
    "]).T\n",
    "predicted = lr.predict(stack_te).reshape(train.shape)"
   ]
  },
  {
   "cell_type": "markdown",
   "metadata": {},
   "source": [
    "Evaluation is as before:"
   ]
  },
  {
   "cell_type": "code",
   "execution_count": 20,
   "metadata": {},
   "outputs": [
    {
     "name": "stdout",
     "output_type": "stream",
     "text": [
      "R2 stacked: 34.27%\n"
     ]
    }
   ],
   "source": [
    "r2 = metrics.r2_score(test[test > 0], predicted[test > 0])\n",
    "print('R2 stacked: {:.2%}'.format(r2))"
   ]
  },
  {
   "cell_type": "markdown",
   "metadata": {},
   "source": [
    "The result of the stacked learning is better than any single method achieved. It is quite typical that combining methods is a simple way to obtain a small performance boost, but that the results are not earth shattering."
   ]
  },
  {
   "cell_type": "markdown",
   "metadata": {},
   "source": [
    "By having a flexible way to combine multiple methods, any idea that is wished can be simply tried by adding it into the mix of learners and letting the system fold it into the prediction. For example, the neighborhood criterion in the nearest-neighbor code can be replaced."
   ]
  },
  {
   "cell_type": "markdown",
   "metadata": {},
   "source": [
    "However, it does have to be careful to not overfit the dataset. In order to have a good estimate, and if data is plentiful, a portion of the data should be left untouched until a final model that is about to go into production is obtained. Then, testing the model on this held-out data will give an unbiased prediction of how well it should be expected to work in the real world."
   ]
  },
  {
   "cell_type": "markdown",
   "metadata": {},
   "source": [
    "Of course, collaborative filtering also works with neural networks, but don't forget to keep validation data available for the testing—or, more precisely, validating—the ensemble model."
   ]
  },
  {
   "cell_type": "markdown",
   "metadata": {},
   "source": [
    "# Basket analysis"
   ]
  },
  {
   "cell_type": "markdown",
   "metadata": {},
   "source": [
    "The methods that have been looked at so far work well when there are numeric ratings of how much a user liked a product. This type of information is not always available, as it requires active behavior on the part of consumers."
   ]
  },
  {
   "cell_type": "markdown",
   "metadata": {},
   "source": [
    "Basket analysis is an alternative mode of learning recommendations. The following screenshot shows a snippet of Amazon.com's web page for Tolstoy's classic book War and Peace, demonstrating a common way to use these results:\n",
    "# ![Amazon.com's web page](./Amazon.com's%20web%20page.PNG)"
   ]
  },
  {
   "cell_type": "markdown",
   "metadata": {},
   "source": [
    "This mode of learning is, of course, not only applicable to shopping baskets. This depends on the business context, but keep in mind that the techniques are flexible and can be useful in many settings."
   ]
  },
  {
   "cell_type": "markdown",
   "metadata": {},
   "source": [
    "Beer and diapers: One of the stories that is often mentioned in the context of basket analysis is the diapers and beer story. There has been much discussion of whether this is true or just an urban myth. In this case, it seems that it is true. In the early 1990s, Osco Drug discovered that, in the early evening, beer and diapers were bought together, and it did surprise the managers who had, until then, never considered these two products to be similar. What is not true is that this led the store to move the beer display closer to the diaper section. Also, there is no idea whether it was really true that fathers were buying beer and diapers together more than mothers (or grandparents)."
   ]
  },
  {
   "cell_type": "markdown",
   "metadata": {},
   "source": [
    "## Obtaining useful predictions"
   ]
  },
  {
   "cell_type": "markdown",
   "metadata": {},
   "source": [
    "It is not just customers who bought X also bought Y, even though that is how many online retailers phrase their recommendations (see the Amazon.com screenshot given earlier); a real system cannot work like this. Because such a system would get fooled by very frequently bought items and would simply recommend that which is popular without any personalization."
   ]
  },
  {
   "cell_type": "markdown",
   "metadata": {},
   "source": [
    "For example, at a supermarket, many customers buy bread every time they shop, or almost every time (for the sake of argument, let say that 50 percent of visits end with the purchase of bread). So, if only focus on any particular item, say, dishwasher soap, and look at what is frequently bought with dishwasher soap, it might be found that bread is frequently bought with dishwasher soap. However, bread is frequently bought with anything else, just because people frequently buy bread."
   ]
  },
  {
   "cell_type": "markdown",
   "metadata": {},
   "source": [
    "The real goal is customers who bought X are statistically more likely to buy Y than the average customer who has not bought X. If customer buy dishwasher soap, customer is likely to buy bread, but not more so than the baseline. Similarly, a bookstore that simply recommended bestsellers no matter which books you had already bought would not be doing a good job of personalizing recommendations."
   ]
  },
  {
   "cell_type": "markdown",
   "metadata": {},
   "source": [
    "## Analyzing supermarket shopping baskets"
   ]
  },
  {
   "cell_type": "markdown",
   "metadata": {},
   "source": [
    "As an example, look at dataset consisting of anonymous transactions at a supermarket in Belgium. The data file is available from several online sources."
   ]
  },
  {
   "cell_type": "markdown",
   "metadata": {},
   "source": [
    "Begin by loading the dataset and looking at some statistics (this is always a good idea):"
   ]
  },
  {
   "cell_type": "code",
   "execution_count": 276,
   "metadata": {},
   "outputs": [],
   "source": [
    "from collections import defaultdict\n",
    "from itertools import chain\n",
    "# File is downloaded as a compressed file\n",
    "import gzip\n",
    "\n",
    "url = 'http://fimi.uantwerpen.be/data/retail.dat.gz'\n",
    "filename = url.split(\"/\")[-1]\n",
    "with open(filename, \"wb\") as f:\n",
    "    r = requests.get(url)\n",
    "    f.write(r.content)\n",
    "\n",
    "# file format is a line per transaction\n",
    "# of the form '12 34 342 5...'\n",
    "dataset = [[int(tok) for tok in line.strip().split()] for line in gzip.open('retail.dat.gz')]\n",
    "# It is more convenient to work with sets\n",
    "dataset = [set(d) for d in dataset]\n",
    "# count how often each product was purchased:\n",
    "counts = defaultdict(int)\n",
    "for elem in chain(*dataset):\n",
    "    counts[elem] += 1"
   ]
  },
  {
   "cell_type": "markdown",
   "metadata": {},
   "source": [
    "The resulting counts summarized can be seen in the following table:"
   ]
  },
  {
   "cell_type": "code",
   "execution_count": 277,
   "metadata": {},
   "outputs": [
    {
     "name": "stdout",
     "output_type": "stream",
     "text": [
      "Number of times bought | Number of products\n",
      "-------------------------------------------\n",
      "                 -   1 |         2224\n",
      "               2 -   3 |         2438\n",
      "               4 -   7 |         2508\n",
      "               8 -  15 |         2251\n",
      "              16 -  31 |         2182\n",
      "              32 -  63 |         1940\n",
      "              64 - 127 |         1523\n",
      "             128 - 511 |         1225\n",
      "             512 -     |          179\n"
     ]
    }
   ],
   "source": [
    "countsv = np.array(list(counts.values()))\n",
    "bins = [1, 2, 4, 8, 16, 32, 64, 128, 512]\n",
    "print('{0:11} | {1:12}'.format('Number of times bought', 'Number of products'))\n",
    "print('-------------------------------------------')\n",
    "for i in range(len(bins)):\n",
    "    bot = bins[i]\n",
    "    top = (bins[i + 1] if (i + 1) < len(bins) else 100000000000)\n",
    "    print('{0:16} - {1:3} | {2:12}'.format((bot if bot > 1 else ''), (top-1 if top < 1000 else ''), np.sum((countsv >= bot) & (countsv < top))))"
   ]
  },
  {
   "cell_type": "markdown",
   "metadata": {},
   "source": [
    "There are many products that have only been bought a few times. In order to be able to provide recommendations for these products, a lot more data would be needed."
   ]
  },
  {
   "cell_type": "markdown",
   "metadata": {},
   "source": [
    "There are a few open source implementations of basket analysis algorithms out there, but none that are well integrated with scikit-learn or any of the other packages that has been used. Therefore, one classic algorithm are going to be implemented. This algorithm is called the Apriori algorithm, and it is a bit old (it was published in 1994 by Rakesh Agrawal and Ramakrishnan Srikant), but it still works (algorithms, of course, never stop working; they just get superseded by better ideas)."
   ]
  },
  {
   "cell_type": "markdown",
   "metadata": {},
   "source": [
    "The Apriori algorithm takes a collection of sets (that is, your shopping baskets) and returns sets that are very frequent as subsets (that is, items that together are part of many shopping baskets)."
   ]
  },
  {
   "cell_type": "markdown",
   "metadata": {},
   "source": [
    "The algorithm works using a bottom-up approach: starting with the smallest candidates (those composed of a single element), it builds up, adding one element at a time. The algorithm takes a set of baskets and the minimum input that should be considered (a parameter that will be called minsupport). The first step is to consider all baskets with just one element with minimal support. Then, these are combined in all possible ways to build up two-element baskets. These are filtered in order to keep only those that have minimal support. Then, all possible three-element baskets are considered, those with minimal support are kept, and so on. The trick of Apriori is that when building a larger basket, it only needs to consider those that are built up of smaller sets."
   ]
  },
  {
   "cell_type": "markdown",
   "metadata": {},
   "source": [
    "The following diagram presents a schematic view of the algorithm:\n",
    "# ![A schematic view of the Apriori algorithm](./A%20schematic%20view%20of%20the%20Apriori%20algorithm.PNG)"
   ]
  },
  {
   "cell_type": "markdown",
   "metadata": {},
   "source": [
    "This algorithm shall be now implemented in code. The minimum support is need to be defined:"
   ]
  },
  {
   "cell_type": "code",
   "execution_count": 278,
   "metadata": {},
   "outputs": [],
   "source": [
    "minsupport = 100"
   ]
  },
  {
   "cell_type": "markdown",
   "metadata": {},
   "source": [
    "Support is the number of times a set of products was purchased together."
   ]
  },
  {
   "cell_type": "markdown",
   "metadata": {},
   "source": [
    "The goal of Apriori is to find item sets with high support. Logically, any item set with more than minimal support can only be composed of items that themselves have at least minimal support:"
   ]
  },
  {
   "cell_type": "code",
   "execution_count": 279,
   "metadata": {},
   "outputs": [],
   "source": [
    "valid = set(k for k, v in counts.items() if (v >= minsupport))\n",
    "dataset = [(valid&d) for d in dataset if len(valid&d)]"
   ]
  },
  {
   "cell_type": "markdown",
   "metadata": {},
   "source": [
    "The initial itemsets are singletons (sets with a single element). In particular, all singletons that have at least minimal support are frequent itemsets:"
   ]
  },
  {
   "cell_type": "code",
   "execution_count": 280,
   "metadata": {},
   "outputs": [],
   "source": [
    "itemsets = [frozenset([v]) for v in valid]"
   ]
  },
  {
   "cell_type": "markdown",
   "metadata": {},
   "source": [
    "An index need to be set up to speed up computation using the following code:"
   ]
  },
  {
   "cell_type": "code",
   "execution_count": 281,
   "metadata": {},
   "outputs": [],
   "source": [
    "baskets = defaultdict(set)\n",
    "for i, ds in enumerate(dataset):\n",
    "    for ell in ds:\n",
    "        baskets[ell].add(i)"
   ]
  },
  {
   "cell_type": "markdown",
   "metadata": {},
   "source": [
    "That is, baskets[i] contains the indices of all the elements in the dataset where i occurs. Now, the loop is given as follows:"
   ]
  },
  {
   "cell_type": "code",
   "execution_count": 290,
   "metadata": {},
   "outputs": [
    {
     "name": "stdout",
     "output_type": "stream",
     "text": [
      "0\n"
     ]
    },
    {
     "name": "stderr",
     "output_type": "stream",
     "text": [
      "100%|██████████| 3446592/3446592 [04:05<00:00, 14020.89it/s] \n"
     ]
    },
    {
     "name": "stdout",
     "output_type": "stream",
     "text": [
      "1\n"
     ]
    },
    {
     "name": "stderr",
     "output_type": "stream",
     "text": [
      "100%|██████████| 5108670/5108670 [6:57:28<00:00, 203.95it/s]    \n"
     ]
    },
    {
     "name": "stdout",
     "output_type": "stream",
     "text": [
      "2\n"
     ]
    },
    {
     "name": "stderr",
     "output_type": "stream",
     "text": [
      "100%|██████████| 2692008/2692008 [6:15:01<00:00, 119.64it/s]  \n"
     ]
    },
    {
     "name": "stdout",
     "output_type": "stream",
     "text": [
      "3\n"
     ]
    },
    {
     "name": "stderr",
     "output_type": "stream",
     "text": [
      "100%|██████████| 557753/557753 [1:35:07<00:00, 97.72it/s] \n"
     ]
    },
    {
     "name": "stdout",
     "output_type": "stream",
     "text": [
      "4\n"
     ]
    },
    {
     "name": "stderr",
     "output_type": "stream",
     "text": [
      "100%|██████████| 50004/50004 [09:25<00:00, 88.49it/s] "
     ]
    },
    {
     "name": "stdout",
     "output_type": "stream",
     "text": [
      "Finished!\n"
     ]
    },
    {
     "name": "stderr",
     "output_type": "stream",
     "text": [
      "\n"
     ]
    }
   ],
   "source": [
    "# from tqdm import tqdm\n",
    "\n",
    "# freqsets = []\n",
    "# for i in range(16):\n",
    "#     print(i)\n",
    "#     nextsets = []\n",
    "#     tested = set()\n",
    "#     # Create a new candidate set by adding v to it\n",
    "#     c_list = [(it | frozenset([v])) for it in itemsets for v in valid if v not in it]\n",
    "#     for c in tqdm(c_list):\n",
    "#         # check if we have tested it already\n",
    "#         if c in tested:\n",
    "#             continue\n",
    "#         tested.add(c)\n",
    "#         candidates = set()\n",
    "#         for elem in c:\n",
    "#             candidates.update(baskets[elem])\n",
    "#         support_c = sum(1 for d in candidates if dataset[d].issuperset(c))\n",
    "#         if support_c > minsupport:\n",
    "#             nextsets.append(c)\n",
    "#     freqsets.extend(nextsets)\n",
    "#     itemsets = nextsets\n",
    "#     if not len(itemsets):\n",
    "#         break\n",
    "# print(\"Finished!\")"
   ]
  },
  {
   "cell_type": "code",
   "execution_count": 291,
   "metadata": {},
   "outputs": [],
   "source": [
    "# import pickle\n",
    "\n",
    "# with open('./freqsets.pickle', 'wb') as f:\n",
    "#     # Pickle the 'freqsets' dictionary using the highest protocol available.\n",
    "#     pickle.dump(freqsets, f, pickle.HIGHEST_PROTOCOL)"
   ]
  },
  {
   "cell_type": "code",
   "execution_count": null,
   "metadata": {},
   "outputs": [],
   "source": [
    "with open('./freqsets.pickle', 'rb') as f:\n",
    "    # The protocol version used is detected automatically, so we do not\n",
    "    # have to specify it.\n",
    "    freqsets = pickle.load(f)"
   ]
  },
  {
   "cell_type": "markdown",
   "metadata": {},
   "source": [
    "The Apriori algorithm returns frequent itemsets—that is, baskets that are present above a certain threshold (given by the minsupport variable in the code)."
   ]
  },
  {
   "cell_type": "markdown",
   "metadata": {},
   "source": [
    "# Association rule mining"
   ]
  },
  {
   "cell_type": "markdown",
   "metadata": {},
   "source": [
    "Frequent item sets are not very useful by themselves. The next step is to build association rules. Because of this final goal, the whole field of basket analysis is sometimes called association rule mining."
   ]
  },
  {
   "cell_type": "markdown",
   "metadata": {},
   "source": [
    "An association rule is a statement of the type, if X, then Y—for example, if a customer bought War and Peace, then they will buy Anna Karenina. Note that the rule is not deterministic (not all customers who buy X will buy Y), but it is rather cumbersome to always spell it out: if a customer bought X, they are more likely than baseline to buy Y; thus, let say if X, then Y, but it is meant in a probabilistic sense."
   ]
  },
  {
   "cell_type": "markdown",
   "metadata": {},
   "source": [
    "Interestingly, both the antecedent and the conclusion may contain multiple objects: customers who bought X, Y, and Z also bought A, B, and C. Multiple antecedents may allow to make more specific predictions than are possible from a single item."
   ]
  },
  {
   "cell_type": "markdown",
   "metadata": {},
   "source": [
    "It is possible to get from a frequent set to a rule by just trying all the possible combinations of X implies Y.  However, the goal is to have valuable rules. Therefore, the value of a rule needs to be measured. A commonly used measure is called the lift. The lift is the ratio between the probability obtained by applying the rule and the baseline, as shown in the following formula:\n",
    "# ![Lift formula](./Lift%20formula.PNG)"
   ]
  },
  {
   "cell_type": "markdown",
   "metadata": {},
   "source": [
    "In the preceding formula, P(Y) is the fraction of all the transactions that include Y, while P(Y|X) is the fraction of transactions that include Y, given that they also include X. In practice, the goal is to have values of lift of at least 10, perhaps even 100."
   ]
  },
  {
   "cell_type": "markdown",
   "metadata": {},
   "source": [
    "Refer to the following code:"
   ]
  },
  {
   "cell_type": "code",
   "execution_count": 304,
   "metadata": {},
   "outputs": [
    {
     "name": "stdout",
     "output_type": "stream",
     "text": [
      "Rule frozenset({1046}) -> frozenset({32}) has consequent count: 15167.0 (17.6%) antencedent count: 365.0 antencedent and concequent count: 339.0 lift: 5.266851157569019\n",
      "Rule frozenset({32}) -> frozenset({1046}) has consequent count: 365.0 (0.4%) antencedent count: 15167.0 antencedent and concequent count: 339.0 lift: 5.266851157569018\n",
      "Rule frozenset({38}) -> frozenset({36}) has consequent count: 2936.0 (3.4%) antencedent count: 15596.0 antencedent and concequent count: 2790.0 lift: 5.240573589049942\n",
      "Rule frozenset({36}) -> frozenset({38}) has consequent count: 15596.0 (18.1%) antencedent count: 2936.0 antencedent and concequent count: 2790.0 lift: 5.240573589049942\n",
      "Rule frozenset({38}) -> frozenset({37}) has consequent count: 1074.0 (1.2%) antencedent count: 15596.0 antencedent and concequent count: 1046.0 lift: 5.371036144014389\n",
      "Rule frozenset({37}) -> frozenset({38}) has consequent count: 15596.0 (18.1%) antencedent count: 1074.0 antencedent and concequent count: 1046.0 lift: 5.371036144014389\n",
      "Rule frozenset({47}) -> frozenset({38}) has consequent count: 15596.0 (18.1%) antencedent count: 444.0 antencedent and concequent count: 432.0 lift: 5.365762530933088\n",
      "Rule frozenset({38}) -> frozenset({47}) has consequent count: 444.0 (0.5%) antencedent count: 15596.0 antencedent and concequent count: 432.0 lift: 5.365762530933088\n",
      "Rule frozenset({55}) -> frozenset({38}) has consequent count: 15596.0 (18.1%) antencedent count: 704.0 antencedent and concequent count: 657.0 lift: 5.146635154847396\n",
      "Rule frozenset({38}) -> frozenset({55}) has consequent count: 704.0 (0.8%) antencedent count: 15596.0 antencedent and concequent count: 657.0 lift: 5.146635154847396\n",
      "Rule frozenset({38}) -> frozenset({56}) has consequent count: 535.0 (0.6%) antencedent count: 15596.0 antencedent and concequent count: 514.0 lift: 5.298342254064665\n",
      "Rule frozenset({56}) -> frozenset({38}) has consequent count: 15596.0 (18.1%) antencedent count: 535.0 antencedent and concequent count: 514.0 lift: 5.298342254064665\n",
      "Rule frozenset({38}) -> frozenset({105}) has consequent count: 657.0 (0.8%) antencedent count: 15596.0 antencedent and concequent count: 643.0 lift: 5.397296481203665\n",
      "Rule frozenset({105}) -> frozenset({38}) has consequent count: 15596.0 (18.1%) antencedent count: 657.0 antencedent and concequent count: 643.0 lift: 5.397296481203664\n",
      "Rule frozenset({38}) -> frozenset({110}) has consequent count: 2794.0 (3.2%) antencedent count: 15596.0 antencedent and concequent count: 2725.0 lift: 5.378618937219921\n",
      "Rule frozenset({110}) -> frozenset({38}) has consequent count: 15596.0 (18.1%) antencedent count: 2794.0 antencedent and concequent count: 2725.0 lift: 5.378618937219921\n",
      "Rule frozenset({38}) -> frozenset({170}) has consequent count: 3099.0 (3.6%) antencedent count: 15596.0 antencedent and concequent count: 3031.0 lift: 5.393802396441083\n",
      "Rule frozenset({170}) -> frozenset({38}) has consequent count: 15596.0 (18.1%) antencedent count: 3099.0 antencedent and concequent count: 3031.0 lift: 5.393802396441083\n",
      "Rule frozenset({38}) -> frozenset({281}) has consequent count: 453.0 (0.5%) antencedent count: 15596.0 antencedent and concequent count: 432.0 lift: 5.25915797733839\n",
      "Rule frozenset({281}) -> frozenset({38}) has consequent count: 15596.0 (18.1%) antencedent count: 453.0 antencedent and concequent count: 432.0 lift: 5.25915797733839\n",
      "Rule frozenset({286}) -> frozenset({38}) has consequent count: 15596.0 (18.1%) antencedent count: 1183.0 antencedent and concequent count: 1116.0 lift: 5.202476435317203\n",
      "Rule frozenset({38}) -> frozenset({286}) has consequent count: 1183.0 (1.4%) antencedent count: 15596.0 antencedent and concequent count: 1116.0 lift: 5.2024764353172035\n",
      "Rule frozenset({38}) -> frozenset({370}) has consequent count: 375.0 (0.4%) antencedent count: 15596.0 antencedent and concequent count: 362.0 lift: 5.323631358467983\n",
      "Rule frozenset({370}) -> frozenset({38}) has consequent count: 15596.0 (18.1%) antencedent count: 375.0 antencedent and concequent count: 362.0 lift: 5.323631358467983\n",
      "Rule frozenset({38}) -> frozenset({371}) has consequent count: 782.0 (0.9%) antencedent count: 15596.0 antencedent and concequent count: 767.0 lift: 5.409028661031191\n",
      "Rule frozenset({371}) -> frozenset({38}) has consequent count: 15596.0 (18.1%) antencedent count: 782.0 antencedent and concequent count: 767.0 lift: 5.40902866103119\n",
      "Rule frozenset({38}) -> frozenset({390}) has consequent count: 376.0 (0.4%) antencedent count: 15596.0 antencedent and concequent count: 354.0 lift: 5.192136349745979\n",
      "Rule frozenset({390}) -> frozenset({38}) has consequent count: 15596.0 (18.1%) antencedent count: 376.0 antencedent and concequent count: 354.0 lift: 5.192136349745979\n",
      "Rule frozenset({790}) -> frozenset({38}) has consequent count: 15596.0 (18.1%) antencedent count: 523.0 antencedent and concequent count: 508.0 lift: 5.3566429005427185\n",
      "Rule frozenset({38}) -> frozenset({790}) has consequent count: 523.0 (0.6%) antencedent count: 15596.0 antencedent and concequent count: 508.0 lift: 5.3566429005427185\n",
      "Rule frozenset({38}) -> frozenset({840}) has consequent count: 391.0 (0.5%) antencedent count: 15596.0 antencedent and concequent count: 379.0 lift: 5.345558963574502\n",
      "Rule frozenset({840}) -> frozenset({38}) has consequent count: 15596.0 (18.1%) antencedent count: 391.0 antencedent and concequent count: 379.0 lift: 5.3455589635745016\n",
      "Rule frozenset({38}) -> frozenset({1188}) has consequent count: 276.0 (0.3%) antencedent count: 15596.0 antencedent and concequent count: 256.0 lift: 5.115187469102073\n",
      "Rule frozenset({1188}) -> frozenset({38}) has consequent count: 15596.0 (18.1%) antencedent count: 276.0 antencedent and concequent count: 256.0 lift: 5.115187469102073\n",
      "Rule frozenset({38}) -> frozenset({1529}) has consequent count: 322.0 (0.4%) antencedent count: 15596.0 antencedent and concequent count: 295.0 lift: 5.0523894086555075\n",
      "Rule frozenset({1529}) -> frozenset({38}) has consequent count: 15596.0 (18.1%) antencedent count: 322.0 antencedent and concequent count: 295.0 lift: 5.0523894086555075\n",
      "Rule frozenset({38}) -> frozenset({1590}) has consequent count: 293.0 (0.3%) antencedent count: 15596.0 antencedent and concequent count: 281.0 lift: 5.288948903499366\n",
      "Rule frozenset({1590}) -> frozenset({38}) has consequent count: 15596.0 (18.1%) antencedent count: 293.0 antencedent and concequent count: 281.0 lift: 5.2889489034993655\n",
      "Rule frozenset({1727}) -> frozenset({38}) has consequent count: 15596.0 (18.1%) antencedent count: 174.0 antencedent and concequent count: 162.0 lift: 5.134479663220454\n",
      "Rule frozenset({38}) -> frozenset({1727}) has consequent count: 174.0 (0.2%) antencedent count: 15596.0 antencedent and concequent count: 162.0 lift: 5.134479663220455\n",
      "Rule frozenset({1831}) -> frozenset({38}) has consequent count: 15596.0 (18.1%) antencedent count: 260.0 antencedent and concequent count: 252.0 lift: 5.3451249827371905\n",
      "Rule frozenset({38}) -> frozenset({1831}) has consequent count: 260.0 (0.3%) antencedent count: 15596.0 antencedent and concequent count: 252.0 lift: 5.3451249827371905\n",
      "Rule frozenset({38}) -> frozenset({2805}) has consequent count: 222.0 (0.3%) antencedent count: 15596.0 antencedent and concequent count: 212.0 lift: 5.26639655813803\n",
      "Rule frozenset({2805}) -> frozenset({38}) has consequent count: 15596.0 (18.1%) antencedent count: 222.0 antencedent and concequent count: 212.0 lift: 5.26639655813803\n",
      "Rule frozenset({38}) -> frozenset({3005}) has consequent count: 205.0 (0.2%) antencedent count: 15596.0 antencedent and concequent count: 195.0 lift: 5.2457962954853965\n",
      "Rule frozenset({3005}) -> frozenset({38}) has consequent count: 15596.0 (18.1%) antencedent count: 205.0 antencedent and concequent count: 195.0 lift: 5.245796295485396\n",
      "Rule frozenset({38}) -> frozenset({3904}) has consequent count: 341.0 (0.4%) antencedent count: 15596.0 antencedent and concequent count: 333.0 lift: 5.385431748421845\n",
      "Rule frozenset({3904}) -> frozenset({38}) has consequent count: 15596.0 (18.1%) antencedent count: 341.0 antencedent and concequent count: 333.0 lift: 5.385431748421845\n",
      "Rule frozenset({16431}) -> frozenset({16430}) has consequent count: 426.0 (0.5%) antencedent count: 351.0 antencedent and concequent count: 348.0 lift: 200.17342803258296\n",
      "Rule frozenset({16430}) -> frozenset({16431}) has consequent count: 351.0 (0.4%) antencedent count: 426.0 antencedent and concequent count: 348.0 lift: 200.17342803258296\n",
      "Rule frozenset({604}) -> frozenset({60}) has consequent count: 1489.0 (1.7%) antencedent count: 1209.0 antencedent and concequent count: 107.0 lift: 5.112186361411864\n",
      "Rule frozenset({60}) -> frozenset({604}) has consequent count: 1209.0 (1.4%) antencedent count: 1489.0 antencedent and concequent count: 107.0 lift: 5.112186361411865\n",
      "Rule frozenset({79}) -> frozenset({2254}) has consequent count: 347.0 (0.4%) antencedent count: 1600.0 antencedent and concequent count: 120.0 lift: 18.58984149855908\n",
      "Rule frozenset({2254}) -> frozenset({79}) has consequent count: 1600.0 (1.9%) antencedent count: 347.0 antencedent and concequent count: 120.0 lift: 18.58984149855908\n",
      "Rule frozenset({107}) -> frozenset({136}) has consequent count: 467.0 (0.5%) antencedent count: 765.0 antencedent and concequent count: 111.0 lift: 26.72320611328043\n",
      "Rule frozenset({136}) -> frozenset({107}) has consequent count: 765.0 (0.9%) antencedent count: 467.0 antencedent and concequent count: 111.0 lift: 26.72320611328043\n",
      "Rule frozenset({548}) -> frozenset({107}) has consequent count: 765.0 (0.9%) antencedent count: 1137.0 antencedent and concequent count: 147.0 lift: 14.535813199510235\n",
      "Rule frozenset({107}) -> frozenset({548}) has consequent count: 1137.0 (1.3%) antencedent count: 765.0 antencedent and concequent count: 147.0 lift: 14.535813199510235\n",
      "Rule frozenset({549}) -> frozenset({107}) has consequent count: 765.0 (0.9%) antencedent count: 843.0 antencedent and concequent count: 181.0 lift: 24.139788647764366\n",
      "Rule frozenset({107}) -> frozenset({549}) has consequent count: 843.0 (1.0%) antencedent count: 765.0 antencedent and concequent count: 181.0 lift: 24.139788647764362\n",
      "Rule frozenset({107}) -> frozenset({961}) has consequent count: 540.0 (0.6%) antencedent count: 765.0 antencedent and concequent count: 140.0 lift: 29.148535463568145\n",
      "Rule frozenset({961}) -> frozenset({107}) has consequent count: 765.0 (0.9%) antencedent count: 540.0 antencedent and concequent count: 140.0 lift: 29.148535463568145\n",
      "Rule frozenset({107}) -> frozenset({1067}) has consequent count: 584.0 (0.7%) antencedent count: 765.0 antencedent and concequent count: 171.0 lift: 32.920447219983885\n",
      "Rule frozenset({1067}) -> frozenset({107}) has consequent count: 765.0 (0.9%) antencedent count: 584.0 antencedent and concequent count: 171.0 lift: 32.920447219983885\n",
      "Rule frozenset({117}) -> frozenset({976}) has consequent count: 817.0 (0.9%) antencedent count: 1026.0 antencedent and concequent count: 312.0 lift: 32.01319905230231\n",
      "Rule frozenset({976}) -> frozenset({117}) has consequent count: 1026.0 (1.2%) antencedent count: 817.0 antencedent and concequent count: 312.0 lift: 32.01319905230232\n",
      "Rule frozenset({1067}) -> frozenset({136}) has consequent count: 467.0 (0.5%) antencedent count: 584.0 antencedent and concequent count: 112.0 lift: 35.32093514417294\n",
      "Rule frozenset({136}) -> frozenset({1067}) has consequent count: 584.0 (0.7%) antencedent count: 467.0 antencedent and concequent count: 112.0 lift: 35.32093514417295\n",
      "Rule frozenset({179}) -> frozenset({147}) has consequent count: 1779.0 (2.1%) antencedent count: 998.0 antencedent and concequent count: 143.0 lift: 6.9274507418434395\n",
      "Rule frozenset({147}) -> frozenset({179}) has consequent count: 998.0 (1.2%) antencedent count: 1779.0 antencedent and concequent count: 143.0 lift: 6.9274507418434395\n",
      "Rule frozenset({165}) -> frozenset({164}) has consequent count: 330.0 (0.4%) antencedent count: 274.0 antencedent and concequent count: 160.0 lift: 152.19464720194645\n",
      "Rule frozenset({164}) -> frozenset({165}) has consequent count: 274.0 (0.3%) antencedent count: 330.0 antencedent and concequent count: 160.0 lift: 152.19464720194648\n",
      "Rule frozenset({166}) -> frozenset({164}) has consequent count: 330.0 (0.4%) antencedent count: 300.0 antencedent and concequent count: 127.0 lift: 110.33477777777777\n",
      "Rule frozenset({164}) -> frozenset({166}) has consequent count: 300.0 (0.3%) antencedent count: 330.0 antencedent and concequent count: 127.0 lift: 110.33477777777777\n",
      "Rule frozenset({167}) -> frozenset({164}) has consequent count: 330.0 (0.4%) antencedent count: 256.0 antencedent and concequent count: 111.0 lift: 113.008984375\n",
      "Rule frozenset({164}) -> frozenset({167}) has consequent count: 256.0 (0.3%) antencedent count: 330.0 antencedent and concequent count: 111.0 lift: 113.008984375\n",
      "Rule frozenset({164}) -> frozenset({684}) has consequent count: 277.0 (0.3%) antencedent count: 330.0 antencedent and concequent count: 114.0 lift: 107.26425992779784\n",
      "Rule frozenset({684}) -> frozenset({164}) has consequent count: 330.0 (0.4%) antencedent count: 277.0 antencedent and concequent count: 114.0 lift: 107.26425992779784\n",
      "Rule frozenset({165}) -> frozenset({684}) has consequent count: 277.0 (0.3%) antencedent count: 274.0 antencedent and concequent count: 101.0 lift: 114.45504492872013\n",
      "Rule frozenset({684}) -> frozenset({165}) has consequent count: 274.0 (0.3%) antencedent count: 277.0 antencedent and concequent count: 101.0 lift: 114.45504492872014\n",
      "Rule frozenset({166}) -> frozenset({682}) has consequent count: 296.0 (0.3%) antencedent count: 300.0 antencedent and concequent count: 108.0 lift: 104.60554054054053\n",
      "Rule frozenset({682}) -> frozenset({166}) has consequent count: 300.0 (0.3%) antencedent count: 296.0 antencedent and concequent count: 108.0 lift: 104.60554054054055\n",
      "Rule frozenset({166}) -> frozenset({684}) has consequent count: 277.0 (0.3%) antencedent count: 300.0 antencedent and concequent count: 138.0 lift: 142.83083032490975\n",
      "Rule frozenset({684}) -> frozenset({166}) has consequent count: 300.0 (0.3%) antencedent count: 277.0 antencedent and concequent count: 138.0 lift: 142.83083032490973\n",
      "Rule frozenset({175}) -> frozenset({178}) has consequent count: 479.0 (0.6%) antencedent count: 970.0 antencedent and concequent count: 151.0 lift: 27.952045713793773\n",
      "Rule frozenset({178}) -> frozenset({175}) has consequent count: 970.0 (1.1%) antencedent count: 479.0 antencedent and concequent count: 151.0 lift: 27.95204571379377\n",
      "Rule frozenset({175}) -> frozenset({806}) has consequent count: 741.0 (0.9%) antencedent count: 970.0 antencedent and concequent count: 195.0 lift: 23.33396635919696\n",
      "Rule frozenset({806}) -> frozenset({175}) has consequent count: 970.0 (1.1%) antencedent count: 741.0 antencedent and concequent count: 195.0 lift: 23.33396635919696\n",
      "Rule frozenset({175}) -> frozenset({842}) has consequent count: 412.0 (0.5%) antencedent count: 970.0 antencedent and concequent count: 143.0 lift: 30.77591582424182\n",
      "Rule frozenset({842}) -> frozenset({175}) has consequent count: 970.0 (1.1%) antencedent count: 412.0 antencedent and concequent count: 143.0 lift: 30.775915824241817\n",
      "Rule frozenset({175}) -> frozenset({1355}) has consequent count: 512.0 (0.6%) antencedent count: 970.0 antencedent and concequent count: 177.0 lift: 30.653175338273194\n",
      "Rule frozenset({1355}) -> frozenset({175}) has consequent count: 970.0 (1.1%) antencedent count: 512.0 antencedent and concequent count: 177.0 lift: 30.653175338273197\n",
      "Rule frozenset({175}) -> frozenset({2991}) has consequent count: 369.0 (0.4%) antencedent count: 970.0 antencedent and concequent count: 116.0 lift: 27.874288268655885\n",
      "Rule frozenset({2991}) -> frozenset({175}) has consequent count: 970.0 (1.1%) antencedent count: 369.0 antencedent and concequent count: 116.0 lift: 27.87428826865588\n",
      "Rule frozenset({175}) -> frozenset({13041}) has consequent count: 1051.0 (1.2%) antencedent count: 970.0 antencedent and concequent count: 140.0 lift: 11.811294103799032\n",
      "Rule frozenset({13041}) -> frozenset({175}) has consequent count: 970.0 (1.1%) antencedent count: 1051.0 antencedent and concequent count: 140.0 lift: 11.811294103799034\n",
      "Rule frozenset({806}) -> frozenset({178}) has consequent count: 479.0 (0.6%) antencedent count: 741.0 antencedent and concequent count: 102.0 lift: 24.716692164005647\n",
      "Rule frozenset({178}) -> frozenset({806}) has consequent count: 741.0 (0.9%) antencedent count: 479.0 antencedent and concequent count: 102.0 lift: 24.716692164005643\n",
      "Rule frozenset({301}) -> frozenset({179}) has consequent count: 998.0 (1.2%) antencedent count: 1204.0 antencedent and concequent count: 123.0 lift: 8.804242205340914\n",
      "Rule frozenset({179}) -> frozenset({301}) has consequent count: 1204.0 (1.4%) antencedent count: 998.0 antencedent and concequent count: 123.0 lift: 8.804242205340914\n",
      "Rule frozenset({2238}) -> frozenset({225}) has consequent count: 3257.0 (3.8%) antencedent count: 1715.0 antencedent and concequent count: 405.0 lift: 6.236156974303384\n",
      "Rule frozenset({225}) -> frozenset({2238}) has consequent count: 1715.0 (2.0%) antencedent count: 3257.0 antencedent and concequent count: 405.0 lift: 6.236156974303384\n",
      "Rule frozenset({237}) -> frozenset({1043}) has consequent count: 551.0 (0.6%) antencedent count: 3032.0 antencedent and concequent count: 117.0 lift: 6.023500687165098\n",
      "Rule frozenset({1043}) -> frozenset({237}) has consequent count: 3032.0 (3.5%) antencedent count: 551.0 antencedent and concequent count: 117.0 lift: 6.023500687165096\n",
      "Rule frozenset({249}) -> frozenset({1144}) has consequent count: 599.0 (0.7%) antencedent count: 1160.0 antencedent and concequent count: 189.0 lift: 23.39488371423637\n",
      "Rule frozenset({1144}) -> frozenset({249}) has consequent count: 1160.0 (1.3%) antencedent count: 599.0 antencedent and concequent count: 189.0 lift: 23.394883714236375\n",
      "Rule frozenset({271}) -> frozenset({270}) has consequent count: 1734.0 (2.0%) antencedent count: 2094.0 antencedent and concequent count: 680.0 lift: 16.107459220555462\n",
      "Rule frozenset({270}) -> frozenset({271}) has consequent count: 2094.0 (2.4%) antencedent count: 1734.0 antencedent and concequent count: 680.0 lift: 16.107459220555462\n",
      "Rule frozenset({270}) -> frozenset({2238}) has consequent count: 1715.0 (2.0%) antencedent count: 1734.0 antencedent and concequent count: 264.0 lift: 7.63544947390721\n",
      "Rule frozenset({2238}) -> frozenset({270}) has consequent count: 1734.0 (2.0%) antencedent count: 1715.0 antencedent and concequent count: 264.0 lift: 7.63544947390721\n",
      "Rule frozenset({271}) -> frozenset({2238}) has consequent count: 1715.0 (2.0%) antencedent count: 2094.0 antencedent and concequent count: 282.0 lift: 6.7538623472311565\n",
      "Rule frozenset({2238}) -> frozenset({271}) has consequent count: 2094.0 (2.4%) antencedent count: 1715.0 antencedent and concequent count: 282.0 lift: 6.753862347231156\n",
      "Rule frozenset({297}) -> frozenset({544}) has consequent count: 851.0 (1.0%) antencedent count: 525.0 antencedent and concequent count: 141.0 lift: 27.144018801410105\n",
      "Rule frozenset({544}) -> frozenset({297}) has consequent count: 525.0 (0.6%) antencedent count: 851.0 antencedent and concequent count: 141.0 lift: 27.14401880141011\n",
      "Rule frozenset({309}) -> frozenset({308}) has consequent count: 263.0 (0.3%) antencedent count: 309.0 antencedent and concequent count: 115.0 lift: 121.71034983449617\n",
      "Rule frozenset({308}) -> frozenset({309}) has consequent count: 309.0 (0.4%) antencedent count: 263.0 antencedent and concequent count: 115.0 lift: 121.71034983449617\n",
      "Rule frozenset({1269}) -> frozenset({308}) has consequent count: 263.0 (0.3%) antencedent count: 279.0 antencedent and concequent count: 150.0 lift: 175.82280551126374\n",
      "Rule frozenset({308}) -> frozenset({1269}) has consequent count: 279.0 (0.3%) antencedent count: 263.0 antencedent and concequent count: 150.0 lift: 175.82280551126374\n",
      "Rule frozenset({308}) -> frozenset({1379}) has consequent count: 283.0 (0.3%) antencedent count: 263.0 antencedent and concequent count: 124.0 lift: 143.29248008168858\n",
      "Rule frozenset({1379}) -> frozenset({308}) has consequent count: 263.0 (0.3%) antencedent count: 283.0 antencedent and concequent count: 124.0 lift: 143.29248008168858\n",
      "Rule frozenset({309}) -> frozenset({1080}) has consequent count: 295.0 (0.3%) antencedent count: 309.0 antencedent and concequent count: 159.0 lift: 150.02392627941418\n",
      "Rule frozenset({1080}) -> frozenset({309}) has consequent count: 309.0 (0.4%) antencedent count: 295.0 antencedent and concequent count: 159.0 lift: 150.0239262794142\n",
      "Rule frozenset({309}) -> frozenset({1269}) has consequent count: 279.0 (0.3%) antencedent count: 309.0 antencedent and concequent count: 149.0 lift: 148.65087981812064\n",
      "Rule frozenset({1269}) -> frozenset({309}) has consequent count: 309.0 (0.4%) antencedent count: 279.0 antencedent and concequent count: 149.0 lift: 148.65087981812067\n",
      "Rule frozenset({309}) -> frozenset({1378}) has consequent count: 244.0 (0.3%) antencedent count: 309.0 antencedent and concequent count: 151.0 lift: 172.255278794631\n",
      "Rule frozenset({1378}) -> frozenset({309}) has consequent count: 309.0 (0.4%) antencedent count: 244.0 antencedent and concequent count: 151.0 lift: 172.255278794631\n",
      "Rule frozenset({309}) -> frozenset({1379}) has consequent count: 283.0 (0.3%) antencedent count: 309.0 antencedent and concequent count: 166.0 lift: 163.270255125962\n",
      "Rule frozenset({1379}) -> frozenset({309}) has consequent count: 309.0 (0.4%) antencedent count: 283.0 antencedent and concequent count: 166.0 lift: 163.270255125962\n",
      "Rule frozenset({309}) -> frozenset({1380}) has consequent count: 209.0 (0.2%) antencedent count: 309.0 antencedent and concequent count: 134.0 lift: 178.46125021291093\n",
      "Rule frozenset({1380}) -> frozenset({309}) has consequent count: 309.0 (0.4%) antencedent count: 209.0 antencedent and concequent count: 134.0 lift: 178.46125021291093\n",
      "Rule frozenset({1859}) -> frozenset({352}) has consequent count: 438.0 (0.5%) antencedent count: 391.0 antencedent and concequent count: 161.0 lift: 80.85723878592533\n",
      "Rule frozenset({352}) -> frozenset({1859}) has consequent count: 391.0 (0.5%) antencedent count: 438.0 antencedent and concequent count: 161.0 lift: 80.85723878592533\n",
      "Rule frozenset({910}) -> frozenset({396}) has consequent count: 674.0 (0.8%) antencedent count: 519.0 antencedent and concequent count: 115.0 lift: 28.275772856954998\n",
      "Rule frozenset({396}) -> frozenset({910}) has consequent count: 519.0 (0.6%) antencedent count: 674.0 antencedent and concequent count: 115.0 lift: 28.275772856955\n",
      "Rule frozenset({405}) -> frozenset({10515}) has consequent count: 882.0 (1.0%) antencedent count: 879.0 antencedent and concequent count: 294.0 lift: 32.61623056503603\n",
      "Rule frozenset({10515}) -> frozenset({405}) has consequent count: 879.0 (1.0%) antencedent count: 882.0 antencedent and concequent count: 294.0 lift: 32.61623056503603\n",
      "Rule frozenset({809}) -> frozenset({441}) has consequent count: 609.0 (0.7%) antencedent count: 626.0 antencedent and concequent count: 126.0 lift: 28.426462487606038\n",
      "Rule frozenset({441}) -> frozenset({809}) has consequent count: 626.0 (0.7%) antencedent count: 609.0 antencedent and concequent count: 126.0 lift: 28.426462487606038\n",
      "Rule frozenset({885}) -> frozenset({441}) has consequent count: 609.0 (0.7%) antencedent count: 576.0 antencedent and concequent count: 139.0 lift: 34.08151740102171\n",
      "Rule frozenset({441}) -> frozenset({885}) has consequent count: 576.0 (0.7%) antencedent count: 609.0 antencedent and concequent count: 139.0 lift: 34.08151740102171\n",
      "Rule frozenset({549}) -> frozenset({548}) has consequent count: 1137.0 (1.3%) antencedent count: 843.0 antencedent and concequent count: 154.0 lift: 13.818998822106831\n",
      "Rule frozenset({548}) -> frozenset({549}) has consequent count: 843.0 (1.0%) antencedent count: 1137.0 antencedent and concequent count: 154.0 lift: 13.818998822106831\n",
      "Rule frozenset({548}) -> frozenset({611}) has consequent count: 280.0 (0.3%) antencedent count: 1137.0 antencedent and concequent count: 101.0 lift: 27.286433597185578\n",
      "Rule frozenset({611}) -> frozenset({548}) has consequent count: 1137.0 (1.3%) antencedent count: 280.0 antencedent and concequent count: 101.0 lift: 27.286433597185574\n",
      "Rule frozenset({548}) -> frozenset({961}) has consequent count: 540.0 (0.6%) antencedent count: 1137.0 antencedent and concequent count: 104.0 lift: 14.568774227173524\n",
      "Rule frozenset({961}) -> frozenset({548}) has consequent count: 1137.0 (1.3%) antencedent count: 540.0 antencedent and concequent count: 104.0 lift: 14.568774227173524\n",
      "Rule frozenset({548}) -> frozenset({1067}) has consequent count: 584.0 (0.7%) antencedent count: 1137.0 antencedent and concequent count: 108.0 lift: 13.989247117504608\n",
      "Rule frozenset({1067}) -> frozenset({548}) has consequent count: 1137.0 (1.3%) antencedent count: 584.0 antencedent and concequent count: 108.0 lift: 13.989247117504608\n",
      "Rule frozenset({549}) -> frozenset({961}) has consequent count: 540.0 (0.6%) antencedent count: 843.0 antencedent and concequent count: 115.0 lift: 21.728032599622164\n",
      "Rule frozenset({961}) -> frozenset({549}) has consequent count: 843.0 (1.0%) antencedent count: 540.0 antencedent and concequent count: 115.0 lift: 21.72803259962216\n",
      "Rule frozenset({549}) -> frozenset({1067}) has consequent count: 584.0 (0.7%) antencedent count: 843.0 antencedent and concequent count: 119.0 lift: 20.78980605794699\n",
      "Rule frozenset({1067}) -> frozenset({549}) has consequent count: 843.0 (1.0%) antencedent count: 584.0 antencedent and concequent count: 119.0 lift: 20.789806057946993\n",
      "Rule frozenset({565}) -> frozenset({581}) has consequent count: 574.0 (0.7%) antencedent count: 237.0 antencedent and concequent count: 109.0 lift: 68.9144283214984\n",
      "Rule frozenset({581}) -> frozenset({565}) has consequent count: 237.0 (0.3%) antencedent count: 574.0 antencedent and concequent count: 109.0 lift: 68.9144283214984\n",
      "Rule frozenset({1062}) -> frozenset({589}) has consequent count: 1119.0 (1.3%) antencedent count: 433.0 antencedent and concequent count: 107.0 lift: 18.993705201154942\n",
      "Rule frozenset({589}) -> frozenset({1062}) has consequent count: 433.0 (0.5%) antencedent count: 1119.0 antencedent and concequent count: 107.0 lift: 18.993705201154942\n",
      "Rule frozenset({647}) -> frozenset({769}) has consequent count: 329.0 (0.4%) antencedent count: 258.0 antencedent and concequent count: 150.0 lift: 151.99158832261259\n",
      "Rule frozenset({769}) -> frozenset({647}) has consequent count: 258.0 (0.3%) antencedent count: 329.0 antencedent and concequent count: 150.0 lift: 151.99158832261259\n",
      "Rule frozenset({1034}) -> frozenset({769}) has consequent count: 329.0 (0.4%) antencedent count: 310.0 antencedent and concequent count: 172.0 lift: 145.04900480439258\n",
      "Rule frozenset({769}) -> frozenset({1034}) has consequent count: 310.0 (0.4%) antencedent count: 329.0 antencedent and concequent count: 172.0 lift: 145.04900480439258\n",
      "Rule frozenset({16010}) -> frozenset({8978}) has consequent count: 606.0 (0.7%) antencedent count: 1316.0 antencedent and concequent count: 195.0 lift: 21.030519275331788\n",
      "Rule frozenset({8978}) -> frozenset({16010}) has consequent count: 1316.0 (1.5%) antencedent count: 606.0 antencedent and concequent count: 195.0 lift: 21.03051927533179\n",
      "Rule frozenset({16011}) -> frozenset({8978}) has consequent count: 606.0 (0.7%) antencedent count: 669.0 antencedent and concequent count: 104.0 lift: 22.063707716063085\n",
      "Rule frozenset({8978}) -> frozenset({16011}) has consequent count: 669.0 (0.8%) antencedent count: 606.0 antencedent and concequent count: 104.0 lift: 22.063707716063085\n",
      "Rule frozenset({795}) -> frozenset({1818}) has consequent count: 226.0 (0.3%) antencedent count: 251.0 antencedent and concequent count: 150.0 lift: 227.432746888552\n",
      "Rule frozenset({1818}) -> frozenset({795}) has consequent count: 251.0 (0.3%) antencedent count: 226.0 antencedent and concequent count: 150.0 lift: 227.43274688855197\n",
      "Rule frozenset({795}) -> frozenset({1819}) has consequent count: 251.0 (0.3%) antencedent count: 251.0 antencedent and concequent count: 167.0 lift: 227.9884922461548\n",
      "Rule frozenset({1819}) -> frozenset({795}) has consequent count: 251.0 (0.3%) antencedent count: 251.0 antencedent and concequent count: 167.0 lift: 227.9884922461548\n",
      "Rule frozenset({3311}) -> frozenset({795}) has consequent count: 251.0 (0.3%) antencedent count: 241.0 antencedent and concequent count: 147.0 lift: 209.01163809492323\n",
      "Rule frozenset({795}) -> frozenset({3311}) has consequent count: 241.0 (0.3%) antencedent count: 251.0 antencedent and concequent count: 147.0 lift: 209.01163809492323\n",
      "Rule frozenset({2991}) -> frozenset({806}) has consequent count: 741.0 (0.9%) antencedent count: 369.0 antencedent and concequent count: 110.0 lift: 34.60126760511869\n",
      "Rule frozenset({806}) -> frozenset({2991}) has consequent count: 369.0 (0.4%) antencedent count: 741.0 antencedent and concequent count: 110.0 lift: 34.6012676051187\n",
      "Rule frozenset({885}) -> frozenset({809}) has consequent count: 626.0 (0.7%) antencedent count: 576.0 antencedent and concequent count: 119.0 lift: 28.385336239794107\n",
      "Rule frozenset({809}) -> frozenset({885}) has consequent count: 576.0 (0.7%) antencedent count: 626.0 antencedent and concequent count: 119.0 lift: 28.385336239794107\n",
      "Rule frozenset({910}) -> frozenset({956}) has consequent count: 911.0 (1.1%) antencedent count: 519.0 antencedent and concequent count: 111.0 lift: 20.192083907032227\n",
      "Rule frozenset({956}) -> frozenset({910}) has consequent count: 519.0 (0.6%) antencedent count: 911.0 antencedent and concequent count: 111.0 lift: 20.192083907032227\n",
      "Rule frozenset({1067}) -> frozenset({961}) has consequent count: 540.0 (0.6%) antencedent count: 584.0 antencedent and concequent count: 111.0 lift: 30.273335235920857\n",
      "Rule frozenset({961}) -> frozenset({1067}) has consequent count: 584.0 (0.7%) antencedent count: 540.0 antencedent and concequent count: 111.0 lift: 30.27333523592085\n",
      "Rule frozenset({1269}) -> frozenset({1080}) has consequent count: 295.0 (0.3%) antencedent count: 279.0 antencedent and concequent count: 137.0 lift: 143.16545774861794\n",
      "Rule frozenset({1080}) -> frozenset({1269}) has consequent count: 279.0 (0.3%) antencedent count: 295.0 antencedent and concequent count: 137.0 lift: 143.16545774861794\n",
      "Rule frozenset({1378}) -> frozenset({1080}) has consequent count: 295.0 (0.3%) antencedent count: 244.0 antencedent and concequent count: 117.0 lift: 139.8034592942484\n",
      "Rule frozenset({1080}) -> frozenset({1378}) has consequent count: 244.0 (0.3%) antencedent count: 295.0 antencedent and concequent count: 117.0 lift: 139.8034592942484\n",
      "Rule frozenset({1379}) -> frozenset({1080}) has consequent count: 295.0 (0.3%) antencedent count: 283.0 antencedent and concequent count: 141.0 lift: 145.26284961370305\n",
      "Rule frozenset({1080}) -> frozenset({1379}) has consequent count: 283.0 (0.3%) antencedent count: 295.0 antencedent and concequent count: 141.0 lift: 145.26284961370305\n",
      "Rule frozenset({1380}) -> frozenset({1080}) has consequent count: 295.0 (0.3%) antencedent count: 209.0 antencedent and concequent count: 116.0 lift: 161.82051739518286\n",
      "Rule frozenset({1080}) -> frozenset({1380}) has consequent count: 209.0 (0.2%) antencedent count: 295.0 antencedent and concequent count: 116.0 lift: 161.8205173951829\n",
      "Rule frozenset({1146}) -> frozenset({3616}) has consequent count: 654.0 (0.8%) antencedent count: 1426.0 antencedent and concequent count: 293.0 lift: 27.021798105090692\n",
      "Rule frozenset({3616}) -> frozenset({1146}) has consequent count: 1426.0 (1.7%) antencedent count: 654.0 antencedent and concequent count: 293.0 lift: 27.021798105090692\n",
      "Rule frozenset({1269}) -> frozenset({1378}) has consequent count: 244.0 (0.3%) antencedent count: 279.0 antencedent and concequent count: 120.0 lift: 151.61114049004055\n",
      "Rule frozenset({1378}) -> frozenset({1269}) has consequent count: 279.0 (0.3%) antencedent count: 244.0 antencedent and concequent count: 120.0 lift: 151.61114049004053\n",
      "Rule frozenset({1269}) -> frozenset({1379}) has consequent count: 283.0 (0.3%) antencedent count: 279.0 antencedent and concequent count: 128.0 lift: 139.4322479324189\n",
      "Rule frozenset({1379}) -> frozenset({1269}) has consequent count: 279.0 (0.3%) antencedent count: 283.0 antencedent and concequent count: 128.0 lift: 139.4322479324189\n",
      "Rule frozenset({1269}) -> frozenset({1380}) has consequent count: 209.0 (0.2%) antencedent count: 279.0 antencedent and concequent count: 107.0 lift: 157.82550462176948\n",
      "Rule frozenset({1380}) -> frozenset({1269}) has consequent count: 279.0 (0.3%) antencedent count: 209.0 antencedent and concequent count: 107.0 lift: 157.82550462176948\n",
      "Rule frozenset({1379}) -> frozenset({1378}) has consequent count: 244.0 (0.3%) antencedent count: 283.0 antencedent and concequent count: 158.0 lift: 196.7998320106586\n",
      "Rule frozenset({1378}) -> frozenset({1379}) has consequent count: 283.0 (0.3%) antencedent count: 244.0 antencedent and concequent count: 158.0 lift: 196.79983201065863\n",
      "Rule frozenset({1380}) -> frozenset({1378}) has consequent count: 244.0 (0.3%) antencedent count: 209.0 antencedent and concequent count: 109.0 lift: 183.83757549611732\n",
      "Rule frozenset({1378}) -> frozenset({1380}) has consequent count: 209.0 (0.2%) antencedent count: 244.0 antencedent and concequent count: 109.0 lift: 183.83757549611735\n",
      "Rule frozenset({1380}) -> frozenset({1379}) has consequent count: 283.0 (0.3%) antencedent count: 209.0 antencedent and concequent count: 112.0 lift: 162.86553840431466\n",
      "Rule frozenset({1379}) -> frozenset({1380}) has consequent count: 209.0 (0.2%) antencedent count: 283.0 antencedent and concequent count: 112.0 lift: 162.86553840431466\n",
      "Rule frozenset({14933}) -> frozenset({1609}) has consequent count: 249.0 (0.3%) antencedent count: 479.0 antencedent and concequent count: 145.0 lift: 104.5627604363173\n",
      "Rule frozenset({1609}) -> frozenset({14933}) has consequent count: 479.0 (0.6%) antencedent count: 249.0 antencedent and concequent count: 145.0 lift: 104.5627604363173\n",
      "Rule frozenset({1819}) -> frozenset({1818}) has consequent count: 226.0 (0.3%) antencedent count: 251.0 antencedent and concequent count: 145.0 lift: 219.8516553256003\n",
      "Rule frozenset({1818}) -> frozenset({1819}) has consequent count: 251.0 (0.3%) antencedent count: 226.0 antencedent and concequent count: 145.0 lift: 219.85165532560023\n",
      "Rule frozenset({3311}) -> frozenset({1818}) has consequent count: 226.0 (0.3%) antencedent count: 241.0 antencedent and concequent count: 140.0 lift: 221.07847097271696\n",
      "Rule frozenset({1818}) -> frozenset({3311}) has consequent count: 241.0 (0.3%) antencedent count: 226.0 antencedent and concequent count: 140.0 lift: 221.0784709727169\n",
      "Rule frozenset({3311}) -> frozenset({1819}) has consequent count: 251.0 (0.3%) antencedent count: 241.0 antencedent and concequent count: 180.0 lift: 255.93261807541617\n",
      "Rule frozenset({1819}) -> frozenset({3311}) has consequent count: 241.0 (0.3%) antencedent count: 251.0 antencedent and concequent count: 180.0 lift: 255.9326180754162\n",
      "Rule frozenset({2238}) -> frozenset({5728}) has consequent count: 254.0 (0.3%) antencedent count: 1715.0 antencedent and concequent count: 121.0 lift: 23.890840430660457\n",
      "Rule frozenset({5728}) -> frozenset({2238}) has consequent count: 1715.0 (2.0%) antencedent count: 254.0 antencedent and concequent count: 121.0 lift: 23.890840430660454\n",
      "Rule frozenset({2238}) -> frozenset({5729}) has consequent count: 289.0 (0.3%) antencedent count: 1715.0 antencedent and concequent count: 145.0 lift: 25.16227667537603\n",
      "Rule frozenset({5729}) -> frozenset({2238}) has consequent count: 1715.0 (2.0%) antencedent count: 289.0 antencedent and concequent count: 145.0 lift: 25.162276675376035\n",
      "Rule frozenset({2284}) -> frozenset({2505}) has consequent count: 433.0 (0.5%) antencedent count: 508.0 antencedent and concequent count: 194.0 lift: 75.85671291665909\n",
      "Rule frozenset({2505}) -> frozenset({2284}) has consequent count: 508.0 (0.6%) antencedent count: 433.0 antencedent and concequent count: 194.0 lift: 75.85671291665909\n",
      "Rule frozenset({10525}) -> frozenset({10490}) has consequent count: 382.0 (0.4%) antencedent count: 338.0 antencedent and concequent count: 109.0 lift: 72.60897952229004\n",
      "Rule frozenset({10490}) -> frozenset({10525}) has consequent count: 338.0 (0.4%) antencedent count: 382.0 antencedent and concequent count: 109.0 lift: 72.60897952229003\n",
      "Rule frozenset({10551}) -> frozenset({10515}) has consequent count: 882.0 (1.0%) antencedent count: 285.0 antencedent and concequent count: 106.0 lift: 36.26906154274575\n",
      "Rule frozenset({10515}) -> frozenset({10551}) has consequent count: 285.0 (0.3%) antencedent count: 882.0 antencedent and concequent count: 106.0 lift: 36.26906154274575\n",
      "Rule frozenset({3055}) -> frozenset({3021}) has consequent count: 215.0 (0.2%) antencedent count: 214.0 antencedent and concequent count: 106.0 lift: 198.1515757444034\n",
      "Rule frozenset({3021}) -> frozenset({3055}) has consequent count: 214.0 (0.2%) antencedent count: 215.0 antencedent and concequent count: 106.0 lift: 198.1515757444034\n",
      "Rule frozenset({3535}) -> frozenset({3402}) has consequent count: 177.0 (0.2%) antencedent count: 204.0 antencedent and concequent count: 125.0 lift: 297.74911376980174\n",
      "Rule frozenset({3402}) -> frozenset({3535}) has consequent count: 204.0 (0.2%) antencedent count: 177.0 antencedent and concequent count: 125.0 lift: 297.7491137698017\n",
      "Rule frozenset({3402}) -> frozenset({3537}) has consequent count: 201.0 (0.2%) antencedent count: 177.0 antencedent and concequent count: 107.0 lift: 258.6773196166062\n",
      "Rule frozenset({3537}) -> frozenset({3402}) has consequent count: 177.0 (0.2%) antencedent count: 201.0 antencedent and concequent count: 107.0 lift: 258.6773196166062\n",
      "Rule frozenset({3535}) -> frozenset({3537}) has consequent count: 201.0 (0.2%) antencedent count: 204.0 antencedent and concequent count: 130.0 lift: 272.68486001365716\n",
      "Rule frozenset({3537}) -> frozenset({3535}) has consequent count: 204.0 (0.2%) antencedent count: 201.0 antencedent and concequent count: 130.0 lift: 272.6848600136572\n",
      "Rule frozenset({5729}) -> frozenset({5728}) has consequent count: 254.0 (0.3%) antencedent count: 289.0 antencedent and concequent count: 114.0 lift: 133.57254175408005\n",
      "Rule frozenset({5728}) -> frozenset({5729}) has consequent count: 289.0 (0.3%) antencedent count: 254.0 antencedent and concequent count: 114.0 lift: 133.57254175408005\n",
      "Rule frozenset({16010}) -> frozenset({14098}) has consequent count: 1291.0 (1.5%) antencedent count: 1316.0 antencedent and concequent count: 104.0 lift: 5.264960363894062\n",
      "Rule frozenset({14098}) -> frozenset({16010}) has consequent count: 1316.0 (1.5%) antencedent count: 1291.0 antencedent and concequent count: 104.0 lift: 5.264960363894062\n",
      "Rule frozenset({16011}) -> frozenset({16010}) has consequent count: 1316.0 (1.5%) antencedent count: 669.0 antencedent and concequent count: 651.0 lift: 63.59791527526\n",
      "Rule frozenset({16010}) -> frozenset({16011}) has consequent count: 669.0 (0.8%) antencedent count: 1316.0 antencedent and concequent count: 651.0 lift: 63.59791527526\n",
      "Rule frozenset({32, 36}) -> frozenset({38}) has consequent count: 15596.0 (18.1%) antencedent count: 494.0 antencedent and concequent count: 472.0 lift: 5.26921259785287\n",
      "Rule frozenset({32, 38}) -> frozenset({37}) has consequent count: 1074.0 (1.2%) antencedent count: 2833.0 antencedent and concequent count: 185.0 lift: 5.229555432416959\n",
      "Rule frozenset({32, 37}) -> frozenset({38}) has consequent count: 15596.0 (18.1%) antencedent count: 186.0 antencedent and concequent count: 185.0 lift: 5.485161965985212\n",
      "Rule frozenset({32, 47}) -> frozenset({38}) has consequent count: 15596.0 (18.1%) antencedent count: 149.0 antencedent and concequent count: 147.0 lift: 5.440787174821972\n",
      "Rule frozenset({32, 38}) -> frozenset({47}) has consequent count: 444.0 (0.5%) antencedent count: 2833.0 antencedent and concequent count: 147.0 lift: 10.051518779633852\n",
      "Rule frozenset({32, 38}) -> frozenset({56}) has consequent count: 535.0 (0.6%) antencedent count: 2833.0 antencedent and concequent count: 117.0 lift: 6.639408704487499\n",
      "Rule frozenset({32, 56}) -> frozenset({38}) has consequent count: 15596.0 (18.1%) antencedent count: 121.0 antencedent and concequent count: 117.0 lift: 5.3325036722702785\n",
      "Rule frozenset({32, 38}) -> frozenset({105}) has consequent count: 657.0 (0.8%) antencedent count: 2833.0 antencedent and concequent count: 136.0 lift: 6.284501910243536\n",
      "Rule frozenset({32, 105}) -> frozenset({38}) has consequent count: 15596.0 (18.1%) antencedent count: 142.0 antencedent and concequent count: 136.0 lift: 5.281791286317546\n",
      "Rule frozenset({32, 110}) -> frozenset({38}) has consequent count: 15596.0 (18.1%) antencedent count: 449.0 antencedent and concequent count: 443.0 lift: 5.441116904511522\n",
      "Rule frozenset({32, 38}) -> frozenset({170}) has consequent count: 3099.0 (3.6%) antencedent count: 2833.0 antencedent and concequent count: 532.0 lift: 5.211795659121448\n",
      "Rule frozenset({32, 170}) -> frozenset({38}) has consequent count: 15596.0 (18.1%) antencedent count: 540.0 antencedent and concequent count: 532.0 lift: 5.433110579160848\n",
      "Rule frozenset({32, 286}) -> frozenset({38}) has consequent count: 15596.0 (18.1%) antencedent count: 229.0 antencedent and concequent count: 222.0 lift: 5.3462364664100415\n",
      "Rule frozenset({32, 38}) -> frozenset({286}) has consequent count: 1183.0 (1.4%) antencedent count: 2833.0 antencedent and concequent count: 222.0 lift: 5.697253627471663\n",
      "Rule frozenset({32, 371}) -> frozenset({38}) has consequent count: 15596.0 (18.1%) antencedent count: 121.0 antencedent and concequent count: 121.0 lift: 5.514811490125673\n",
      "Rule frozenset({32, 790}) -> frozenset({38}) has consequent count: 15596.0 (18.1%) antencedent count: 120.0 antencedent and concequent count: 118.0 lift: 5.422897965290245\n",
      "Rule frozenset({32, 38}) -> frozenset({790}) has consequent count: 523.0 (0.6%) antencedent count: 2833.0 antencedent and concequent count: 118.0 lift: 6.84979607318553\n",
      "Rule frozenset({1046, 39}) -> frozenset({32}) has consequent count: 15167.0 (17.6%) antencedent count: 170.0 antencedent and concequent count: 156.0 lift: 5.203791513308692\n",
      "Rule frozenset({48, 1046}) -> frozenset({32}) has consequent count: 15167.0 (17.6%) antencedent count: 190.0 antencedent and concequent count: 171.0 lift: 5.103718599591217\n",
      "Rule frozenset({32, 48}) -> frozenset({1046}) has consequent count: 365.0 (0.4%) antencedent count: 8034.0 antencedent and concequent count: 171.0 lift: 5.015512496547208\n",
      "Rule frozenset({32, 271}) -> frozenset({270}) has consequent count: 1734.0 (2.0%) antencedent count: 470.0 antencedent and concequent count: 146.0 lift: 15.408125352769394\n",
      "Rule frozenset({32, 270}) -> frozenset({271}) has consequent count: 2094.0 (2.4%) antencedent count: 437.0 antencedent and concequent count: 146.0 lift: 13.722670635727226\n",
      "Rule frozenset({32, 16011}) -> frozenset({16010}) has consequent count: 1316.0 (1.5%) antencedent count: 146.0 antencedent and concequent count: 142.0 lift: 63.56579714368989\n",
      "Rule frozenset({32, 16010}) -> frozenset({16011}) has consequent count: 669.0 (0.8%) antencedent count: 281.0 antencedent and concequent count: 142.0 lift: 64.96804600269165\n",
      "Rule frozenset({38, 39}) -> frozenset({36}) has consequent count: 2936.0 (3.4%) antencedent count: 10345.0 antencedent and concequent count: 1945.0 lift: 5.507784730608713\n",
      "Rule frozenset({36, 39}) -> frozenset({38}) has consequent count: 15596.0 (18.1%) antencedent count: 2037.0 antencedent and concequent count: 1945.0 lift: 5.2657380207630995\n",
      "Rule frozenset({41, 38}) -> frozenset({36}) has consequent count: 2936.0 (3.4%) antencedent count: 3897.0 antencedent and concequent count: 671.0 lift: 5.044056718680407\n",
      "Rule frozenset({41, 36}) -> frozenset({38}) has consequent count: 15596.0 (18.1%) antencedent count: 700.0 antencedent and concequent count: 671.0 lift: 5.286340728391894\n",
      "Rule frozenset({48, 38}) -> frozenset({36}) has consequent count: 2936.0 (3.4%) antencedent count: 7944.0 antencedent and concequent count: 1360.0 lift: 5.015191490295831\n",
      "Rule frozenset({48, 36}) -> frozenset({38}) has consequent count: 15596.0 (18.1%) antencedent count: 1416.0 antencedent and concequent count: 1360.0 lift: 5.296711600685675\n",
      "Rule frozenset({65, 38}) -> frozenset({36}) has consequent count: 2936.0 (3.4%) antencedent count: 643.0 antencedent and concequent count: 147.0 lift: 6.697214500319941\n",
      "Rule frozenset({65, 36}) -> frozenset({38}) has consequent count: 15596.0 (18.1%) antencedent count: 152.0 antencedent and concequent count: 147.0 lift: 5.33340321742417\n",
      "Rule frozenset({89, 38}) -> frozenset({36}) has consequent count: 2936.0 (3.4%) antencedent count: 764.0 antencedent and concequent count: 150.0 lift: 5.751561229439206\n",
      "Rule frozenset({89, 36}) -> frozenset({38}) has consequent count: 15596.0 (18.1%) antencedent count: 153.0 antencedent and concequent count: 150.0 lift: 5.406677931495757\n",
      "Rule frozenset({36, 110}) -> frozenset({38}) has consequent count: 15596.0 (18.1%) antencedent count: 186.0 antencedent and concequent count: 182.0 lift: 5.396213393563831\n",
      "Rule frozenset({170, 36}) -> frozenset({38}) has consequent count: 15596.0 (18.1%) antencedent count: 214.0 antencedent and concequent count: 210.0 lift: 5.411730901525193\n",
      "Rule frozenset({225, 38}) -> frozenset({36}) has consequent count: 2936.0 (3.4%) antencedent count: 681.0 antencedent and concequent count: 138.0 lift: 5.936354415489323\n",
      "Rule frozenset({225, 36}) -> frozenset({38}) has consequent count: 15596.0 (18.1%) antencedent count: 144.0 antencedent and concequent count: 138.0 lift: 5.285027678037103\n",
      "Rule frozenset({237, 38}) -> frozenset({36}) has consequent count: 2936.0 (3.4%) antencedent count: 683.0 antencedent and concequent count: 157.0 lift: 6.733902062945572\n",
      "Rule frozenset({36, 237}) -> frozenset({38}) has consequent count: 15596.0 (18.1%) antencedent count: 159.0 antencedent and concequent count: 157.0 lift: 5.445442792136671\n",
      "Rule frozenset({38, 39}) -> frozenset({37}) has consequent count: 1074.0 (1.2%) antencedent count: 10345.0 antencedent and concequent count: 684.0 lift: 5.294990968027627\n",
      "Rule frozenset({37, 39}) -> frozenset({38}) has consequent count: 15596.0 (18.1%) antencedent count: 707.0 antencedent and concequent count: 684.0 lift: 5.335404609965997\n",
      "Rule frozenset({41, 38}) -> frozenset({37}) has consequent count: 1074.0 (1.2%) antencedent count: 3897.0 antencedent and concequent count: 246.0 lift: 5.0552695598820465\n",
      "Rule frozenset({41, 37}) -> frozenset({38}) has consequent count: 15596.0 (18.1%) antencedent count: 247.0 antencedent and concequent count: 246.0 lift: 5.492484318100872\n",
      "Rule frozenset({48, 38}) -> frozenset({37}) has consequent count: 1074.0 (1.2%) antencedent count: 7944.0 antencedent and concequent count: 557.0 lift: 5.615075195830777\n",
      "Rule frozenset({48, 37}) -> frozenset({38}) has consequent count: 15596.0 (18.1%) antencedent count: 565.0 antencedent and concequent count: 557.0 lift: 5.436725663716814\n",
      "Rule frozenset({38, 39}) -> frozenset({47}) has consequent count: 444.0 (0.5%) antencedent count: 10345.0 antencedent and concequent count: 313.0 lift: 5.8610411523171315\n",
      "Rule frozenset({39, 47}) -> frozenset({38}) has consequent count: 15596.0 (18.1%) antencedent count: 320.0 antencedent and concequent count: 313.0 lift: 5.394174988779174\n",
      "Rule frozenset({39, 55}) -> frozenset({38}) has consequent count: 15596.0 (18.1%) antencedent count: 452.0 antencedent and concequent count: 422.0 lift: 5.148784178834146\n",
      "Rule frozenset({38, 39}) -> frozenset({56}) has consequent count: 535.0 (0.6%) antencedent count: 10345.0 antencedent and concequent count: 352.0 lift: 5.470188406517212\n",
      "Rule frozenset({56, 39}) -> frozenset({38}) has consequent count: 15596.0 (18.1%) antencedent count: 364.0 antencedent and concequent count: 352.0 lift: 5.333004517923728\n",
      "Rule frozenset({38, 39}) -> frozenset({105}) has consequent count: 657.0 (0.8%) antencedent count: 10345.0 antencedent and concequent count: 449.0 lift: 5.681910319252163\n",
      "Rule frozenset({105, 39}) -> frozenset({38}) has consequent count: 15596.0 (18.1%) antencedent count: 455.0 antencedent and concequent count: 449.0 lift: 5.442088701244895\n",
      "Rule frozenset({38, 39}) -> frozenset({110}) has consequent count: 2794.0 (3.2%) antencedent count: 10345.0 antencedent and concequent count: 1740.0 lift: 5.177692445283392\n",
      "Rule frozenset({110, 39}) -> frozenset({38}) has consequent count: 15596.0 (18.1%) antencedent count: 1759.0 antencedent and concequent count: 1740.0 lift: 5.455242747480768\n",
      "Rule frozenset({38, 39}) -> frozenset({170}) has consequent count: 3099.0 (3.6%) antencedent count: 10345.0 antencedent and concequent count: 2019.0 lift: 5.416617219012791\n",
      "Rule frozenset({170, 39}) -> frozenset({38}) has consequent count: 15596.0 (18.1%) antencedent count: 2059.0 antencedent and concequent count: 2019.0 lift: 5.4076757642368785\n",
      "Rule frozenset({38, 39}) -> frozenset({281}) has consequent count: 453.0 (0.5%) antencedent count: 10345.0 antencedent and concequent count: 274.0 lift: 5.02881621582981\n",
      "Rule frozenset({281, 39}) -> frozenset({38}) has consequent count: 15596.0 (18.1%) antencedent count: 288.0 antencedent and concequent count: 274.0 lift: 5.246730376022342\n",
      "Rule frozenset({38, 39}) -> frozenset({286}) has consequent count: 1183.0 (1.4%) antencedent count: 10345.0 antencedent and concequent count: 728.0 lift: 5.116347548053686\n",
      "Rule frozenset({286, 39}) -> frozenset({38}) has consequent count: 15596.0 (18.1%) antencedent count: 750.0 antencedent and concequent count: 728.0 lift: 5.35304368641532\n",
      "Rule frozenset({38, 39}) -> frozenset({370}) has consequent count: 375.0 (0.4%) antencedent count: 10345.0 antencedent and concequent count: 241.0 lift: 5.343172289350734\n",
      "Rule frozenset({370, 39}) -> frozenset({38}) has consequent count: 15596.0 (18.1%) antencedent count: 248.0 antencedent and concequent count: 241.0 lift: 5.359151488388255\n",
      "Rule frozenset({38, 39}) -> frozenset({371}) has consequent count: 782.0 (0.9%) antencedent count: 10345.0 antencedent and concequent count: 526.0 lift: 5.59232489347684\n",
      "Rule frozenset({371, 39}) -> frozenset({38}) has consequent count: 15596.0 (18.1%) antencedent count: 532.0 antencedent and concequent count: 526.0 lift: 5.452614368056587\n",
      "Rule frozenset({38, 39}) -> frozenset({390}) has consequent count: 376.0 (0.4%) antencedent count: 10345.0 antencedent and concequent count: 241.0 lift: 5.328961724751395\n",
      "Rule frozenset({390, 39}) -> frozenset({38}) has consequent count: 15596.0 (18.1%) antencedent count: 258.0 antencedent and concequent count: 241.0 lift: 5.151432438450725\n",
      "Rule frozenset({38, 39}) -> frozenset({790}) has consequent count: 523.0 (0.6%) antencedent count: 10345.0 antencedent and concequent count: 356.0 lift: 5.659286915007758\n",
      "Rule frozenset({790, 39}) -> frozenset({38}) has consequent count: 15596.0 (18.1%) antencedent count: 364.0 antencedent and concequent count: 356.0 lift: 5.393606841991042\n",
      "Rule frozenset({38, 39}) -> frozenset({840}) has consequent count: 391.0 (0.5%) antencedent count: 10345.0 antencedent and concequent count: 245.0 lift: 5.209580223961314\n",
      "Rule frozenset({840, 39}) -> frozenset({38}) has consequent count: 15596.0 (18.1%) antencedent count: 251.0 antencedent and concequent count: 245.0 lift: 5.382983327015099\n",
      "Rule frozenset({1188, 39}) -> frozenset({38}) has consequent count: 15596.0 (18.1%) antencedent count: 176.0 antencedent and concequent count: 160.0 lift: 5.013464991023339\n",
      "Rule frozenset({38, 39}) -> frozenset({1529}) has consequent count: 322.0 (0.4%) antencedent count: 10345.0 antencedent and concequent count: 202.0 lift: 5.215655536175846\n",
      "Rule frozenset({38, 39}) -> frozenset({1590}) has consequent count: 293.0 (0.3%) antencedent count: 10345.0 antencedent and concequent count: 193.0 lift: 5.476499999175212\n",
      "Rule frozenset({1590, 39}) -> frozenset({38}) has consequent count: 15596.0 (18.1%) antencedent count: 199.0 antencedent and concequent count: 193.0 lift: 5.348535766805301\n",
      "Rule frozenset({38, 39}) -> frozenset({1727}) has consequent count: 174.0 (0.2%) antencedent count: 10345.0 antencedent and concequent count: 105.0 lift: 5.017108048199197\n",
      "Rule frozenset({39, 1727}) -> frozenset({38}) has consequent count: 15596.0 (18.1%) antencedent count: 109.0 antencedent and concequent count: 105.0 lift: 5.3124330868183085\n",
      "Rule frozenset({39, 1831}) -> frozenset({38}) has consequent count: 15596.0 (18.1%) antencedent count: 160.0 antencedent and concequent count: 156.0 lift: 5.376941202872531\n",
      "Rule frozenset({38, 39}) -> frozenset({2805}) has consequent count: 222.0 (0.3%) antencedent count: 10345.0 antencedent and concequent count: 144.0 lift: 5.392906874975507\n",
      "Rule frozenset({2805, 39}) -> frozenset({38}) has consequent count: 15596.0 (18.1%) antencedent count: 147.0 antencedent and concequent count: 144.0 lift: 5.402264316857802\n",
      "Rule frozenset({38, 39}) -> frozenset({3005}) has consequent count: 205.0 (0.2%) antencedent count: 10345.0 antencedent and concequent count: 142.0 lift: 5.759010715675064\n",
      "Rule frozenset({3005, 39}) -> frozenset({38}) has consequent count: 15596.0 (18.1%) antencedent count: 149.0 antencedent and concequent count: 142.0 lift: 5.2557263865627215\n",
      "Rule frozenset({38, 39}) -> frozenset({3904}) has consequent count: 341.0 (0.4%) antencedent count: 10345.0 antencedent and concequent count: 268.0 lift: 6.534220988789971\n",
      "Rule frozenset({3904, 39}) -> frozenset({38}) has consequent count: 15596.0 (18.1%) antencedent count: 275.0 antencedent and concequent count: 268.0 lift: 5.374434470377019\n",
      "Rule frozenset({41, 55}) -> frozenset({38}) has consequent count: 15596.0 (18.1%) antencedent count: 175.0 antencedent and concequent count: 171.0 lift: 5.388758656065657\n",
      "Rule frozenset({41, 38}) -> frozenset({55}) has consequent count: 704.0 (0.8%) antencedent count: 3897.0 antencedent and concequent count: 171.0 lift: 5.360890588914549\n",
      "Rule frozenset({56, 41}) -> frozenset({38}) has consequent count: 15596.0 (18.1%) antencedent count: 119.0 antencedent and concequent count: 116.0 lift: 5.375782629030067\n",
      "Rule frozenset({41, 105}) -> frozenset({38}) has consequent count: 15596.0 (18.1%) antencedent count: 150.0 antencedent and concequent count: 147.0 lift: 5.404515260323159\n",
      "Rule frozenset({41, 38}) -> frozenset({110}) has consequent count: 2794.0 (3.2%) antencedent count: 3897.0 antencedent and concequent count: 666.0 lift: 5.260915422523685\n",
      "Rule frozenset({41, 110}) -> frozenset({38}) has consequent count: 15596.0 (18.1%) antencedent count: 677.0 antencedent and concequent count: 666.0 lift: 5.425205985854798\n",
      "Rule frozenset({41, 38}) -> frozenset({170}) has consequent count: 3099.0 (3.6%) antencedent count: 3897.0 antencedent and concequent count: 794.0 lift: 5.65473710219501\n",
      "Rule frozenset({41, 170}) -> frozenset({38}) has consequent count: 15596.0 (18.1%) antencedent count: 805.0 antencedent and concequent count: 794.0 lift: 5.4394538175897935\n",
      "Rule frozenset({41, 281}) -> frozenset({38}) has consequent count: 15596.0 (18.1%) antencedent count: 120.0 antencedent and concequent count: 113.0 lift: 5.193114153201675\n",
      "Rule frozenset({41, 38}) -> frozenset({281}) has consequent count: 453.0 (0.5%) antencedent count: 3897.0 antencedent and concequent count: 113.0 lift: 5.5054615510544425\n",
      "Rule frozenset({41, 286}) -> frozenset({38}) has consequent count: 15596.0 (18.1%) antencedent count: 268.0 antencedent and concequent count: 259.0 lift: 5.3296125968005565\n",
      "Rule frozenset({41, 38}) -> frozenset({370}) has consequent count: 375.0 (0.4%) antencedent count: 3897.0 antencedent and concequent count: 111.0 lift: 6.532887862458301\n",
      "Rule frozenset({41, 370}) -> frozenset({38}) has consequent count: 15596.0 (18.1%) antencedent count: 112.0 antencedent and concequent count: 111.0 lift: 5.46557210182098\n",
      "Rule frozenset({41, 371}) -> frozenset({38}) has consequent count: 15596.0 (18.1%) antencedent count: 172.0 antencedent and concequent count: 171.0 lift: 5.482748632624942\n",
      "Rule frozenset({41, 790}) -> frozenset({38}) has consequent count: 15596.0 (18.1%) antencedent count: 204.0 antencedent and concequent count: 202.0 lift: 5.460744710810715\n",
      "Rule frozenset({41, 38}) -> frozenset({790}) has consequent count: 523.0 (0.6%) antencedent count: 3897.0 antencedent and concequent count: 202.0 lift: 8.524387294045377\n",
      "Rule frozenset({41, 38}) -> frozenset({3904}) has consequent count: 341.0 (0.4%) antencedent count: 3897.0 antencedent and concequent count: 120.0 lift: 7.7667684819588265\n",
      "Rule frozenset({3904, 41}) -> frozenset({38}) has consequent count: 15596.0 (18.1%) antencedent count: 124.0 antencedent and concequent count: 120.0 lift: 5.336914345282909\n",
      "Rule frozenset({48, 47}) -> frozenset({38}) has consequent count: 15596.0 (18.1%) antencedent count: 274.0 antencedent and concequent count: 269.0 lift: 5.414176243955496\n",
      "Rule frozenset({48, 38}) -> frozenset({47}) has consequent count: 444.0 (0.5%) antencedent count: 7944.0 antencedent and concequent count: 269.0 lift: 6.559548880451448\n",
      "Rule frozenset({48, 55}) -> frozenset({38}) has consequent count: 15596.0 (18.1%) antencedent count: 325.0 antencedent and concequent count: 309.0 lift: 5.2433130783041015\n",
      "Rule frozenset({48, 38}) -> frozenset({56}) has consequent count: 535.0 (0.6%) antencedent count: 7944.0 antencedent and concequent count: 295.0 lift: 5.9699802825385175\n",
      "Rule frozenset({48, 56}) -> frozenset({38}) has consequent count: 15596.0 (18.1%) antencedent count: 309.0 antencedent and concequent count: 295.0 lift: 5.264949480864315\n",
      "Rule frozenset({48, 38}) -> frozenset({105}) has consequent count: 657.0 (0.8%) antencedent count: 7944.0 antencedent and concequent count: 367.0 lift: 6.047910525888219\n",
      "Rule frozenset({48, 105}) -> frozenset({38}) has consequent count: 15596.0 (18.1%) antencedent count: 372.0 antencedent and concequent count: 367.0 lift: 5.440687679774522\n",
      "Rule frozenset({48, 38}) -> frozenset({110}) has consequent count: 2794.0 (3.2%) antencedent count: 7944.0 antencedent and concequent count: 1361.0 lift: 5.273954591589948\n",
      "Rule frozenset({48, 110}) -> frozenset({38}) has consequent count: 15596.0 (18.1%) antencedent count: 1380.0 antencedent and concequent count: 1361.0 lift: 5.438882926131189\n",
      "Rule frozenset({48, 38}) -> frozenset({170}) has consequent count: 3099.0 (3.6%) antencedent count: 7944.0 antencedent and concequent count: 1538.0 lift: 5.373279380315322\n",
      "Rule frozenset({48, 170}) -> frozenset({38}) has consequent count: 15596.0 (18.1%) antencedent count: 1557.0 antencedent and concequent count: 1538.0 lift: 5.447514496989907\n",
      "Rule frozenset({48, 38}) -> frozenset({281}) has consequent count: 453.0 (0.5%) antencedent count: 7944.0 antencedent and concequent count: 259.0 lift: 6.190222006584723\n",
      "Rule frozenset({48, 281}) -> frozenset({38}) has consequent count: 15596.0 (18.1%) antencedent count: 269.0 antencedent and concequent count: 259.0 lift: 5.309799910567097\n",
      "Rule frozenset({48, 286}) -> frozenset({38}) has consequent count: 15596.0 (18.1%) antencedent count: 591.0 antencedent and concequent count: 581.0 lift: 5.421498266942497\n",
      "Rule frozenset({48, 38}) -> frozenset({286}) has consequent count: 1183.0 (1.4%) antencedent count: 7944.0 antencedent and concequent count: 581.0 lift: 5.317359832436523\n",
      "Rule frozenset({48, 38}) -> frozenset({370}) has consequent count: 375.0 (0.4%) antencedent count: 7944.0 antencedent and concequent count: 191.0 lift: 5.514507888553206\n",
      "Rule frozenset({48, 370}) -> frozenset({38}) has consequent count: 15596.0 (18.1%) antencedent count: 196.0 antencedent and concequent count: 191.0 lift: 5.374127523540834\n",
      "Rule frozenset({48, 38}) -> frozenset({371}) has consequent count: 782.0 (0.9%) antencedent count: 7944.0 antencedent and concequent count: 365.0 lift: 5.053482594272439\n",
      "Rule frozenset({48, 371}) -> frozenset({38}) has consequent count: 15596.0 (18.1%) antencedent count: 369.0 antencedent and concequent count: 365.0 lift: 5.455030335761167\n",
      "Rule frozenset({48, 38}) -> frozenset({390}) has consequent count: 376.0 (0.4%) antencedent count: 7944.0 antencedent and concequent count: 197.0 lift: 5.6726115387499725\n",
      "Rule frozenset({48, 390}) -> frozenset({38}) has consequent count: 15596.0 (18.1%) antencedent count: 210.0 antencedent and concequent count: 197.0 lift: 5.173418397879798\n",
      "Rule frozenset({48, 790}) -> frozenset({38}) has consequent count: 15596.0 (18.1%) antencedent count: 315.0 antencedent and concequent count: 307.0 lift: 5.374752785614545\n",
      "Rule frozenset({48, 38}) -> frozenset({790}) has consequent count: 523.0 (0.6%) antencedent count: 7944.0 antencedent and concequent count: 307.0 lift: 6.355377460579699\n",
      "Rule frozenset({48, 38}) -> frozenset({840}) has consequent count: 391.0 (0.5%) antencedent count: 7944.0 antencedent and concequent count: 202.0 lift: 5.593443748181001\n",
      "Rule frozenset({48, 840}) -> frozenset({38}) has consequent count: 15596.0 (18.1%) antencedent count: 206.0 antencedent and concequent count: 202.0 lift: 5.407727771870806\n",
      "Rule frozenset({48, 1188}) -> frozenset({38}) has consequent count: 15596.0 (18.1%) antencedent count: 134.0 antencedent and concequent count: 125.0 lift: 5.144413703475442\n",
      "Rule frozenset({48, 1590}) -> frozenset({38}) has consequent count: 15596.0 (18.1%) antencedent count: 124.0 antencedent and concequent count: 120.0 lift: 5.336914345282909\n",
      "Rule frozenset({48, 1831}) -> frozenset({38}) has consequent count: 15596.0 (18.1%) antencedent count: 120.0 antencedent and concequent count: 117.0 lift: 5.376941202872531\n",
      "Rule frozenset({48, 38}) -> frozenset({2805}) has consequent count: 222.0 (0.3%) antencedent count: 7944.0 antencedent and concequent count: 107.0 lift: 5.218377176269925\n",
      "Rule frozenset({48, 2805}) -> frozenset({38}) has consequent count: 15596.0 (18.1%) antencedent count: 110.0 antencedent and concequent count: 107.0 lift: 5.364407540394973\n",
      "Rule frozenset({48, 38}) -> frozenset({3904}) has consequent count: 341.0 (0.4%) antencedent count: 7944.0 antencedent and concequent count: 193.0 lift: 6.1278424779910985\n",
      "Rule frozenset({48, 3904}) -> frozenset({38}) has consequent count: 15596.0 (18.1%) antencedent count: 200.0 antencedent and concequent count: 193.0 lift: 5.321793087971274\n",
      "Rule frozenset({65, 170}) -> frozenset({38}) has consequent count: 15596.0 (18.1%) antencedent count: 111.0 antencedent and concequent count: 110.0 lift: 5.4651285037281445\n",
      "Rule frozenset({89, 110}) -> frozenset({38}) has consequent count: 15596.0 (18.1%) antencedent count: 107.0 antencedent and concequent count: 106.0 lift: 5.463271195825433\n",
      "Rule frozenset({89, 38}) -> frozenset({170}) has consequent count: 3099.0 (3.6%) antencedent count: 764.0 antencedent and concequent count: 169.0 lift: 6.139254936147279\n",
      "Rule frozenset({89, 170}) -> frozenset({38}) has consequent count: 15596.0 (18.1%) antencedent count: 171.0 antencedent and concequent count: 169.0 lift: 5.450310770942917\n",
      "Rule frozenset({170, 110}) -> frozenset({38}) has consequent count: 15596.0 (18.1%) antencedent count: 160.0 antencedent and concequent count: 158.0 lift: 5.4458763464991025\n",
      "Rule frozenset({225, 110}) -> frozenset({38}) has consequent count: 15596.0 (18.1%) antencedent count: 103.0 antencedent and concequent count: 102.0 lift: 5.461269630998239\n",
      "Rule frozenset({225, 38}) -> frozenset({170}) has consequent count: 3099.0 (3.6%) antencedent count: 681.0 antencedent and concequent count: 129.0 lift: 5.257326151821037\n",
      "Rule frozenset({225, 170}) -> frozenset({38}) has consequent count: 15596.0 (18.1%) antencedent count: 129.0 antencedent and concequent count: 129.0 lift: 5.514811490125673\n",
      "Rule frozenset({237, 38}) -> frozenset({170}) has consequent count: 3099.0 (3.6%) antencedent count: 683.0 antencedent and concequent count: 152.0 lift: 6.17653926052753\n",
      "Rule frozenset({170, 237}) -> frozenset({38}) has consequent count: 15596.0 (18.1%) antencedent count: 154.0 antencedent and concequent count: 152.0 lift: 5.443190561682482\n",
      "Rule frozenset({38, 438}) -> frozenset({170}) has consequent count: 3099.0 (3.6%) antencedent count: 389.0 antencedent and concequent count: 103.0 lift: 7.348690306434367\n",
      "Rule frozenset({170, 438}) -> frozenset({38}) has consequent count: 15596.0 (18.1%) antencedent count: 103.0 antencedent and concequent count: 103.0 lift: 5.514811490125673\n",
      "Rule frozenset({38, 270}) -> frozenset({271}) has consequent count: 2094.0 (2.4%) antencedent count: 390.0 antencedent and concequent count: 149.0 lift: 15.692382386794993\n",
      "Rule frozenset({38, 271}) -> frozenset({270}) has consequent count: 1734.0 (2.0%) antencedent count: 392.0 antencedent and concequent count: 149.0 lift: 18.853631158345692\n",
      "Rule frozenset({16011, 38}) -> frozenset({16010}) has consequent count: 1316.0 (1.5%) antencedent count: 112.0 antencedent and concequent count: 111.0 lift: 64.7728438449848\n",
      "Rule frozenset({16010, 38}) -> frozenset({16011}) has consequent count: 669.0 (0.8%) antencedent count: 221.0 antencedent and concequent count: 111.0 lift: 64.57263153622954\n",
      "Rule frozenset({16430, 39}) -> frozenset({16431}) has consequent count: 351.0 (0.4%) antencedent count: 221.0 antencedent and concequent count: 186.0 lift: 206.23266426886337\n",
      "Rule frozenset({39, 16431}) -> frozenset({16430}) has consequent count: 426.0 (0.5%) antencedent count: 189.0 antencedent and concequent count: 186.0 lift: 198.6943140323422\n",
      "Rule frozenset({117, 39}) -> frozenset({976}) has consequent count: 817.0 (0.9%) antencedent count: 554.0 antencedent and concequent count: 161.0 lift: 30.594119102642846\n",
      "Rule frozenset({976, 39}) -> frozenset({117}) has consequent count: 1026.0 (1.2%) antencedent count: 471.0 antencedent and concequent count: 161.0 lift: 28.655072157865767\n",
      "Rule frozenset({178, 39}) -> frozenset({175}) has consequent count: 970.0 (1.1%) antencedent count: 313.0 antencedent and concequent count: 109.0 lift: 30.878366983959687\n",
      "Rule frozenset({39, 175}) -> frozenset({178}) has consequent count: 479.0 (0.6%) antencedent count: 631.0 antencedent and concequent count: 109.0 lift: 31.017409486880023\n",
      "Rule frozenset({806, 39}) -> frozenset({175}) has consequent count: 970.0 (1.1%) antencedent count: 493.0 antencedent and concequent count: 128.0 lift: 23.021584659459233\n",
      "Rule frozenset({39, 175}) -> frozenset({806}) has consequent count: 741.0 (0.9%) antencedent count: 631.0 antencedent and concequent count: 128.0 lift: 23.54541235448734\n",
      "Rule frozenset({1355, 39}) -> frozenset({175}) has consequent count: 970.0 (1.1%) antencedent count: 313.0 antencedent and concequent count: 108.0 lift: 30.59507921346464\n",
      "Rule frozenset({39, 175}) -> frozenset({1355}) has consequent count: 512.0 (0.6%) antencedent count: 631.0 antencedent and concequent count: 108.0 lift: 28.75201812599049\n",
      "Rule frozenset({13041, 39}) -> frozenset({175}) has consequent count: 970.0 (1.1%) antencedent count: 688.0 antencedent and concequent count: 107.0 lift: 13.790102793095182\n",
      "Rule frozenset({39, 175}) -> frozenset({13041}) has consequent count: 1051.0 (1.2%) antencedent count: 631.0 antencedent and concequent count: 107.0 lift: 13.877000396573484\n",
      "Rule frozenset({270, 39}) -> frozenset({225}) has consequent count: 3257.0 (3.8%) antencedent count: 1194.0 antencedent and concequent count: 236.0 lift: 5.2195590582119475\n",
      "Rule frozenset({39, 271}) -> frozenset({225}) has consequent count: 3257.0 (3.8%) antencedent count: 1434.0 antencedent and concequent count: 309.0 lift: 5.690303986393002\n",
      "Rule frozenset({225, 39}) -> frozenset({271}) has consequent count: 2094.0 (2.4%) antencedent count: 2351.0 antencedent and concequent count: 309.0 lift: 5.3984995716021595\n",
      "Rule frozenset({2238, 39}) -> frozenset({225}) has consequent count: 3257.0 (3.8%) antencedent count: 1287.0 antencedent and concequent count: 317.0 lift: 6.504394217320222\n",
      "Rule frozenset({225, 39}) -> frozenset({2238}) has consequent count: 1715.0 (2.0%) antencedent count: 2351.0 antencedent and concequent count: 317.0 lift: 6.762175018880373\n",
      "Rule frozenset({249, 39}) -> frozenset({1144}) has consequent count: 599.0 (0.7%) antencedent count: 752.0 antencedent and concequent count: 111.0 lift: 21.194453077824747\n",
      "Rule frozenset({1144, 39}) -> frozenset({249}) has consequent count: 1160.0 (1.3%) antencedent count: 344.0 antencedent and concequent count: 111.0 lift: 23.92491730152366\n",
      "Rule frozenset({270, 39}) -> frozenset({271}) has consequent count: 2094.0 (2.4%) antencedent count: 1194.0 antencedent and concequent count: 484.0 lift: 16.64977066164954\n",
      "Rule frozenset({39, 271}) -> frozenset({270}) has consequent count: 1734.0 (2.0%) antencedent count: 1434.0 antencedent and concequent count: 484.0 lift: 16.741370795590367\n",
      "Rule frozenset({270, 39}) -> frozenset({2238}) has consequent count: 1715.0 (2.0%) antencedent count: 1194.0 antencedent and concequent count: 194.0 lift: 8.148490753085152\n",
      "Rule frozenset({2238, 39}) -> frozenset({270}) has consequent count: 1734.0 (2.0%) antencedent count: 1287.0 antencedent and concequent count: 194.0 lift: 7.476838296907502\n",
      "Rule frozenset({2238, 39}) -> frozenset({271}) has consequent count: 2094.0 (2.4%) antencedent count: 1287.0 antencedent and concequent count: 221.0 lift: 7.053114719303831\n",
      "Rule frozenset({39, 271}) -> frozenset({2238}) has consequent count: 1715.0 (2.0%) antencedent count: 1434.0 antencedent and concequent count: 221.0 lift: 7.728992684940086\n",
      "Rule frozenset({1269, 39}) -> frozenset({308}) has consequent count: 263.0 (0.3%) antencedent count: 194.0 antencedent and concequent count: 109.0 lift: 183.74389479048253\n",
      "Rule frozenset({308, 39}) -> frozenset({1269}) has consequent count: 279.0 (0.3%) antencedent count: 170.0 antencedent and concequent count: 109.0 lift: 197.65930845456464\n",
      "Rule frozenset({309, 39}) -> frozenset({1269}) has consequent count: 279.0 (0.3%) antencedent count: 211.0 antencedent and concequent count: 105.0 lift: 153.40748101717372\n",
      "Rule frozenset({1269, 39}) -> frozenset({309}) has consequent count: 309.0 (0.4%) antencedent count: 194.0 antencedent and concequent count: 105.0 lift: 150.6513362025823\n",
      "Rule frozenset({309, 39}) -> frozenset({1378}) has consequent count: 244.0 (0.3%) antencedent count: 211.0 antencedent and concequent count: 104.0 lift: 173.74205578432134\n",
      "Rule frozenset({1378, 39}) -> frozenset({309}) has consequent count: 309.0 (0.4%) antencedent count: 159.0 antencedent and concequent count: 104.0 lift: 182.06297449675358\n",
      "Rule frozenset({309, 39}) -> frozenset({1379}) has consequent count: 283.0 (0.3%) antencedent count: 211.0 antencedent and concequent count: 118.0 lift: 169.9640279336158\n",
      "Rule frozenset({1379, 39}) -> frozenset({309}) has consequent count: 309.0 (0.4%) antencedent count: 196.0 antencedent and concequent count: 118.0 lift: 167.57582061950995\n",
      "Rule frozenset({405, 39}) -> frozenset({10515}) has consequent count: 882.0 (1.0%) antencedent count: 500.0 antencedent and concequent count: 178.0 lift: 34.715650793650795\n",
      "Rule frozenset({10515, 39}) -> frozenset({405}) has consequent count: 879.0 (1.0%) antencedent count: 528.0 antencedent and concequent count: 178.0 lift: 32.986869548729615\n",
      "Rule frozenset({16010, 39}) -> frozenset({8978}) has consequent count: 606.0 (0.7%) antencedent count: 829.0 antencedent and concequent count: 147.0 lift: 25.16715236059191\n",
      "Rule frozenset({8978, 39}) -> frozenset({16010}) has consequent count: 1316.0 (1.5%) antencedent count: 433.0 antencedent and concequent count: 147.0 lift: 22.18796373642573\n",
      "Rule frozenset({795, 39}) -> frozenset({1819}) has consequent count: 251.0 (0.3%) antencedent count: 156.0 antencedent and concequent count: 108.0 lift: 237.22984983144343\n",
      "Rule frozenset({1819, 39}) -> frozenset({795}) has consequent count: 251.0 (0.3%) antencedent count: 163.0 antencedent and concequent count: 108.0 lift: 227.0420648693569\n",
      "Rule frozenset({1146, 39}) -> frozenset({3616}) has consequent count: 654.0 (0.8%) antencedent count: 983.0 antencedent and concequent count: 189.0 lift: 25.285668287492886\n",
      "Rule frozenset({3616, 39}) -> frozenset({1146}) has consequent count: 1426.0 (1.7%) antencedent count: 419.0 antencedent and concequent count: 189.0 lift: 27.206467345278778\n",
      "Rule frozenset({1379, 39}) -> frozenset({1378}) has consequent count: 244.0 (0.3%) antencedent count: 196.0 antencedent and concequent count: 106.0 lift: 190.6355386416862\n",
      "Rule frozenset({1378, 39}) -> frozenset({1379}) has consequent count: 283.0 (0.3%) antencedent count: 159.0 antencedent and concequent count: 106.0 lift: 202.6124852767962\n",
      "Rule frozenset({1819, 39}) -> frozenset({3311}) has consequent count: 241.0 (0.3%) antencedent count: 163.0 antencedent and concequent count: 115.0 lift: 251.78919634447473\n",
      "Rule frozenset({39, 3311}) -> frozenset({1819}) has consequent count: 251.0 (0.3%) antencedent count: 151.0 antencedent and concequent count: 115.0 lift: 260.9702910213451\n",
      "Rule frozenset({2238, 39}) -> frozenset({5729}) has consequent count: 289.0 (0.3%) antencedent count: 1287.0 antencedent and concequent count: 107.0 lift: 24.742939106260906\n",
      "Rule frozenset({5729, 39}) -> frozenset({2238}) has consequent count: 1715.0 (2.0%) antencedent count: 216.0 antencedent and concequent count: 107.0 lift: 24.843329554043837\n",
      "Rule frozenset({2284, 39}) -> frozenset({2505}) has consequent count: 433.0 (0.5%) antencedent count: 349.0 antencedent and concequent count: 131.0 lift: 74.5593083504834\n",
      "Rule frozenset({2505, 39}) -> frozenset({2284}) has consequent count: 508.0 (0.6%) antencedent count: 297.0 antencedent and concequent count: 131.0 lift: 74.6784047827355\n",
      "Rule frozenset({16011, 39}) -> frozenset({16010}) has consequent count: 1316.0 (1.5%) antencedent count: 427.0 antencedent and concequent count: 419.0 lift: 64.13190741940306\n",
      "Rule frozenset({16010, 39}) -> frozenset({16011}) has consequent count: 669.0 (0.8%) antencedent count: 829.0 antencedent and concequent count: 419.0 lift: 64.97963581024918\n",
      "Rule frozenset({41, 16431}) -> frozenset({16430}) has consequent count: 426.0 (0.5%) antencedent count: 105.0 antencedent and concequent count: 104.0 lift: 199.97621283255086\n",
      "Rule frozenset({41, 16430}) -> frozenset({16431}) has consequent count: 351.0 (0.4%) antencedent count: 121.0 antencedent and concequent count: 104.0 lift: 210.61279461279463\n",
      "Rule frozenset({41, 271}) -> frozenset({225}) has consequent count: 3257.0 (3.8%) antencedent count: 584.0 antencedent and concequent count: 115.0 lift: 5.200093265926708\n",
      "Rule frozenset({41, 225}) -> frozenset({271}) has consequent count: 2094.0 (2.4%) antencedent count: 877.0 antencedent and concequent count: 115.0 lift: 5.385989072323705\n",
      "Rule frozenset({41, 2238}) -> frozenset({225}) has consequent count: 3257.0 (3.8%) antencedent count: 570.0 antencedent and concequent count: 117.0 lift: 5.4204725045650655\n",
      "Rule frozenset({41, 225}) -> frozenset({2238}) has consequent count: 1715.0 (2.0%) antencedent count: 877.0 antencedent and concequent count: 117.0 lift: 6.690615037349033\n",
      "Rule frozenset({41, 271}) -> frozenset({270}) has consequent count: 1734.0 (2.0%) antencedent count: 584.0 antencedent and concequent count: 219.0 lift: 18.600562283737023\n",
      "Rule frozenset({41, 270}) -> frozenset({271}) has consequent count: 2094.0 (2.4%) antencedent count: 508.0 antencedent and concequent count: 219.0 lift: 17.707107483699208\n",
      "Rule frozenset({41, 16010}) -> frozenset({8978}) has consequent count: 606.0 (0.7%) antencedent count: 467.0 antencedent and concequent count: 101.0 lift: 30.69557458957887\n",
      "Rule frozenset({41, 8978}) -> frozenset({16010}) has consequent count: 1316.0 (1.5%) antencedent count: 290.0 antencedent and concequent count: 101.0 lift: 22.762050623624358\n",
      "Rule frozenset({41, 16011}) -> frozenset({16010}) has consequent count: 1316.0 (1.5%) antencedent count: 244.0 antencedent and concequent count: 236.0 lift: 63.2135507499128\n",
      "Rule frozenset({41, 16010}) -> frozenset({16011}) has consequent count: 669.0 (0.8%) antencedent count: 467.0 antencedent and concequent count: 236.0 lift: 64.97000540933287\n",
      "Rule frozenset({48, 16431}) -> frozenset({16430}) has consequent count: 426.0 (0.5%) antencedent count: 175.0 antencedent and concequent count: 174.0 lift: 200.74535211267607\n",
      "Rule frozenset({48, 16430}) -> frozenset({16431}) has consequent count: 351.0 (0.4%) antencedent count: 219.0 antencedent and concequent count: 174.0 lift: 194.68922452484094\n",
      "Rule frozenset({48, 548}) -> frozenset({107}) has consequent count: 765.0 (0.9%) antencedent count: 658.0 antencedent and concequent count: 104.0 lift: 17.77010151578362\n",
      "Rule frozenset({48, 107}) -> frozenset({548}) has consequent count: 1137.0 (1.3%) antencedent count: 467.0 antencedent and concequent count: 104.0 lift: 16.846120091378378\n",
      "Rule frozenset({48, 549}) -> frozenset({107}) has consequent count: 765.0 (0.9%) antencedent count: 513.0 antencedent and concequent count: 107.0 lift: 23.450325523321737\n",
      "Rule frozenset({48, 107}) -> frozenset({549}) has consequent count: 843.0 (1.0%) antencedent count: 467.0 antencedent and concequent count: 107.0 lift: 23.376700932988893\n",
      "Rule frozenset({48, 107}) -> frozenset({1067}) has consequent count: 584.0 (0.7%) antencedent count: 467.0 antencedent and concequent count: 106.0 lift: 33.42874219002083\n",
      "Rule frozenset({48, 1067}) -> frozenset({107}) has consequent count: 765.0 (0.9%) antencedent count: 369.0 antencedent and concequent count: 106.0 lift: 32.29698354499885\n",
      "Rule frozenset({48, 976}) -> frozenset({117}) has consequent count: 1026.0 (1.2%) antencedent count: 456.0 antencedent and concequent count: 169.0 lift: 31.068365052494787\n",
      "Rule frozenset({48, 117}) -> frozenset({976}) has consequent count: 817.0 (0.9%) antencedent count: 601.0 antencedent and concequent count: 169.0 lift: 29.602887476401015\n",
      "Rule frozenset({48, 165}) -> frozenset({164}) has consequent count: 330.0 (0.4%) antencedent count: 195.0 antencedent and concequent count: 118.0 lift: 157.7165811965812\n",
      "Rule frozenset({48, 164}) -> frozenset({165}) has consequent count: 274.0 (0.3%) antencedent count: 224.0 antencedent and concequent count: 118.0 lift: 165.35880474452557\n",
      "Rule frozenset({48, 225}) -> frozenset({270}) has consequent count: 1734.0 (2.0%) antencedent count: 1736.0 antencedent and concequent count: 175.0 lift: 5.000151151542211\n",
      "Rule frozenset({48, 271}) -> frozenset({225}) has consequent count: 3257.0 (3.8%) antencedent count: 1090.0 antencedent and concequent count: 220.0 lift: 5.329940030365085\n",
      "Rule frozenset({48, 225}) -> frozenset({271}) has consequent count: 2094.0 (2.4%) antencedent count: 1736.0 antencedent and concequent count: 220.0 lift: 5.205233077610377\n",
      "Rule frozenset({48, 2238}) -> frozenset({225}) has consequent count: 3257.0 (3.8%) antencedent count: 955.0 antencedent and concequent count: 219.0 lift: 6.0557352910445\n",
      "Rule frozenset({48, 225}) -> frozenset({2238}) has consequent count: 1715.0 (2.0%) antencedent count: 1736.0 antencedent and concequent count: 219.0 lift: 6.326655224301702\n",
      "Rule frozenset({48, 271}) -> frozenset({270}) has consequent count: 1734.0 (2.0%) antencedent count: 1090.0 antencedent and concequent count: 369.0 lift: 16.791700263483698\n",
      "Rule frozenset({48, 270}) -> frozenset({271}) has consequent count: 2094.0 (2.4%) antencedent count: 957.0 antencedent and concequent count: 369.0 lift: 15.837318446793795\n",
      "Rule frozenset({48, 270}) -> frozenset({2238}) has consequent count: 1715.0 (2.0%) antencedent count: 957.0 antencedent and concequent count: 144.0 lift: 7.546235045742435\n",
      "Rule frozenset({48, 2238}) -> frozenset({270}) has consequent count: 1734.0 (2.0%) antencedent count: 955.0 antencedent and concequent count: 144.0 lift: 7.479178970633526\n",
      "Rule frozenset({48, 271}) -> frozenset({2238}) has consequent count: 1715.0 (2.0%) antencedent count: 1090.0 antencedent and concequent count: 153.0 lift: 7.03954690132934\n",
      "Rule frozenset({48, 2238}) -> frozenset({271}) has consequent count: 2094.0 (2.4%) antencedent count: 955.0 antencedent and concequent count: 153.0 lift: 6.580445251203889\n",
      "Rule frozenset({48, 405}) -> frozenset({10515}) has consequent count: 882.0 (1.0%) antencedent count: 525.0 antencedent and concequent count: 160.0 lift: 29.719123204837494\n",
      "Rule frozenset({48, 10515}) -> frozenset({405}) has consequent count: 879.0 (1.0%) antencedent count: 524.0 antencedent and concequent count: 160.0 lift: 29.8774631130101\n",
      "Rule frozenset({48, 16010}) -> frozenset({8978}) has consequent count: 606.0 (0.7%) antencedent count: 730.0 antencedent and concequent count: 123.0 lift: 23.914071612640715\n",
      "Rule frozenset({48, 8978}) -> frozenset({16010}) has consequent count: 1316.0 (1.5%) antencedent count: 344.0 antencedent and concequent count: 123.0 lift: 23.368706704601685\n",
      "Rule frozenset({48, 795}) -> frozenset({1819}) has consequent count: 251.0 (0.3%) antencedent count: 158.0 antencedent and concequent count: 108.0 lift: 234.22694033990618\n",
      "Rule frozenset({48, 1819}) -> frozenset({795}) has consequent count: 251.0 (0.3%) antencedent count: 156.0 antencedent and concequent count: 108.0 lift: 237.22984983144343\n",
      "Rule frozenset({48, 3616}) -> frozenset({1146}) has consequent count: 1426.0 (1.7%) antencedent count: 376.0 antencedent and concequent count: 167.0 lift: 26.788783906776878\n",
      "Rule frozenset({48, 1146}) -> frozenset({3616}) has consequent count: 654.0 (0.8%) antencedent count: 811.0 antencedent and concequent count: 167.0 lift: 27.080817279230157\n",
      "Rule frozenset({48, 3311}) -> frozenset({1819}) has consequent count: 251.0 (0.3%) antencedent count: 149.0 antencedent and concequent count: 107.0 lift: 246.0751089601326\n",
      "Rule frozenset({48, 1819}) -> frozenset({3311}) has consequent count: 241.0 (0.3%) antencedent count: 156.0 antencedent and concequent count: 107.0 lift: 244.78569528673265\n",
      "Rule frozenset({48, 2238}) -> frozenset({5729}) has consequent count: 289.0 (0.3%) antencedent count: 955.0 antencedent and concequent count: 104.0 lift: 32.409775539411946\n",
      "Rule frozenset({48, 5729}) -> frozenset({2238}) has consequent count: 1715.0 (2.0%) antencedent count: 192.0 antencedent and concequent count: 104.0 lift: 27.165136054421765\n",
      "Rule frozenset({48, 2284}) -> frozenset({2505}) has consequent count: 433.0 (0.5%) antencedent count: 292.0 antencedent and concequent count: 109.0 lift: 74.1480353696732\n",
      "Rule frozenset({48, 2505}) -> frozenset({2284}) has consequent count: 508.0 (0.6%) antencedent count: 256.0 antencedent and concequent count: 109.0 lift: 72.08862112450788\n",
      "Rule frozenset({48, 16011}) -> frozenset({16010}) has consequent count: 1316.0 (1.5%) antencedent count: 374.0 antencedent and concequent count: 362.0 lift: 63.259386733416775\n",
      "Rule frozenset({48, 16010}) -> frozenset({16011}) has consequent count: 669.0 (0.8%) antencedent count: 730.0 antencedent and concequent count: 362.0 lift: 63.753420562278606\n",
      "Rule frozenset({270, 271}) -> frozenset({225}) has consequent count: 3257.0 (3.8%) antencedent count: 680.0 antencedent and concequent count: 140.0 lift: 5.436823854503421\n",
      "Rule frozenset({225, 271}) -> frozenset({270}) has consequent count: 1734.0 (2.0%) antencedent count: 395.0 antencedent and concequent count: 140.0 lift: 17.58027827661221\n",
      "Rule frozenset({225, 270}) -> frozenset({271}) has consequent count: 2094.0 (2.4%) antencedent count: 295.0 antencedent and concequent count: 140.0 lift: 19.4927557347061\n",
      "Rule frozenset({270, 271}) -> frozenset({2238}) has consequent count: 1715.0 (2.0%) antencedent count: 680.0 antencedent and concequent count: 105.0 lift: 7.7439075630252105\n",
      "Rule frozenset({2238, 271}) -> frozenset({270}) has consequent count: 1734.0 (2.0%) antencedent count: 282.0 antencedent and concequent count: 105.0 lift: 18.46864340229208\n",
      "Rule frozenset({2238, 270}) -> frozenset({271}) has consequent count: 2094.0 (2.4%) antencedent count: 264.0 antencedent and concequent count: 105.0 lift: 16.336258357211076\n",
      "Rule frozenset({1379, 309}) -> frozenset({1080}) has consequent count: 295.0 (0.3%) antencedent count: 166.0 antencedent and concequent count: 103.0 lift: 180.90518684909128\n",
      "Rule frozenset({1080, 309}) -> frozenset({1379}) has consequent count: 283.0 (0.3%) antencedent count: 159.0 antencedent and concequent count: 103.0 lift: 196.87816965575482\n",
      "Rule frozenset({1080, 1379}) -> frozenset({309}) has consequent count: 309.0 (0.4%) antencedent count: 141.0 antencedent and concequent count: 103.0 lift: 203.3309692671395\n",
      "Rule frozenset({1379, 309}) -> frozenset({1378}) has consequent count: 244.0 (0.3%) antencedent count: 166.0 antencedent and concequent count: 117.0 lift: 248.44590657712817\n",
      "Rule frozenset({1378, 309}) -> frozenset({1379}) has consequent count: 283.0 (0.3%) antencedent count: 151.0 antencedent and concequent count: 117.0 lift: 235.48669646409095\n",
      "Rule frozenset({1378, 1379}) -> frozenset({309}) has consequent count: 309.0 (0.4%) antencedent count: 158.0 antencedent and concequent count: 117.0 lift: 206.11718077915694\n",
      "Rule frozenset({16010, 16011}) -> frozenset({8978}) has consequent count: 606.0 (0.7%) antencedent count: 651.0 antencedent and concequent count: 101.0 lift: 22.019713261648747\n",
      "Rule frozenset({8978, 16010}) -> frozenset({16011}) has consequent count: 669.0 (0.8%) antencedent count: 195.0 antencedent and concequent count: 101.0 lift: 66.58931432294662\n",
      "Rule frozenset({8978, 16011}) -> frozenset({16010}) has consequent count: 1316.0 (1.5%) antencedent count: 104.0 antencedent and concequent count: 101.0 lift: 63.471102700491\n",
      "Rule frozenset({1818, 795}) -> frozenset({1819}) has consequent count: 251.0 (0.3%) antencedent count: 150.0 antencedent and concequent count: 116.0 lift: 264.9945285524568\n",
      "Rule frozenset({795, 1819}) -> frozenset({1818}) has consequent count: 226.0 (0.3%) antencedent count: 167.0 antencedent and concequent count: 116.0 lift: 264.3485771819194\n",
      "Rule frozenset({1818, 1819}) -> frozenset({795}) has consequent count: 251.0 (0.3%) antencedent count: 145.0 antencedent and concequent count: 116.0 lift: 274.1322709163347\n",
      "Rule frozenset({795, 3311}) -> frozenset({1818}) has consequent count: 226.0 (0.3%) antencedent count: 147.0 antencedent and concequent count: 106.0 lift: 274.42520016856304\n",
      "Rule frozenset({1818, 3311}) -> frozenset({795}) has consequent count: 251.0 (0.3%) antencedent count: 140.0 antencedent and concequent count: 106.0 lift: 259.4466135458167\n",
      "Rule frozenset({1818, 795}) -> frozenset({3311}) has consequent count: 241.0 (0.3%) antencedent count: 150.0 antencedent and concequent count: 106.0 lift: 252.19789764868602\n",
      "Rule frozenset({795, 3311}) -> frozenset({1819}) has consequent count: 251.0 (0.3%) antencedent count: 147.0 antencedent and concequent count: 124.0 lift: 289.0510339594005\n",
      "Rule frozenset({1819, 3311}) -> frozenset({795}) has consequent count: 251.0 (0.3%) antencedent count: 180.0 antencedent and concequent count: 124.0 lift: 236.05834440017705\n",
      "Rule frozenset({795, 1819}) -> frozenset({3311}) has consequent count: 241.0 (0.3%) antencedent count: 167.0 antencedent and concequent count: 124.0 lift: 264.99157701195116\n",
      "Rule frozenset({1819, 3311}) -> frozenset({1818}) has consequent count: 226.0 (0.3%) antencedent count: 180.0 antencedent and concequent count: 114.0 lift: 241.02817109144542\n",
      "Rule frozenset({1818, 3311}) -> frozenset({1819}) has consequent count: 251.0 (0.3%) antencedent count: 140.0 antencedent and concequent count: 114.0 lift: 279.02749003984064\n",
      "Rule frozenset({1818, 1819}) -> frozenset({3311}) has consequent count: 241.0 (0.3%) antencedent count: 145.0 antencedent and concequent count: 114.0 lift: 280.5845185291172\n",
      "Rule frozenset({32, 36, 39}) -> frozenset({38}) has consequent count: 15596.0 (18.1%) antencedent count: 324.0 antencedent and concequent count: 308.0 lift: 5.242475120242924\n",
      "Rule frozenset({32, 41, 36}) -> frozenset({38}) has consequent count: 15596.0 (18.1%) antencedent count: 133.0 antencedent and concequent count: 128.0 lift: 5.307487749895384\n",
      "Rule frozenset({32, 48, 36}) -> frozenset({38}) has consequent count: 15596.0 (18.1%) antencedent count: 262.0 antencedent and concequent count: 254.0 lift: 5.346420299587484\n",
      "Rule frozenset({32, 38, 39}) -> frozenset({37}) has consequent count: 1074.0 (1.2%) antencedent count: 1840.0 antencedent and concequent count: 137.0 lift: 5.962691786090195\n",
      "Rule frozenset({32, 37, 39}) -> frozenset({38}) has consequent count: 15596.0 (18.1%) antencedent count: 137.0 antencedent and concequent count: 137.0 lift: 5.514811490125673\n",
      "Rule frozenset({32, 48, 38}) -> frozenset({37}) has consequent count: 1074.0 (1.2%) antencedent count: 1646.0 antencedent and concequent count: 122.0 lift: 5.935668207561472\n",
      "Rule frozenset({32, 48, 37}) -> frozenset({38}) has consequent count: 15596.0 (18.1%) antencedent count: 122.0 antencedent and concequent count: 122.0 lift: 5.514811490125673\n",
      "Rule frozenset({32, 38, 39}) -> frozenset({47}) has consequent count: 444.0 (0.5%) antencedent count: 1840.0 antencedent and concequent count: 117.0 lift: 12.317681404230317\n",
      "Rule frozenset({32, 39, 47}) -> frozenset({38}) has consequent count: 15596.0 (18.1%) antencedent count: 118.0 antencedent and concequent count: 117.0 lift: 5.468075799531388\n",
      "Rule frozenset({32, 110, 39}) -> frozenset({38}) has consequent count: 15596.0 (18.1%) antencedent count: 286.0 antencedent and concequent count: 284.0 lift: 5.476246374810109\n",
      "Rule frozenset({32, 170, 39}) -> frozenset({38}) has consequent count: 15596.0 (18.1%) antencedent count: 332.0 antencedent and concequent count: 326.0 lift: 5.415146222231836\n",
      "Rule frozenset({32, 38, 39}) -> frozenset({286}) has consequent count: 1183.0 (1.4%) antencedent count: 1840.0 antencedent and concequent count: 143.0 lift: 5.6503762541806015\n",
      "Rule frozenset({32, 286, 39}) -> frozenset({38}) has consequent count: 15596.0 (18.1%) antencedent count: 144.0 antencedent and concequent count: 143.0 lift: 5.476514188110912\n",
      "Rule frozenset({32, 41, 110}) -> frozenset({38}) has consequent count: 15596.0 (18.1%) antencedent count: 124.0 antencedent and concequent count: 123.0 lift: 5.470337203914982\n",
      "Rule frozenset({32, 41, 38}) -> frozenset({170}) has consequent count: 3099.0 (3.6%) antencedent count: 805.0 antencedent and concequent count: 155.0 lift: 5.343897751027681\n",
      "Rule frozenset({32, 41, 170}) -> frozenset({38}) has consequent count: 15596.0 (18.1%) antencedent count: 158.0 antencedent and concequent count: 155.0 lift: 5.410099879553666\n",
      "Rule frozenset({32, 48, 47}) -> frozenset({38}) has consequent count: 15596.0 (18.1%) antencedent count: 107.0 antencedent and concequent count: 107.0 lift: 5.514811490125673\n",
      "Rule frozenset({32, 48, 38}) -> frozenset({47}) has consequent count: 444.0 (0.5%) antencedent count: 1646.0 antencedent and concequent count: 107.0 lift: 12.592584534716977\n",
      "Rule frozenset({32, 48, 110}) -> frozenset({38}) has consequent count: 15596.0 (18.1%) antencedent count: 267.0 antencedent and concequent count: 264.0 lift: 5.452847316079317\n",
      "Rule frozenset({32, 48, 38}) -> frozenset({170}) has consequent count: 3099.0 (3.6%) antencedent count: 1646.0 antencedent and concequent count: 305.0 lift: 5.142713500258971\n",
      "Rule frozenset({32, 170, 48}) -> frozenset({38}) has consequent count: 15596.0 (18.1%) antencedent count: 308.0 antencedent and concequent count: 305.0 lift: 5.46109579379328\n",
      "Rule frozenset({32, 48, 286}) -> frozenset({38}) has consequent count: 15596.0 (18.1%) antencedent count: 128.0 antencedent and concequent count: 127.0 lift: 5.471727025359066\n",
      "Rule frozenset({32, 48, 38}) -> frozenset({286}) has consequent count: 1183.0 (1.4%) antencedent count: 1646.0 antencedent and concequent count: 127.0 lift: 5.609614845384543\n",
      "Rule frozenset({48, 1046, 39}) -> frozenset({32}) has consequent count: 15167.0 (17.6%) antencedent count: 119.0 antencedent and concequent count: 110.0 lift: 5.2419145280582065\n",
      "Rule frozenset({41, 38, 39}) -> frozenset({36}) has consequent count: 2936.0 (3.4%) antencedent count: 3051.0 antencedent and concequent count: 553.0 lift: 5.309709618591127\n",
      "Rule frozenset({41, 36, 39}) -> frozenset({38}) has consequent count: 15596.0 (18.1%) antencedent count: 572.0 antencedent and concequent count: 553.0 lift: 5.331627192376743\n",
      "Rule frozenset({48, 38, 39}) -> frozenset({36}) has consequent count: 2936.0 (3.4%) antencedent count: 6102.0 antencedent and concequent count: 1080.0 lift: 5.184888235152275\n",
      "Rule frozenset({48, 36, 39}) -> frozenset({38}) has consequent count: 15596.0 (18.1%) antencedent count: 1116.0 antencedent and concequent count: 1080.0 lift: 5.336914345282909\n",
      "Rule frozenset({65, 38, 39}) -> frozenset({36}) has consequent count: 2936.0 (3.4%) antencedent count: 488.0 antencedent and concequent count: 119.0 lift: 7.143564764148836\n",
      "Rule frozenset({65, 36, 39}) -> frozenset({38}) has consequent count: 15596.0 (18.1%) antencedent count: 122.0 antencedent and concequent count: 119.0 lift: 5.379201371516025\n",
      "Rule frozenset({89, 38, 39}) -> frozenset({36}) has consequent count: 2936.0 (3.4%) antencedent count: 589.0 antencedent and concequent count: 128.0 lift: 6.366232889069822\n",
      "Rule frozenset({89, 36, 39}) -> frozenset({38}) has consequent count: 15596.0 (18.1%) antencedent count: 129.0 antencedent and concequent count: 128.0 lift: 5.472061013458032\n",
      "Rule frozenset({36, 110, 39}) -> frozenset({38}) has consequent count: 15596.0 (18.1%) antencedent count: 136.0 antencedent and concequent count: 135.0 lift: 5.474261405639455\n",
      "Rule frozenset({170, 36, 39}) -> frozenset({38}) has consequent count: 15596.0 (18.1%) antencedent count: 143.0 antencedent and concequent count: 140.0 lift: 5.399116144178981\n",
      "Rule frozenset({225, 38, 39}) -> frozenset({36}) has consequent count: 2936.0 (3.4%) antencedent count: 535.0 antencedent and concequent count: 110.0 lift: 6.02319259466755\n",
      "Rule frozenset({225, 36, 39}) -> frozenset({38}) has consequent count: 15596.0 (18.1%) antencedent count: 116.0 antencedent and concequent count: 110.0 lift: 5.229562619946758\n",
      "Rule frozenset({237, 38, 39}) -> frozenset({36}) has consequent count: 2936.0 (3.4%) antencedent count: 512.0 antencedent and concequent count: 122.0 lift: 6.980358321270436\n",
      "Rule frozenset({36, 237, 39}) -> frozenset({38}) has consequent count: 15596.0 (18.1%) antencedent count: 124.0 antencedent and concequent count: 122.0 lift: 5.425862917704291\n",
      "Rule frozenset({48, 41, 36}) -> frozenset({38}) has consequent count: 15596.0 (18.1%) antencedent count: 388.0 antencedent and concequent count: 377.0 lift: 5.358463741694275\n",
      "Rule frozenset({48, 89, 38}) -> frozenset({36}) has consequent count: 2936.0 (3.4%) antencedent count: 578.0 antencedent and concequent count: 113.0 lift: 5.727148605074342\n",
      "Rule frozenset({48, 89, 36}) -> frozenset({38}) has consequent count: 15596.0 (18.1%) antencedent count: 116.0 antencedent and concequent count: 113.0 lift: 5.372187055036216\n",
      "Rule frozenset({48, 170, 36}) -> frozenset({38}) has consequent count: 15596.0 (18.1%) antencedent count: 107.0 antencedent and concequent count: 107.0 lift: 5.514811490125673\n",
      "Rule frozenset({41, 38, 39}) -> frozenset({37}) has consequent count: 1074.0 (1.2%) antencedent count: 3051.0 antencedent and concequent count: 202.0 lift: 5.302110551414287\n",
      "Rule frozenset({41, 37, 39}) -> frozenset({38}) has consequent count: 15596.0 (18.1%) antencedent count: 203.0 antencedent and concequent count: 202.0 lift: 5.4876449310610145\n",
      "Rule frozenset({48, 38, 39}) -> frozenset({37}) has consequent count: 1074.0 (1.2%) antencedent count: 6102.0 antencedent and concequent count: 433.0 lift: 5.682707595946501\n",
      "Rule frozenset({48, 37, 39}) -> frozenset({38}) has consequent count: 15596.0 (18.1%) antencedent count: 440.0 antencedent and concequent count: 433.0 lift: 5.427075852782765\n",
      "Rule frozenset({48, 41, 38}) -> frozenset({37}) has consequent count: 1074.0 (1.2%) antencedent count: 2374.0 antencedent and concequent count: 172.0 lift: 5.802128584180891\n",
      "Rule frozenset({48, 41, 37}) -> frozenset({38}) has consequent count: 15596.0 (18.1%) antencedent count: 172.0 antencedent and concequent count: 172.0 lift: 5.514811490125673\n",
      "Rule frozenset({41, 38, 39}) -> frozenset({55}) has consequent count: 704.0 (0.8%) antencedent count: 3051.0 antencedent and concequent count: 141.0 lift: 5.646094518190757\n",
      "Rule frozenset({41, 39, 55}) -> frozenset({38}) has consequent count: 15596.0 (18.1%) antencedent count: 145.0 antencedent and concequent count: 141.0 lift: 5.362678759363585\n",
      "Rule frozenset({41, 38, 39}) -> frozenset({105}) has consequent count: 657.0 (0.8%) antencedent count: 3051.0 antencedent and concequent count: 119.0 lift: 5.106029063505391\n",
      "Rule frozenset({41, 105, 39}) -> frozenset({38}) has consequent count: 15596.0 (18.1%) antencedent count: 120.0 antencedent and concequent count: 119.0 lift: 5.468854727707959\n",
      "Rule frozenset({41, 38, 39}) -> frozenset({110}) has consequent count: 2794.0 (3.2%) antencedent count: 3051.0 antencedent and concequent count: 511.0 lift: 5.155801505637753\n",
      "Rule frozenset({41, 110, 39}) -> frozenset({38}) has consequent count: 15596.0 (18.1%) antencedent count: 515.0 antencedent and concequent count: 511.0 lift: 5.471978002823726\n",
      "Rule frozenset({41, 38, 39}) -> frozenset({170}) has consequent count: 3099.0 (3.6%) antencedent count: 3051.0 antencedent and concequent count: 615.0 lift: 5.594422091308041\n",
      "Rule frozenset({41, 170, 39}) -> frozenset({38}) has consequent count: 15596.0 (18.1%) antencedent count: 624.0 antencedent and concequent count: 615.0 lift: 5.435270939787322\n",
      "Rule frozenset({41, 286, 39}) -> frozenset({38}) has consequent count: 15596.0 (18.1%) antencedent count: 208.0 antencedent and concequent count: 203.0 lift: 5.382243906228421\n",
      "Rule frozenset({41, 371, 39}) -> frozenset({38}) has consequent count: 15596.0 (18.1%) antencedent count: 137.0 antencedent and concequent count: 136.0 lift: 5.474557391657602\n",
      "Rule frozenset({41, 38, 39}) -> frozenset({790}) has consequent count: 523.0 (0.6%) antencedent count: 3051.0 antencedent and concequent count: 153.0 lift: 8.24691337134864\n",
      "Rule frozenset({41, 790, 39}) -> frozenset({38}) has consequent count: 15596.0 (18.1%) antencedent count: 154.0 antencedent and concequent count: 153.0 lift: 5.479001025904078\n",
      "Rule frozenset({41, 38, 39}) -> frozenset({3904}) has consequent count: 341.0 (0.4%) antencedent count: 3051.0 antencedent and concequent count: 108.0 lift: 8.928347131030545\n",
      "Rule frozenset({3904, 41, 39}) -> frozenset({38}) has consequent count: 15596.0 (18.1%) antencedent count: 112.0 antencedent and concequent count: 108.0 lift: 5.317853936906899\n",
      "Rule frozenset({48, 38, 39}) -> frozenset({47}) has consequent count: 444.0 (0.5%) antencedent count: 6102.0 antencedent and concequent count: 212.0 lift: 6.730147551681475\n",
      "Rule frozenset({48, 39, 47}) -> frozenset({38}) has consequent count: 15596.0 (18.1%) antencedent count: 216.0 antencedent and concequent count: 212.0 lift: 5.4126853514196425\n",
      "Rule frozenset({48, 39, 55}) -> frozenset({38}) has consequent count: 15596.0 (18.1%) antencedent count: 251.0 antencedent and concequent count: 243.0 lift: 5.339040605978242\n",
      "Rule frozenset({48, 38, 39}) -> frozenset({56}) has consequent count: 535.0 (0.6%) antencedent count: 6102.0 antencedent and concequent count: 219.0 lift: 5.769816851836536\n",
      "Rule frozenset({48, 56, 39}) -> frozenset({38}) has consequent count: 15596.0 (18.1%) antencedent count: 226.0 antencedent and concequent count: 219.0 lift: 5.343998744856293\n",
      "Rule frozenset({48, 38, 39}) -> frozenset({105}) has consequent count: 657.0 (0.8%) antencedent count: 6102.0 antencedent and concequent count: 290.0 lift: 6.221632052170434\n",
      "Rule frozenset({48, 105, 39}) -> frozenset({38}) has consequent count: 15596.0 (18.1%) antencedent count: 291.0 antencedent and concequent count: 290.0 lift: 5.495860247891564\n",
      "Rule frozenset({48, 38, 39}) -> frozenset({110}) has consequent count: 2794.0 (3.2%) antencedent count: 6102.0 antencedent and concequent count: 1031.0 lift: 5.201204845706971\n",
      "Rule frozenset({48, 110, 39}) -> frozenset({38}) has consequent count: 15596.0 (18.1%) antencedent count: 1037.0 antencedent and concequent count: 1031.0 lift: 5.482903226923403\n",
      "Rule frozenset({48, 38, 39}) -> frozenset({170}) has consequent count: 3099.0 (3.6%) antencedent count: 6102.0 antencedent and concequent count: 1193.0 lift: 5.426134597504466\n",
      "Rule frozenset({48, 170, 39}) -> frozenset({38}) has consequent count: 15596.0 (18.1%) antencedent count: 1206.0 antencedent and concequent count: 1193.0 lift: 5.455364931774401\n",
      "Rule frozenset({48, 38, 39}) -> frozenset({281}) has consequent count: 453.0 (0.5%) antencedent count: 6102.0 antencedent and concequent count: 184.0 lift: 5.725208613250966\n",
      "Rule frozenset({48, 281, 39}) -> frozenset({38}) has consequent count: 15596.0 (18.1%) antencedent count: 193.0 antencedent and concequent count: 184.0 lift: 5.257644114938465\n",
      "Rule frozenset({48, 38, 39}) -> frozenset({286}) has consequent count: 1183.0 (1.4%) antencedent count: 6102.0 antencedent and concequent count: 458.0 lift: 5.45698083274666\n",
      "Rule frozenset({48, 286, 39}) -> frozenset({38}) has consequent count: 15596.0 (18.1%) antencedent count: 464.0 antencedent and concequent count: 458.0 lift: 5.443499272580944\n",
      "Rule frozenset({48, 38, 39}) -> frozenset({370}) has consequent count: 375.0 (0.4%) antencedent count: 6102.0 antencedent and concequent count: 142.0 lift: 5.337387960231618\n",
      "Rule frozenset({48, 370, 39}) -> frozenset({38}) has consequent count: 15596.0 (18.1%) antencedent count: 145.0 antencedent and concequent count: 142.0 lift: 5.400711942054107\n",
      "Rule frozenset({48, 38, 39}) -> frozenset({371}) has consequent count: 782.0 (0.9%) antencedent count: 6102.0 antencedent and concequent count: 294.0 lift: 5.29922393479644\n",
      "Rule frozenset({48, 371, 39}) -> frozenset({38}) has consequent count: 15596.0 (18.1%) antencedent count: 295.0 antencedent and concequent count: 294.0 lift: 5.496117213887959\n",
      "Rule frozenset({48, 38, 39}) -> frozenset({390}) has consequent count: 376.0 (0.4%) antencedent count: 6102.0 antencedent and concequent count: 154.0 lift: 5.7730400566260105\n",
      "Rule frozenset({48, 390, 39}) -> frozenset({38}) has consequent count: 15596.0 (18.1%) antencedent count: 165.0 antencedent and concequent count: 154.0 lift: 5.147157390783962\n",
      "Rule frozenset({48, 38, 39}) -> frozenset({790}) has consequent count: 523.0 (0.6%) antencedent count: 6102.0 antencedent and concequent count: 235.0 lift: 6.3334138636174195\n",
      "Rule frozenset({48, 790, 39}) -> frozenset({38}) has consequent count: 15596.0 (18.1%) antencedent count: 239.0 antencedent and concequent count: 235.0 lift: 5.422513389872523\n",
      "Rule frozenset({48, 38, 39}) -> frozenset({840}) has consequent count: 391.0 (0.5%) antencedent count: 6102.0 antencedent and concequent count: 145.0 lift: 5.227125649969278\n",
      "Rule frozenset({48, 840, 39}) -> frozenset({38}) has consequent count: 15596.0 (18.1%) antencedent count: 147.0 antencedent and concequent count: 145.0 lift: 5.439780041280425\n",
      "Rule frozenset({48, 38, 39}) -> frozenset({3904}) has consequent count: 341.0 (0.4%) antencedent count: 6102.0 antencedent and concequent count: 173.0 lift: 7.150944692908723\n",
      "Rule frozenset({48, 3904, 39}) -> frozenset({38}) has consequent count: 15596.0 (18.1%) antencedent count: 179.0 antencedent and concequent count: 173.0 lift: 5.329957473696879\n",
      "Rule frozenset({89, 38, 39}) -> frozenset({170}) has consequent count: 3099.0 (3.6%) antencedent count: 589.0 antencedent and concequent count: 131.0 lift: 6.1727448089668\n",
      "Rule frozenset({89, 170, 39}) -> frozenset({38}) has consequent count: 15596.0 (18.1%) antencedent count: 132.0 antencedent and concequent count: 131.0 lift: 5.473032615200478\n",
      "Rule frozenset({170, 110, 39}) -> frozenset({38}) has consequent count: 15596.0 (18.1%) antencedent count: 120.0 antencedent and concequent count: 119.0 lift: 5.468854727707959\n",
      "Rule frozenset({237, 38, 39}) -> frozenset({170}) has consequent count: 3099.0 (3.6%) antencedent count: 512.0 antencedent and concequent count: 119.0 lift: 6.45058826940142\n",
      "Rule frozenset({170, 237, 39}) -> frozenset({38}) has consequent count: 15596.0 (18.1%) antencedent count: 121.0 antencedent and concequent count: 119.0 lift: 5.423657581197976\n",
      "Rule frozenset({39, 38, 271}) -> frozenset({270}) has consequent count: 1734.0 (2.0%) antencedent count: 290.0 antencedent and concequent count: 112.0 lift: 19.15644115658434\n",
      "Rule frozenset({38, 270, 39}) -> frozenset({271}) has consequent count: 2094.0 (2.4%) antencedent count: 291.0 antencedent and concequent count: 112.0 lift: 15.808557915431752\n",
      "Rule frozenset({48, 41, 55}) -> frozenset({38}) has consequent count: 15596.0 (18.1%) antencedent count: 105.0 antencedent and concequent count: 103.0 lift: 5.409767461742327\n",
      "Rule frozenset({48, 41, 38}) -> frozenset({55}) has consequent count: 704.0 (0.8%) antencedent count: 2374.0 antencedent and concequent count: 103.0 lift: 5.300633161331087\n",
      "Rule frozenset({48, 41, 105}) -> frozenset({38}) has consequent count: 15596.0 (18.1%) antencedent count: 104.0 antencedent and concequent count: 103.0 lift: 5.461784456566773\n",
      "Rule frozenset({48, 41, 38}) -> frozenset({105}) has consequent count: 657.0 (0.8%) antencedent count: 2374.0 antencedent and concequent count: 103.0 lift: 5.679826096768775\n",
      "Rule frozenset({48, 41, 38}) -> frozenset({110}) has consequent count: 2794.0 (3.2%) antencedent count: 2374.0 antencedent and concequent count: 419.0 lift: 5.43313885995927\n",
      "Rule frozenset({48, 41, 110}) -> frozenset({38}) has consequent count: 15596.0 (18.1%) antencedent count: 423.0 antencedent and concequent count: 419.0 lift: 5.462661972488551\n",
      "Rule frozenset({48, 41, 38}) -> frozenset({170}) has consequent count: 3099.0 (3.6%) antencedent count: 2374.0 antencedent and concequent count: 484.0 lift: 5.658313019418444\n",
      "Rule frozenset({48, 41, 170}) -> frozenset({38}) has consequent count: 15596.0 (18.1%) antencedent count: 492.0 antencedent and concequent count: 484.0 lift: 5.425139758578914\n",
      "Rule frozenset({48, 41, 286}) -> frozenset({38}) has consequent count: 15596.0 (18.1%) antencedent count: 160.0 antencedent and concequent count: 157.0 lift: 5.411408774685817\n",
      "Rule frozenset({48, 41, 371}) -> frozenset({38}) has consequent count: 15596.0 (18.1%) antencedent count: 101.0 antencedent and concequent count: 101.0 lift: 5.514811490125673\n",
      "Rule frozenset({48, 41, 790}) -> frozenset({38}) has consequent count: 15596.0 (18.1%) antencedent count: 138.0 antencedent and concequent count: 136.0 lift: 5.4348866859209535\n",
      "Rule frozenset({48, 41, 38}) -> frozenset({790}) has consequent count: 523.0 (0.6%) antencedent count: 2374.0 antencedent and concequent count: 136.0 lift: 9.42107374182709\n",
      "Rule frozenset({48, 89, 38}) -> frozenset({170}) has consequent count: 3099.0 (3.6%) antencedent count: 578.0 antencedent and concequent count: 140.0 lift: 6.7223716546581045\n",
      "Rule frozenset({48, 89, 170}) -> frozenset({38}) has consequent count: 15596.0 (18.1%) antencedent count: 140.0 antencedent and concequent count: 140.0 lift: 5.514811490125673\n",
      "Rule frozenset({48, 237, 38}) -> frozenset({170}) has consequent count: 3099.0 (3.6%) antencedent count: 414.0 antencedent and concequent count: 102.0 lift: 6.837890670669828\n",
      "Rule frozenset({48, 170, 237}) -> frozenset({38}) has consequent count: 15596.0 (18.1%) antencedent count: 103.0 antencedent and concequent count: 102.0 lift: 5.461269630998239\n",
      "Rule frozenset({41, 2238, 39}) -> frozenset({225}) has consequent count: 3257.0 (3.8%) antencedent count: 472.0 antencedent and concequent count: 104.0 lift: 5.818586304335382\n",
      "Rule frozenset({41, 225, 39}) -> frozenset({2238}) has consequent count: 1715.0 (2.0%) antencedent count: 726.0 antencedent and concequent count: 104.0 lift: 7.184168212739642\n",
      "Rule frozenset({41, 270, 39}) -> frozenset({271}) has consequent count: 2094.0 (2.4%) antencedent count: 399.0 antencedent and concequent count: 179.0 lift: 18.426691130883558\n",
      "Rule frozenset({41, 39, 271}) -> frozenset({270}) has consequent count: 1734.0 (2.0%) antencedent count: 451.0 antencedent and concequent count: 179.0 lift: 19.68662615691901\n",
      "Rule frozenset({41, 16011, 39}) -> frozenset({16010}) has consequent count: 1316.0 (1.5%) antencedent count: 194.0 antencedent and concequent count: 190.0 lift: 64.0088286905023\n",
      "Rule frozenset({41, 16010, 39}) -> frozenset({16011}) has consequent count: 669.0 (0.8%) antencedent count: 368.0 antencedent and concequent count: 190.0 lift: 66.37790829921362\n",
      "Rule frozenset({48, 16430, 39}) -> frozenset({16431}) has consequent count: 351.0 (0.4%) antencedent count: 124.0 antencedent and concequent count: 106.0 lift: 209.46958000183807\n",
      "Rule frozenset({48, 39, 16431}) -> frozenset({16430}) has consequent count: 426.0 (0.5%) antencedent count: 107.0 antencedent and concequent count: 106.0 lift: 200.01215392040717\n",
      "Rule frozenset({48, 117, 39}) -> frozenset({976}) has consequent count: 817.0 (0.9%) antencedent count: 378.0 antencedent and concequent count: 106.0 lift: 29.521329162700027\n",
      "Rule frozenset({48, 39, 976}) -> frozenset({117}) has consequent count: 1026.0 (1.2%) antencedent count: 325.0 antencedent and concequent count: 106.0 lift: 27.341292547608337\n",
      "Rule frozenset({48, 270, 39}) -> frozenset({225}) has consequent count: 3257.0 (3.8%) antencedent count: 733.0 antencedent and concequent count: 153.0 lift: 5.51205567942444\n",
      "Rule frozenset({48, 225, 39}) -> frozenset({270}) has consequent count: 1734.0 (2.0%) antencedent count: 1400.0 antencedent and concequent count: 153.0 lift: 5.420735294117647\n",
      "Rule frozenset({48, 39, 271}) -> frozenset({225}) has consequent count: 3257.0 (3.8%) antencedent count: 827.0 antencedent and concequent count: 183.0 lift: 5.843482125189202\n",
      "Rule frozenset({48, 225, 39}) -> frozenset({271}) has consequent count: 2094.0 (2.4%) antencedent count: 1400.0 antencedent and concequent count: 183.0 lift: 5.368961318051576\n",
      "Rule frozenset({48, 2238, 39}) -> frozenset({225}) has consequent count: 3257.0 (3.8%) antencedent count: 788.0 antencedent and concequent count: 196.0 lift: 6.5683455704153015\n",
      "Rule frozenset({48, 225, 39}) -> frozenset({2238}) has consequent count: 1715.0 (2.0%) antencedent count: 1400.0 antencedent and concequent count: 196.0 lift: 7.021142857142857\n",
      "Rule frozenset({48, 270, 39}) -> frozenset({271}) has consequent count: 2094.0 (2.4%) antencedent count: 733.0 antencedent and concequent count: 284.0 lift: 15.914081811086309\n",
      "Rule frozenset({48, 39, 271}) -> frozenset({270}) has consequent count: 1734.0 (2.0%) antencedent count: 827.0 antencedent and concequent count: 284.0 lift: 17.033646718520966\n",
      "Rule frozenset({48, 270, 39}) -> frozenset({2238}) has consequent count: 1715.0 (2.0%) antencedent count: 733.0 antencedent and concequent count: 120.0 lift: 8.21026254976752\n",
      "Rule frozenset({48, 2238, 39}) -> frozenset({270}) has consequent count: 1734.0 (2.0%) antencedent count: 788.0 antencedent and concequent count: 120.0 lift: 7.553527830959198\n",
      "Rule frozenset({48, 2238, 39}) -> frozenset({271}) has consequent count: 2094.0 (2.4%) antencedent count: 788.0 antencedent and concequent count: 125.0 lift: 6.515549018467072\n",
      "Rule frozenset({48, 39, 271}) -> frozenset({2238}) has consequent count: 1715.0 (2.0%) antencedent count: 827.0 antencedent and concequent count: 125.0 lift: 7.58026306048417\n",
      "Rule frozenset({48, 405, 39}) -> frozenset({10515}) has consequent count: 882.0 (1.0%) antencedent count: 340.0 antencedent and concequent count: 124.0 lift: 35.564612511671335\n",
      "Rule frozenset({48, 10515, 39}) -> frozenset({405}) has consequent count: 879.0 (1.0%) antencedent count: 373.0 antencedent and concequent count: 124.0 lift: 32.52878758764987\n",
      "Rule frozenset({48, 16010, 39}) -> frozenset({8978}) has consequent count: 606.0 (0.7%) antencedent count: 529.0 antencedent and concequent count: 101.0 lift: 27.097983616887205\n",
      "Rule frozenset({48, 8978, 39}) -> frozenset({16010}) has consequent count: 1316.0 (1.5%) antencedent count: 276.0 antencedent and concequent count: 101.0 lift: 23.916647394387915\n",
      "Rule frozenset({48, 3616, 39}) -> frozenset({1146}) has consequent count: 1426.0 (1.7%) antencedent count: 270.0 antencedent and concequent count: 117.0 lift: 26.1364422627396\n",
      "Rule frozenset({48, 1146, 39}) -> frozenset({3616}) has consequent count: 654.0 (0.8%) antencedent count: 623.0 antencedent and concequent count: 117.0 lift: 24.698123904752087\n",
      "Rule frozenset({48, 16011, 39}) -> frozenset({16010}) has consequent count: 1316.0 (1.5%) antencedent count: 275.0 antencedent and concequent count: 269.0 lift: 63.93042553191489\n",
      "Rule frozenset({48, 16010, 39}) -> frozenset({16011}) has consequent count: 669.0 (0.8%) antencedent count: 529.0 antencedent and concequent count: 269.0 lift: 65.37540442101039\n",
      "Rule frozenset({39, 270, 271}) -> frozenset({225}) has consequent count: 3257.0 (3.8%) antencedent count: 484.0 antencedent and concequent count: 111.0 lift: 6.056249476651687\n",
      "Rule frozenset({225, 270, 39}) -> frozenset({271}) has consequent count: 2094.0 (2.4%) antencedent count: 236.0 antencedent and concequent count: 111.0 lift: 19.318713272789083\n",
      "Rule frozenset({225, 39, 271}) -> frozenset({270}) has consequent count: 1734.0 (2.0%) antencedent count: 309.0 antencedent and concequent count: 111.0 lift: 17.818014355942264\n",
      "Rule frozenset({48, 41, 271}) -> frozenset({270}) has consequent count: 1734.0 (2.0%) antencedent count: 346.0 antencedent and concequent count: 124.0 lift: 17.77625990892787\n",
      "Rule frozenset({48, 41, 270}) -> frozenset({271}) has consequent count: 2094.0 (2.4%) antencedent count: 315.0 antencedent and concequent count: 124.0 lift: 16.1688209699671\n",
      "Rule frozenset({48, 41, 16011}) -> frozenset({16010}) has consequent count: 1316.0 (1.5%) antencedent count: 165.0 antencedent and concequent count: 159.0 lift: 62.979787234042554\n",
      "Rule frozenset({48, 41, 16010}) -> frozenset({16011}) has consequent count: 669.0 (0.8%) antencedent count: 315.0 antencedent and concequent count: 159.0 lift: 64.893971101146\n",
      "Rule frozenset({32, 41, 36, 39}) -> frozenset({38}) has consequent count: 15596.0 (18.1%) antencedent count: 106.0 antencedent and concequent count: 102.0 lift: 5.306705396158667\n",
      "Rule frozenset({32, 48, 36, 39}) -> frozenset({38}) has consequent count: 15596.0 (18.1%) antencedent count: 196.0 antencedent and concequent count: 191.0 lift: 5.374127523540834\n",
      "Rule frozenset({32, 48, 38, 39}) -> frozenset({37}) has consequent count: 1074.0 (1.2%) antencedent count: 1236.0 antencedent and concequent count: 101.0 lift: 6.543988386879041\n",
      "Rule frozenset({32, 48, 37, 39}) -> frozenset({38}) has consequent count: 15596.0 (18.1%) antencedent count: 101.0 antencedent and concequent count: 101.0 lift: 5.514811490125673\n",
      "Rule frozenset({32, 41, 170, 39}) -> frozenset({38}) has consequent count: 15596.0 (18.1%) antencedent count: 122.0 antencedent and concequent count: 119.0 lift: 5.379201371516025\n",
      "Rule frozenset({32, 41, 38, 39}) -> frozenset({170}) has consequent count: 3099.0 (3.6%) antencedent count: 622.0 antencedent and concequent count: 119.0 lift: 5.309808993462262\n",
      "Rule frozenset({32, 48, 110, 39}) -> frozenset({38}) has consequent count: 15596.0 (18.1%) antencedent count: 202.0 antencedent and concequent count: 201.0 lift: 5.487510443144853\n",
      "Rule frozenset({32, 48, 38, 39}) -> frozenset({110}) has consequent count: 2794.0 (3.2%) antencedent count: 1236.0 antencedent and concequent count: 201.0 lift: 5.00604884947634\n",
      "Rule frozenset({32, 170, 48, 39}) -> frozenset({38}) has consequent count: 15596.0 (18.1%) antencedent count: 215.0 antencedent and concequent count: 213.0 lift: 5.463510918124504\n",
      "Rule frozenset({32, 41, 48, 170}) -> frozenset({38}) has consequent count: 15596.0 (18.1%) antencedent count: 105.0 antencedent and concequent count: 103.0 lift: 5.409767461742327\n",
      "Rule frozenset({32, 41, 48, 38}) -> frozenset({170}) has consequent count: 3099.0 (3.6%) antencedent count: 540.0 antencedent and concequent count: 103.0 lift: 5.293778757783275\n",
      "Rule frozenset({48, 41, 36, 39}) -> frozenset({38}) has consequent count: 15596.0 (18.1%) antencedent count: 343.0 antencedent and concequent count: 334.0 lift: 5.3701079816384105\n",
      "Rule frozenset({48, 41, 38, 39}) -> frozenset({37}) has consequent count: 1074.0 (1.2%) antencedent count: 1991.0 antencedent and concequent count: 151.0 lift: 6.0735876621706435\n",
      "Rule frozenset({48, 41, 37, 39}) -> frozenset({38}) has consequent count: 15596.0 (18.1%) antencedent count: 151.0 antencedent and concequent count: 151.0 lift: 5.514811490125673\n",
      "Rule frozenset({48, 41, 110, 39}) -> frozenset({38}) has consequent count: 15596.0 (18.1%) antencedent count: 347.0 antencedent and concequent count: 346.0 lift: 5.498918661623869\n",
      "Rule frozenset({48, 41, 38, 39}) -> frozenset({110}) has consequent count: 2794.0 (3.2%) antencedent count: 1991.0 antencedent and concequent count: 346.0 lift: 5.3496126268997894\n",
      "Rule frozenset({48, 41, 170, 39}) -> frozenset({38}) has consequent count: 15596.0 (18.1%) antencedent count: 419.0 antencedent and concequent count: 413.0 lift: 5.435840442534374\n",
      "Rule frozenset({48, 41, 38, 39}) -> frozenset({170}) has consequent count: 3099.0 (3.6%) antencedent count: 1991.0 antencedent and concequent count: 413.0 lift: 5.757064745533669\n",
      "Rule frozenset({48, 41, 286, 39}) -> frozenset({38}) has consequent count: 15596.0 (18.1%) antencedent count: 134.0 antencedent and concequent count: 131.0 lift: 5.391345561242263\n",
      "Rule frozenset({48, 41, 790, 39}) -> frozenset({38}) has consequent count: 15596.0 (18.1%) antencedent count: 111.0 antencedent and concequent count: 110.0 lift: 5.4651285037281445\n",
      "Rule frozenset({48, 41, 38, 39}) -> frozenset({790}) has consequent count: 523.0 (0.6%) antencedent count: 1991.0 antencedent and concequent count: 110.0 lift: 9.085809661641823\n",
      "Rule frozenset({48, 89, 170, 39}) -> frozenset({38}) has consequent count: 15596.0 (18.1%) antencedent count: 111.0 antencedent and concequent count: 111.0 lift: 5.514811490125673\n",
      "Rule frozenset({48, 89, 38, 39}) -> frozenset({170}) has consequent count: 3099.0 (3.6%) antencedent count: 467.0 antencedent and concequent count: 111.0 lift: 6.5967256136365044\n",
      "Rule frozenset({48, 41, 271, 39}) -> frozenset({270}) has consequent count: 1734.0 (2.0%) antencedent count: 272.0 antencedent and concequent count: 104.0 lift: 18.965279191261278\n",
      "Rule frozenset({48, 41, 270, 39}) -> frozenset({271}) has consequent count: 2094.0 (2.4%) antencedent count: 258.0 antencedent and concequent count: 104.0 lift: 16.556969710431428\n",
      "Rule frozenset({48, 41, 16011, 39}) -> frozenset({16010}) has consequent count: 1316.0 (1.5%) antencedent count: 136.0 antencedent and concequent count: 133.0 lift: 63.9146980600751\n",
      "Rule frozenset({48, 41, 16010, 39}) -> frozenset({16011}) has consequent count: 669.0 (0.8%) antencedent count: 261.0 antencedent and concequent count: 133.0 lift: 65.51321524090969\n"
     ]
    }
   ],
   "source": [
    "minlift = 5.0\n",
    "nr_transactions = float(len(dataset))\n",
    "for itemset in freqsets:\n",
    "    for item in itemset:\n",
    "        consequent = frozenset([item])\n",
    "        antecedent = itemset - consequent\n",
    "        base = 0.0\n",
    "        # acount: antecedent count\n",
    "        acount = 0.0\n",
    "        # ccount : consequent count\n",
    "        ccount = 0.0\n",
    "        for d in dataset:\n",
    "            if item in d:\n",
    "                base += 1\n",
    "            if d.issuperset(itemset):\n",
    "                ccount += 1\n",
    "            if d.issuperset(antecedent):\n",
    "                acount += 1\n",
    "        base /= nr_transactions\n",
    "        p_y_given_x = ccount / acount\n",
    "        lift = p_y_given_x / base\n",
    "        if lift > minlift:\n",
    "            print('Rule {0} -> {1} has consequent count: {2:.1f} ({3:.1f}%) antencedent count: {4} antencedent and concequent count: {5} lift: {6}'.format(antecedent, consequent, base*nr_transactions, base*100, acount, ccount, lift))"
   ]
  },
  {
   "cell_type": "markdown",
   "metadata": {},
   "source": [
    "Some of the results are shown in the following table. The counts are the number of transactions that include the consequent alone (that is, the base rate at which that product is bought), all the items in the antecedent, and all the items in the antecedent and the consequent:\n",
    "| Antecedent         | Consequent | Consequent count   | Antecedent count | Antecedent and consequent count | Lift |\n",
    "| ------------------ | ---------- | ------------------ | ---------------- | ------------------------------- | ---  |\n",
    "| 48, 41, 270, 39    | 271        | 2094 (2.4 percent) | 258              | 104                             | 17   |\n",
    "| 48, 41, 1,6011, 39 | 16010      | 1316 (1.5 percent) | 136              | 133                             | 64   |\n",
    "| 48, 41, 1,6010, 39 | 16011      | 669 (0.8 percent)  | 261              | 133                             | 66   |"
   ]
  },
  {
   "cell_type": "markdown",
   "metadata": {},
   "source": [
    "It can be seen, for example, that there were 258 transactions in which 48, 41, 270, and 139 were bought together. Of these, 104 also included 271, so the estimated conditional probability is 104/258 ≈ 40 percent. Compared to the fact that only 2.4 percent of all transactions included 271, this gives a lift of 17."
   ]
  },
  {
   "cell_type": "markdown",
   "metadata": {},
   "source": [
    "The need to have a decent number of transactions in these counts in order to be able to make relatively solid inferences is why frequent itemsets must be first selected. If rules were generated from an infrequent itemset, the counts would be very small; because of this, the relative values would be meaningless (or subject to very large error bars)."
   ]
  },
  {
   "cell_type": "markdown",
   "metadata": {},
   "source": [
    "Note that there are many more association rules discovered from this dataset: the algorithm discovers 1030 rules (requiring support for the baskets of at least 100 and a minimum lift of 5). With datasets containing millions of transactions, many thousands of rules, even millions can be expected to be generated."
   ]
  },
  {
   "cell_type": "markdown",
   "metadata": {},
   "source": [
    "However, for each customer or product, only a few rules will be relevant at any given time. So each customer only receives a small number of recommendations."
   ]
  },
  {
   "cell_type": "markdown",
   "metadata": {},
   "source": [
    "## More advanced basket analysis"
   ]
  },
  {
   "cell_type": "markdown",
   "metadata": {},
   "source": [
    "There are now other algorithms for basket analysis that run faster than Apriori. Note, though, that learning association rules can often be done offline, where efficiency is not as great a concern."
   ]
  },
  {
   "cell_type": "markdown",
   "metadata": {},
   "source": [
    "There are also methods that can be used to work with temporal information, leading to rules that take into account the order in which the purchases have been made. Consider, as an example, that someone buying supplies for a large party may come back for trash bags. It may make sense to propose trash bags on the first visit. However, it would not make sense to propose party supplies to everyone who buys a trash bag."
   ]
  }
 ],
 "metadata": {
  "kernelspec": {
   "display_name": "Python 3.9.12 ('tf')",
   "language": "python",
   "name": "python3"
  },
  "language_info": {
   "codemirror_mode": {
    "name": "ipython",
    "version": 3
   },
   "file_extension": ".py",
   "mimetype": "text/x-python",
   "name": "python",
   "nbconvert_exporter": "python",
   "pygments_lexer": "ipython3",
   "version": "3.9.12"
  },
  "orig_nbformat": 4,
  "vscode": {
   "interpreter": {
    "hash": "bb10c97395ea5cdf25b3e4cc1279b09c9151507c5eaa579e2929031795931c93"
   }
  }
 },
 "nbformat": 4,
 "nbformat_minor": 2
}
